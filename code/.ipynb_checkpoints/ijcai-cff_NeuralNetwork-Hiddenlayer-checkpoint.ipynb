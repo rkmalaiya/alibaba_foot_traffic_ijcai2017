{
 "cells": [
  {
   "cell_type": "code",
   "execution_count": 1,
   "metadata": {
    "ExecuteTime": {
     "end_time": "2017-03-18T15:53:16.447792",
     "start_time": "2017-03-18T15:53:13.586796"
    },
    "collapsed": false,
    "deletable": true,
    "editable": true
   },
   "outputs": [],
   "source": [
    "%matplotlib inline\n",
    "%config InlineBackend.figure_format = 'retina'\n",
    "\n",
    "import pandas as pd\n",
    "from pandas.tools.plotting import autocorrelation_plot\n",
    "import numpy as np\n",
    "from matplotlib import pyplot as plt\n",
    "import matplotlib\n",
    "\n",
    "import sqlite3\n",
    "from sqlalchemy import create_engine\n",
    "\n",
    "import os.path\n",
    "\n",
    "matplotlib.style.use('ggplot')\n",
    "pd.set_option(\"display.max_rows\",10)\n",
    "plt.rcParams[\"figure.figsize\"]  = [10,7] # width, height"
   ]
  },
  {
   "cell_type": "code",
   "execution_count": 2,
   "metadata": {
    "ExecuteTime": {
     "end_time": "2017-03-18T15:53:16.481178",
     "start_time": "2017-03-18T15:53:16.450489"
    },
    "collapsed": true,
    "deletable": true,
    "editable": true
   },
   "outputs": [],
   "source": [
    "conn = create_engine('sqlite:///../dataset/ijcai_cff_2017.db')\n",
    "no_of_shops = 2000"
   ]
  },
  {
   "cell_type": "code",
   "execution_count": 3,
   "metadata": {
    "ExecuteTime": {
     "end_time": "2017-03-18T15:53:16.525977",
     "start_time": "2017-03-18T15:53:16.484215"
    },
    "collapsed": false,
    "deletable": true,
    "editable": true
   },
   "outputs": [],
   "source": [
    "all_shop_ids = np.arange(start=1, stop = (no_of_shops+1))\n",
    "shops = pd.DataFrame({\"shop_id\":all_shop_ids})\n",
    "shops.to_sql(\"shops\", index = False, con = conn, if_exists='replace')"
   ]
  },
  {
   "cell_type": "code",
   "execution_count": 4,
   "metadata": {
    "ExecuteTime": {
     "end_time": "2017-03-18T15:53:18.687561",
     "start_time": "2017-03-18T15:53:16.529272"
    },
    "collapsed": false,
    "deletable": true,
    "editable": true
   },
   "outputs": [
    {
     "data": {
      "text/html": [
       "<div>\n",
       "<table border=\"1\" class=\"dataframe\">\n",
       "  <thead>\n",
       "    <tr style=\"text-align: right;\">\n",
       "      <th></th>\n",
       "      <th>shop_id</th>\n",
       "      <th>input_foot_traffic</th>\n",
       "      <th>ts</th>\n",
       "    </tr>\n",
       "  </thead>\n",
       "  <tbody>\n",
       "    <tr>\n",
       "      <th>0</th>\n",
       "      <td>1</td>\n",
       "      <td>NaN</td>\n",
       "      <td>2015-10-10</td>\n",
       "    </tr>\n",
       "    <tr>\n",
       "      <th>1</th>\n",
       "      <td>1</td>\n",
       "      <td>NaN</td>\n",
       "      <td>2015-10-11</td>\n",
       "    </tr>\n",
       "    <tr>\n",
       "      <th>2</th>\n",
       "      <td>1</td>\n",
       "      <td>NaN</td>\n",
       "      <td>2015-10-12</td>\n",
       "    </tr>\n",
       "    <tr>\n",
       "      <th>3</th>\n",
       "      <td>1</td>\n",
       "      <td>NaN</td>\n",
       "      <td>2015-10-13</td>\n",
       "    </tr>\n",
       "    <tr>\n",
       "      <th>4</th>\n",
       "      <td>1</td>\n",
       "      <td>NaN</td>\n",
       "      <td>2015-10-14</td>\n",
       "    </tr>\n",
       "    <tr>\n",
       "      <th>...</th>\n",
       "      <td>...</td>\n",
       "      <td>...</td>\n",
       "      <td>...</td>\n",
       "    </tr>\n",
       "    <tr>\n",
       "      <th>607033</th>\n",
       "      <td>2000</td>\n",
       "      <td>148.0</td>\n",
       "      <td>2016-10-27</td>\n",
       "    </tr>\n",
       "    <tr>\n",
       "      <th>607034</th>\n",
       "      <td>2000</td>\n",
       "      <td>145.0</td>\n",
       "      <td>2016-10-28</td>\n",
       "    </tr>\n",
       "    <tr>\n",
       "      <th>607035</th>\n",
       "      <td>2000</td>\n",
       "      <td>78.0</td>\n",
       "      <td>2016-10-29</td>\n",
       "    </tr>\n",
       "    <tr>\n",
       "      <th>607036</th>\n",
       "      <td>2000</td>\n",
       "      <td>70.0</td>\n",
       "      <td>2016-10-30</td>\n",
       "    </tr>\n",
       "    <tr>\n",
       "      <th>607037</th>\n",
       "      <td>2000</td>\n",
       "      <td>183.0</td>\n",
       "      <td>2016-10-31</td>\n",
       "    </tr>\n",
       "  </tbody>\n",
       "</table>\n",
       "<p>607038 rows × 3 columns</p>\n",
       "</div>"
      ],
      "text/plain": [
       "        shop_id  input_foot_traffic          ts\n",
       "0             1                 NaN  2015-10-10\n",
       "1             1                 NaN  2015-10-11\n",
       "2             1                 NaN  2015-10-12\n",
       "3             1                 NaN  2015-10-13\n",
       "4             1                 NaN  2015-10-14\n",
       "...         ...                 ...         ...\n",
       "607033     2000               148.0  2016-10-27\n",
       "607034     2000               145.0  2016-10-28\n",
       "607035     2000                78.0  2016-10-29\n",
       "607036     2000                70.0  2016-10-30\n",
       "607037     2000               183.0  2016-10-31\n",
       "\n",
       "[607038 rows x 3 columns]"
      ]
     },
     "execution_count": 4,
     "metadata": {},
     "output_type": "execute_result"
    }
   ],
   "source": [
    "train_data_raw = pd.read_sql_query(\"select s.shop_id, \\\n",
    "(d.total_view + d.total_pay) as input_foot_traffic, date(d.ts) as ts \"\n",
    "                                   \"from shops s LEFT OUTER JOIN train_data d ON s.shop_id = d.shop_id \", \n",
    "                               con = conn)\n",
    "train_data_raw"
   ]
  },
  {
   "cell_type": "code",
   "execution_count": 5,
   "metadata": {
    "ExecuteTime": {
     "end_time": "2017-03-18T15:53:18.709667",
     "start_time": "2017-03-18T15:53:18.690352"
    },
    "collapsed": false,
    "deletable": true,
    "editable": true
   },
   "outputs": [
    {
     "name": "stdout",
     "output_type": "stream",
     "text": [
      "2000\n",
      "[   1    2    3 ..., 1998 1999 2000]\n",
      "(2000,)\n",
      "1000.5\n"
     ]
    }
   ],
   "source": [
    "print(train_data_raw.shop_id.unique().size)\n",
    "print(train_data_raw.shop_id.unique())\n",
    "print(np.array(train_data_raw.shop_id.unique()).shape)\n",
    "print(np.mean(train_data_raw.shop_id.unique()))"
   ]
  },
  {
   "cell_type": "code",
   "execution_count": 6,
   "metadata": {
    "ExecuteTime": {
     "end_time": "2017-03-18T15:53:18.719821",
     "start_time": "2017-03-18T15:53:18.712509"
    },
    "collapsed": true,
    "deletable": true,
    "editable": true
   },
   "outputs": [],
   "source": [
    "train_data = train_data_raw.drop(\"ts\", axis = 1)"
   ]
  },
  {
   "cell_type": "code",
   "execution_count": 7,
   "metadata": {
    "ExecuteTime": {
     "end_time": "2017-03-18T15:53:18.889654",
     "start_time": "2017-03-18T15:53:18.723056"
    },
    "collapsed": false,
    "deletable": true,
    "editable": true
   },
   "outputs": [
    {
     "data": {
      "text/html": [
       "<div>\n",
       "<table border=\"1\" class=\"dataframe\">\n",
       "  <thead>\n",
       "    <tr style=\"text-align: right;\">\n",
       "      <th></th>\n",
       "      <th>shop_id</th>\n",
       "      <th>input_foot_traffic</th>\n",
       "      <th>day</th>\n",
       "      <th>period</th>\n",
       "      <th>output_foot_traffic</th>\n",
       "    </tr>\n",
       "  </thead>\n",
       "  <tbody>\n",
       "    <tr>\n",
       "      <th>0</th>\n",
       "      <td>1</td>\n",
       "      <td>NaN</td>\n",
       "      <td>0</td>\n",
       "      <td>0</td>\n",
       "      <td>NaN</td>\n",
       "    </tr>\n",
       "    <tr>\n",
       "      <th>1</th>\n",
       "      <td>1</td>\n",
       "      <td>NaN</td>\n",
       "      <td>1</td>\n",
       "      <td>0</td>\n",
       "      <td>NaN</td>\n",
       "    </tr>\n",
       "    <tr>\n",
       "      <th>2</th>\n",
       "      <td>1</td>\n",
       "      <td>NaN</td>\n",
       "      <td>2</td>\n",
       "      <td>0</td>\n",
       "      <td>NaN</td>\n",
       "    </tr>\n",
       "    <tr>\n",
       "      <th>3</th>\n",
       "      <td>1</td>\n",
       "      <td>NaN</td>\n",
       "      <td>3</td>\n",
       "      <td>0</td>\n",
       "      <td>NaN</td>\n",
       "    </tr>\n",
       "    <tr>\n",
       "      <th>4</th>\n",
       "      <td>1</td>\n",
       "      <td>NaN</td>\n",
       "      <td>4</td>\n",
       "      <td>0</td>\n",
       "      <td>NaN</td>\n",
       "    </tr>\n",
       "    <tr>\n",
       "      <th>...</th>\n",
       "      <td>...</td>\n",
       "      <td>...</td>\n",
       "      <td>...</td>\n",
       "      <td>...</td>\n",
       "      <td>...</td>\n",
       "    </tr>\n",
       "    <tr>\n",
       "      <th>607033</th>\n",
       "      <td>2000</td>\n",
       "      <td>148.0</td>\n",
       "      <td>13</td>\n",
       "      <td>40468</td>\n",
       "      <td>145.0</td>\n",
       "    </tr>\n",
       "    <tr>\n",
       "      <th>607034</th>\n",
       "      <td>2000</td>\n",
       "      <td>145.0</td>\n",
       "      <td>14</td>\n",
       "      <td>40468</td>\n",
       "      <td>78.0</td>\n",
       "    </tr>\n",
       "    <tr>\n",
       "      <th>607035</th>\n",
       "      <td>2000</td>\n",
       "      <td>78.0</td>\n",
       "      <td>0</td>\n",
       "      <td>40469</td>\n",
       "      <td>70.0</td>\n",
       "    </tr>\n",
       "    <tr>\n",
       "      <th>607036</th>\n",
       "      <td>2000</td>\n",
       "      <td>70.0</td>\n",
       "      <td>1</td>\n",
       "      <td>40469</td>\n",
       "      <td>183.0</td>\n",
       "    </tr>\n",
       "    <tr>\n",
       "      <th>607037</th>\n",
       "      <td>2000</td>\n",
       "      <td>183.0</td>\n",
       "      <td>2</td>\n",
       "      <td>40469</td>\n",
       "      <td>NaN</td>\n",
       "    </tr>\n",
       "  </tbody>\n",
       "</table>\n",
       "<p>607038 rows × 5 columns</p>\n",
       "</div>"
      ],
      "text/plain": [
       "        shop_id  input_foot_traffic  day  period  output_foot_traffic\n",
       "0             1                 NaN    0       0                  NaN\n",
       "1             1                 NaN    1       0                  NaN\n",
       "2             1                 NaN    2       0                  NaN\n",
       "3             1                 NaN    3       0                  NaN\n",
       "4             1                 NaN    4       0                  NaN\n",
       "...         ...                 ...  ...     ...                  ...\n",
       "607033     2000               148.0   13   40468                145.0\n",
       "607034     2000               145.0   14   40468                 78.0\n",
       "607035     2000                78.0    0   40469                 70.0\n",
       "607036     2000                70.0    1   40469                183.0\n",
       "607037     2000               183.0    2   40469                  NaN\n",
       "\n",
       "[607038 rows x 5 columns]"
      ]
     },
     "execution_count": 7,
     "metadata": {},
     "output_type": "execute_result"
    }
   ],
   "source": [
    "#train_data = pd.read_sql_query(\"select shop_id, \\\n",
    "#(total_view + total_pay) as input_foot_traffic from train_data where ts > '2016-06-01'\", \n",
    "#                               con = conn)\n",
    "\n",
    "time_split_period = 15\n",
    "time_periods_total = int(train_data.shape[0] / time_split_period) + 1\n",
    "\n",
    "time_day_arr = np.tile(np.arange(0,15), time_periods_total)\n",
    "\n",
    "time_period_arr = [np.full(shape=time_split_period, fill_value=i, dtype=np.int64 ) for i in range(time_periods_total)]\n",
    "time_period_arr = np.concatenate(time_period_arr)\n",
    "\n",
    "train_data[\"day\"] = time_day_arr[0:train_data.shape[0]]\n",
    "train_data[\"period\"] = time_period_arr[0:train_data.shape[0]]\n",
    "train_data['output_foot_traffic'] = train_data.input_foot_traffic.shift(-1)\n",
    "\n",
    "train_data"
   ]
  },
  {
   "cell_type": "code",
   "execution_count": 8,
   "metadata": {
    "ExecuteTime": {
     "end_time": "2017-03-18T15:53:18.910877",
     "start_time": "2017-03-18T15:53:18.892497"
    },
    "collapsed": false,
    "deletable": true,
    "editable": true
   },
   "outputs": [
    {
     "name": "stdout",
     "output_type": "stream",
     "text": [
      "[   1    2    3 ..., 1998 1999 2000]\n",
      "(2000,)\n",
      "1000.5\n"
     ]
    }
   ],
   "source": [
    "print(train_data.shop_id.unique())\n",
    "print(np.array(train_data.shop_id.unique()).shape)\n",
    "print(np.mean(train_data.shop_id.unique()))"
   ]
  },
  {
   "cell_type": "code",
   "execution_count": 9,
   "metadata": {
    "ExecuteTime": {
     "end_time": "2017-03-18T15:53:19.489682",
     "start_time": "2017-03-18T15:53:18.913794"
    },
    "collapsed": true,
    "deletable": true,
    "editable": true
   },
   "outputs": [],
   "source": [
    "train_data_p = train_data.pivot_table(index = ['shop_id', 'period'],\n",
    "                       columns = 'day',\n",
    "                       values = ['input_foot_traffic','output_foot_traffic']\n",
    "                      )"
   ]
  },
  {
   "cell_type": "code",
   "execution_count": 10,
   "metadata": {
    "ExecuteTime": {
     "end_time": "2017-03-18T15:53:19.518299",
     "start_time": "2017-03-18T15:53:19.492876"
    },
    "collapsed": false,
    "deletable": true,
    "editable": true
   },
   "outputs": [
    {
     "name": "stderr",
     "output_type": "stream",
     "text": [
      "/home/ritesh_malaiya/anaconda3/envs/p3/lib/python3.6/site-packages/ipykernel/__main__.py:1: PerformanceWarning: dropping on a non-lexsorted multi-index without a level parameter may impact performance.\n",
      "  if __name__ == '__main__':\n"
     ]
    }
   ],
   "source": [
    "train = train_data_p.dropna(how='all').reset_index().drop('period', axis=1) #\n",
    "train.to_pickle(\"cff_15dayperiod_noNAs.pkl\")"
   ]
  },
  {
   "cell_type": "code",
   "execution_count": 11,
   "metadata": {
    "ExecuteTime": {
     "end_time": "2017-03-18T15:53:19.531964",
     "start_time": "2017-03-18T15:53:19.521288"
    },
    "collapsed": false,
    "deletable": true,
    "editable": true
   },
   "outputs": [
    {
     "name": "stdout",
     "output_type": "stream",
     "text": [
      "[   1    2    3 ..., 1998 1999 2000]\n",
      "(1997,)\n",
      "1000.81822734\n"
     ]
    }
   ],
   "source": [
    "print(train.shop_id.unique())\n",
    "print(np.array(train.shop_id.unique()).shape)\n",
    "print(np.mean(train.shop_id.unique()))"
   ]
  },
  {
   "cell_type": "code",
   "execution_count": 12,
   "metadata": {
    "ExecuteTime": {
     "end_time": "2017-03-18T15:53:19.564016",
     "start_time": "2017-03-18T15:53:19.536348"
    },
    "collapsed": false,
    "deletable": true,
    "editable": true
   },
   "outputs": [
    {
     "name": "stdout",
     "output_type": "stream",
     "text": [
      "Missing Shop IDs: [ 247  367 1752]\n"
     ]
    }
   ],
   "source": [
    "missing_shop_ids = all_shop_ids[np.invert(\n",
    "    np.in1d(all_shop_ids, \n",
    "            train.shop_id.unique()))]\n",
    "\n",
    "print(\"Missing Shop IDs: {}\".format(missing_shop_ids))\n",
    "        "
   ]
  },
  {
   "cell_type": "code",
   "execution_count": 13,
   "metadata": {
    "ExecuteTime": {
     "end_time": "2017-03-18T15:53:20.164304",
     "start_time": "2017-03-18T15:53:19.567094"
    },
    "collapsed": false,
    "deletable": true,
    "editable": true
   },
   "outputs": [
    {
     "data": {
      "text/html": [
       "<div>\n",
       "<table border=\"1\" class=\"dataframe\">\n",
       "  <thead>\n",
       "    <tr style=\"text-align: right;\">\n",
       "      <th></th>\n",
       "      <th>user_id</th>\n",
       "      <th>shop_id</th>\n",
       "      <th>time_stamp</th>\n",
       "    </tr>\n",
       "  </thead>\n",
       "  <tbody>\n",
       "  </tbody>\n",
       "</table>\n",
       "</div>"
      ],
      "text/plain": [
       "Empty DataFrame\n",
       "Columns: [user_id, shop_id, time_stamp]\n",
       "Index: []"
      ]
     },
     "execution_count": 13,
     "metadata": {},
     "output_type": "execute_result"
    }
   ],
   "source": [
    "pd.read_sql_query(\"select * from user_view where shop_id in ({}) limit 10 \"\n",
    "                  .format(','\n",
    "                          .join([str(i) for i in missing_shop_ids])), con = conn)"
   ]
  },
  {
   "cell_type": "code",
   "execution_count": 14,
   "metadata": {
    "ExecuteTime": {
     "end_time": "2017-03-18T15:53:21.496754",
     "start_time": "2017-03-18T15:53:20.167131"
    },
    "collapsed": false,
    "deletable": true,
    "editable": true
   },
   "outputs": [
    {
     "data": {
      "text/html": [
       "<div>\n",
       "<table border=\"1\" class=\"dataframe\">\n",
       "  <thead>\n",
       "    <tr style=\"text-align: right;\">\n",
       "      <th></th>\n",
       "      <th>user_id</th>\n",
       "      <th>shop_id</th>\n",
       "      <th>time_stamp</th>\n",
       "    </tr>\n",
       "  </thead>\n",
       "  <tbody>\n",
       "    <tr>\n",
       "      <th>0</th>\n",
       "      <td>14965213</td>\n",
       "      <td>367</td>\n",
       "      <td>2016-08-04 20:00:00</td>\n",
       "    </tr>\n",
       "    <tr>\n",
       "      <th>1</th>\n",
       "      <td>14965213</td>\n",
       "      <td>367</td>\n",
       "      <td>2016-09-03 19:00:00</td>\n",
       "    </tr>\n",
       "    <tr>\n",
       "      <th>2</th>\n",
       "      <td>15601548</td>\n",
       "      <td>367</td>\n",
       "      <td>2016-08-09 08:00:00</td>\n",
       "    </tr>\n",
       "    <tr>\n",
       "      <th>3</th>\n",
       "      <td>17267584</td>\n",
       "      <td>367</td>\n",
       "      <td>2016-10-19 15:00:00</td>\n",
       "    </tr>\n",
       "    <tr>\n",
       "      <th>4</th>\n",
       "      <td>16076418</td>\n",
       "      <td>367</td>\n",
       "      <td>2016-09-08 08:00:00</td>\n",
       "    </tr>\n",
       "    <tr>\n",
       "      <th>5</th>\n",
       "      <td>18177797</td>\n",
       "      <td>367</td>\n",
       "      <td>2016-09-18 16:00:00</td>\n",
       "    </tr>\n",
       "    <tr>\n",
       "      <th>6</th>\n",
       "      <td>8969376</td>\n",
       "      <td>367</td>\n",
       "      <td>2016-10-12 19:00:00</td>\n",
       "    </tr>\n",
       "    <tr>\n",
       "      <th>7</th>\n",
       "      <td>8054910</td>\n",
       "      <td>367</td>\n",
       "      <td>2016-08-31 20:00:00</td>\n",
       "    </tr>\n",
       "    <tr>\n",
       "      <th>8</th>\n",
       "      <td>12606064</td>\n",
       "      <td>367</td>\n",
       "      <td>2016-10-14 17:00:00</td>\n",
       "    </tr>\n",
       "    <tr>\n",
       "      <th>9</th>\n",
       "      <td>218697</td>\n",
       "      <td>367</td>\n",
       "      <td>2016-10-29 18:00:00</td>\n",
       "    </tr>\n",
       "  </tbody>\n",
       "</table>\n",
       "</div>"
      ],
      "text/plain": [
       "    user_id  shop_id           time_stamp\n",
       "0  14965213      367  2016-08-04 20:00:00\n",
       "1  14965213      367  2016-09-03 19:00:00\n",
       "2  15601548      367  2016-08-09 08:00:00\n",
       "3  17267584      367  2016-10-19 15:00:00\n",
       "4  16076418      367  2016-09-08 08:00:00\n",
       "5  18177797      367  2016-09-18 16:00:00\n",
       "6   8969376      367  2016-10-12 19:00:00\n",
       "7   8054910      367  2016-08-31 20:00:00\n",
       "8  12606064      367  2016-10-14 17:00:00\n",
       "9    218697      367  2016-10-29 18:00:00"
      ]
     },
     "execution_count": 14,
     "metadata": {},
     "output_type": "execute_result"
    }
   ],
   "source": [
    "pd.read_sql_query(\"select * from user_pay where shop_id in ({}) limit 10 \"\n",
    "                  .format(','\n",
    "                          .join([str(i) for i in missing_shop_ids])), con = conn)"
   ]
  },
  {
   "cell_type": "markdown",
   "metadata": {
    "deletable": true,
    "editable": true,
    "slideshow": {
     "slide_type": "skip"
    }
   },
   "source": [
    "##### Checkpoint #1"
   ]
  },
  {
   "cell_type": "markdown",
   "metadata": {
    "deletable": true,
    "editable": true,
    "slideshow": {
     "slide_type": "slide"
    }
   },
   "source": [
    "# Deep Learning Approach \n",
    "\n",
    "There are 2 significant parts of data.\n",
    "- Shop details\n",
    "- Past foot traffic\n",
    "\n",
    "As part of Deep Learning approach, we will:\n",
    "- Fit a model for foot traffic\n",
    "- Cluster data to generate extra features to overcome issues of Sparse data\n",
    "- Fit a model to improve accuracy by utilizing Shop details"
   ]
  },
  {
   "cell_type": "markdown",
   "metadata": {
    "deletable": true,
    "editable": true,
    "slideshow": {
     "slide_type": "slide"
    }
   },
   "source": [
    "# Milestones:\n",
    "\n",
    "- Neural Network - 2 layer, with 15 inputs and 1 output\n",
    "- Neural Network - 2 layer, with 15 inputs and 15 output after filtering out stores missing data (No NAs)\n",
    "- Neural Network - 2 layer, with 15 inputs and 15 outputs on Sparse / Full dataset\n",
    "- Neural Network - 3 layer, with 15 inputs, 30 hidden nodes and 15 outputs\n",
    "- Convolutional Network - Cluster similar stores and generate new hidden features. We will be refering to research paper [Clustering using Convolution](https://arxiv.org/abs/1511.06241 \"arXiv:1511.06241v2\")\n",
    "- LSTM Network to better learn patterns in foot traffic\n",
    "- Create a Deep Learning architecture using the learnings from above Networks."
   ]
  },
  {
   "cell_type": "markdown",
   "metadata": {
    "deletable": true,
    "editable": true,
    "slideshow": {
     "slide_type": "slide"
    }
   },
   "source": [
    "# Milestone 1:\n",
    "\n",
    "## Reshaping Data\n",
    "In order to create a model in machine learning, we need to have inputs and ouputs. Hence, if we are trying to machine learn daily foot traffic, we will have to divide it in inputs/ouputs. Assuming, we will feed 15 days of data to predict next 15 days, we need to have a 2 matrix of [nx15]. "
   ]
  },
  {
   "cell_type": "code",
   "execution_count": 15,
   "metadata": {
    "ExecuteTime": {
     "end_time": "2017-03-18T15:53:21.508908",
     "start_time": "2017-03-18T15:53:21.499502"
    },
    "collapsed": false,
    "deletable": true,
    "editable": true,
    "slideshow": {
     "slide_type": "skip"
    }
   },
   "outputs": [
    {
     "data": {
      "text/plain": [
       "(18720, 31)"
      ]
     },
     "execution_count": 15,
     "metadata": {},
     "output_type": "execute_result"
    }
   ],
   "source": [
    "data = pd.read_pickle(\"cff_15dayperiod_noNAs.pkl\")\n",
    "data.shape"
   ]
  },
  {
   "cell_type": "code",
   "execution_count": 16,
   "metadata": {
    "ExecuteTime": {
     "end_time": "2017-03-18T15:53:21.523318",
     "start_time": "2017-03-18T15:53:21.511636"
    },
    "collapsed": false,
    "deletable": true,
    "editable": true,
    "slideshow": {
     "slide_type": "subslide"
    }
   },
   "outputs": [
    {
     "name": "stdout",
     "output_type": "stream",
     "text": [
      "[   1    2    3 ..., 1998 1999 2000]\n",
      "(1997,)\n",
      "1000.81822734\n"
     ]
    }
   ],
   "source": [
    "print(data.shop_id.unique())\n",
    "print(np.array(data.shop_id.unique()).shape)\n",
    "print(np.mean(data.shop_id.unique()))"
   ]
  },
  {
   "cell_type": "markdown",
   "metadata": {
    "deletable": true,
    "editable": true,
    "slideshow": {
     "slide_type": "slide"
    }
   },
   "source": [
    "## Scaling and Splitting the data into training, testing, and validation sets\n"
   ]
  },
  {
   "cell_type": "code",
   "execution_count": 17,
   "metadata": {
    "ExecuteTime": {
     "end_time": "2017-03-18T15:53:21.578233",
     "start_time": "2017-03-18T15:53:21.526749"
    },
    "collapsed": false,
    "deletable": true,
    "editable": true
   },
   "outputs": [
    {
     "data": {
      "text/html": [
       "<div>\n",
       "<table border=\"1\" class=\"dataframe\">\n",
       "  <thead>\n",
       "    <tr>\n",
       "      <th></th>\n",
       "      <th>shop_id</th>\n",
       "      <th colspan=\"9\" halign=\"left\">input_foot_traffic</th>\n",
       "      <th>...</th>\n",
       "      <th colspan=\"10\" halign=\"left\">output_foot_traffic</th>\n",
       "    </tr>\n",
       "    <tr>\n",
       "      <th>day</th>\n",
       "      <th></th>\n",
       "      <th>0</th>\n",
       "      <th>1</th>\n",
       "      <th>2</th>\n",
       "      <th>3</th>\n",
       "      <th>4</th>\n",
       "      <th>5</th>\n",
       "      <th>6</th>\n",
       "      <th>7</th>\n",
       "      <th>8</th>\n",
       "      <th>...</th>\n",
       "      <th>5</th>\n",
       "      <th>6</th>\n",
       "      <th>7</th>\n",
       "      <th>8</th>\n",
       "      <th>9</th>\n",
       "      <th>10</th>\n",
       "      <th>11</th>\n",
       "      <th>12</th>\n",
       "      <th>13</th>\n",
       "      <th>14</th>\n",
       "    </tr>\n",
       "  </thead>\n",
       "  <tbody>\n",
       "    <tr>\n",
       "      <th>0</th>\n",
       "      <td>1</td>\n",
       "      <td>NaN</td>\n",
       "      <td>NaN</td>\n",
       "      <td>NaN</td>\n",
       "      <td>NaN</td>\n",
       "      <td>NaN</td>\n",
       "      <td>NaN</td>\n",
       "      <td>NaN</td>\n",
       "      <td>NaN</td>\n",
       "      <td>NaN</td>\n",
       "      <td>...</td>\n",
       "      <td>NaN</td>\n",
       "      <td>NaN</td>\n",
       "      <td>NaN</td>\n",
       "      <td>NaN</td>\n",
       "      <td>NaN</td>\n",
       "      <td>NaN</td>\n",
       "      <td>NaN</td>\n",
       "      <td>NaN</td>\n",
       "      <td>NaN</td>\n",
       "      <td>178.0</td>\n",
       "    </tr>\n",
       "    <tr>\n",
       "      <th>1</th>\n",
       "      <td>1</td>\n",
       "      <td>178.0</td>\n",
       "      <td>233.0</td>\n",
       "      <td>250.0</td>\n",
       "      <td>234.0</td>\n",
       "      <td>230.0</td>\n",
       "      <td>237.0</td>\n",
       "      <td>191.0</td>\n",
       "      <td>254.0</td>\n",
       "      <td>261.0</td>\n",
       "      <td>...</td>\n",
       "      <td>191.0</td>\n",
       "      <td>254.0</td>\n",
       "      <td>261.0</td>\n",
       "      <td>268.0</td>\n",
       "      <td>218.0</td>\n",
       "      <td>224.0</td>\n",
       "      <td>260.0</td>\n",
       "      <td>267.0</td>\n",
       "      <td>243.0</td>\n",
       "      <td>272.0</td>\n",
       "    </tr>\n",
       "    <tr>\n",
       "      <th>2</th>\n",
       "      <td>1</td>\n",
       "      <td>272.0</td>\n",
       "      <td>320.0</td>\n",
       "      <td>262.0</td>\n",
       "      <td>275.0</td>\n",
       "      <td>297.0</td>\n",
       "      <td>243.0</td>\n",
       "      <td>220.0</td>\n",
       "      <td>237.0</td>\n",
       "      <td>265.0</td>\n",
       "      <td>...</td>\n",
       "      <td>220.0</td>\n",
       "      <td>237.0</td>\n",
       "      <td>265.0</td>\n",
       "      <td>288.0</td>\n",
       "      <td>233.0</td>\n",
       "      <td>259.0</td>\n",
       "      <td>266.0</td>\n",
       "      <td>248.0</td>\n",
       "      <td>262.0</td>\n",
       "      <td>NaN</td>\n",
       "    </tr>\n",
       "    <tr>\n",
       "      <th>3</th>\n",
       "      <td>1</td>\n",
       "      <td>NaN</td>\n",
       "      <td>270.0</td>\n",
       "      <td>256.0</td>\n",
       "      <td>NaN</td>\n",
       "      <td>225.0</td>\n",
       "      <td>281.0</td>\n",
       "      <td>236.0</td>\n",
       "      <td>290.0</td>\n",
       "      <td>280.0</td>\n",
       "      <td>...</td>\n",
       "      <td>236.0</td>\n",
       "      <td>290.0</td>\n",
       "      <td>280.0</td>\n",
       "      <td>225.0</td>\n",
       "      <td>264.0</td>\n",
       "      <td>233.0</td>\n",
       "      <td>424.0</td>\n",
       "      <td>419.0</td>\n",
       "      <td>539.0</td>\n",
       "      <td>267.0</td>\n",
       "    </tr>\n",
       "    <tr>\n",
       "      <th>4</th>\n",
       "      <td>1</td>\n",
       "      <td>267.0</td>\n",
       "      <td>282.0</td>\n",
       "      <td>302.0</td>\n",
       "      <td>343.0</td>\n",
       "      <td>265.0</td>\n",
       "      <td>284.0</td>\n",
       "      <td>273.0</td>\n",
       "      <td>294.0</td>\n",
       "      <td>285.0</td>\n",
       "      <td>...</td>\n",
       "      <td>273.0</td>\n",
       "      <td>294.0</td>\n",
       "      <td>285.0</td>\n",
       "      <td>257.0</td>\n",
       "      <td>272.0</td>\n",
       "      <td>267.0</td>\n",
       "      <td>310.0</td>\n",
       "      <td>261.0</td>\n",
       "      <td>253.0</td>\n",
       "      <td>266.0</td>\n",
       "    </tr>\n",
       "    <tr>\n",
       "      <th>...</th>\n",
       "      <td>...</td>\n",
       "      <td>...</td>\n",
       "      <td>...</td>\n",
       "      <td>...</td>\n",
       "      <td>...</td>\n",
       "      <td>...</td>\n",
       "      <td>...</td>\n",
       "      <td>...</td>\n",
       "      <td>...</td>\n",
       "      <td>...</td>\n",
       "      <td>...</td>\n",
       "      <td>...</td>\n",
       "      <td>...</td>\n",
       "      <td>...</td>\n",
       "      <td>...</td>\n",
       "      <td>...</td>\n",
       "      <td>...</td>\n",
       "      <td>...</td>\n",
       "      <td>...</td>\n",
       "      <td>...</td>\n",
       "      <td>...</td>\n",
       "    </tr>\n",
       "    <tr>\n",
       "      <th>18715</th>\n",
       "      <td>2000</td>\n",
       "      <td>212.0</td>\n",
       "      <td>210.0</td>\n",
       "      <td>170.0</td>\n",
       "      <td>156.0</td>\n",
       "      <td>88.0</td>\n",
       "      <td>NaN</td>\n",
       "      <td>NaN</td>\n",
       "      <td>NaN</td>\n",
       "      <td>NaN</td>\n",
       "      <td>...</td>\n",
       "      <td>NaN</td>\n",
       "      <td>NaN</td>\n",
       "      <td>NaN</td>\n",
       "      <td>176.0</td>\n",
       "      <td>179.0</td>\n",
       "      <td>136.0</td>\n",
       "      <td>123.0</td>\n",
       "      <td>149.0</td>\n",
       "      <td>125.0</td>\n",
       "      <td>135.0</td>\n",
       "    </tr>\n",
       "    <tr>\n",
       "      <th>18716</th>\n",
       "      <td>2000</td>\n",
       "      <td>135.0</td>\n",
       "      <td>31.0</td>\n",
       "      <td>51.0</td>\n",
       "      <td>52.0</td>\n",
       "      <td>162.0</td>\n",
       "      <td>166.0</td>\n",
       "      <td>170.0</td>\n",
       "      <td>160.0</td>\n",
       "      <td>187.0</td>\n",
       "      <td>...</td>\n",
       "      <td>170.0</td>\n",
       "      <td>160.0</td>\n",
       "      <td>187.0</td>\n",
       "      <td>142.0</td>\n",
       "      <td>53.0</td>\n",
       "      <td>70.0</td>\n",
       "      <td>162.0</td>\n",
       "      <td>182.0</td>\n",
       "      <td>138.0</td>\n",
       "      <td>127.0</td>\n",
       "    </tr>\n",
       "    <tr>\n",
       "      <th>18717</th>\n",
       "      <td>2000</td>\n",
       "      <td>127.0</td>\n",
       "      <td>159.0</td>\n",
       "      <td>43.0</td>\n",
       "      <td>43.0</td>\n",
       "      <td>53.0</td>\n",
       "      <td>37.0</td>\n",
       "      <td>38.0</td>\n",
       "      <td>80.0</td>\n",
       "      <td>79.0</td>\n",
       "      <td>...</td>\n",
       "      <td>38.0</td>\n",
       "      <td>80.0</td>\n",
       "      <td>79.0</td>\n",
       "      <td>174.0</td>\n",
       "      <td>200.0</td>\n",
       "      <td>196.0</td>\n",
       "      <td>187.0</td>\n",
       "      <td>192.0</td>\n",
       "      <td>212.0</td>\n",
       "      <td>162.0</td>\n",
       "    </tr>\n",
       "    <tr>\n",
       "      <th>18718</th>\n",
       "      <td>2000</td>\n",
       "      <td>162.0</td>\n",
       "      <td>87.0</td>\n",
       "      <td>64.0</td>\n",
       "      <td>179.0</td>\n",
       "      <td>175.0</td>\n",
       "      <td>178.0</td>\n",
       "      <td>200.0</td>\n",
       "      <td>151.0</td>\n",
       "      <td>72.0</td>\n",
       "      <td>...</td>\n",
       "      <td>200.0</td>\n",
       "      <td>151.0</td>\n",
       "      <td>72.0</td>\n",
       "      <td>63.0</td>\n",
       "      <td>181.0</td>\n",
       "      <td>195.0</td>\n",
       "      <td>197.0</td>\n",
       "      <td>148.0</td>\n",
       "      <td>145.0</td>\n",
       "      <td>78.0</td>\n",
       "    </tr>\n",
       "    <tr>\n",
       "      <th>18719</th>\n",
       "      <td>2000</td>\n",
       "      <td>78.0</td>\n",
       "      <td>70.0</td>\n",
       "      <td>183.0</td>\n",
       "      <td>NaN</td>\n",
       "      <td>NaN</td>\n",
       "      <td>NaN</td>\n",
       "      <td>NaN</td>\n",
       "      <td>NaN</td>\n",
       "      <td>NaN</td>\n",
       "      <td>...</td>\n",
       "      <td>NaN</td>\n",
       "      <td>NaN</td>\n",
       "      <td>NaN</td>\n",
       "      <td>NaN</td>\n",
       "      <td>NaN</td>\n",
       "      <td>NaN</td>\n",
       "      <td>NaN</td>\n",
       "      <td>NaN</td>\n",
       "      <td>NaN</td>\n",
       "      <td>NaN</td>\n",
       "    </tr>\n",
       "  </tbody>\n",
       "</table>\n",
       "<p>18720 rows × 31 columns</p>\n",
       "</div>"
      ],
      "text/plain": [
       "      shop_id input_foot_traffic                                            \\\n",
       "day                            0      1      2      3      4      5      6   \n",
       "0           1                NaN    NaN    NaN    NaN    NaN    NaN    NaN   \n",
       "1           1              178.0  233.0  250.0  234.0  230.0  237.0  191.0   \n",
       "2           1              272.0  320.0  262.0  275.0  297.0  243.0  220.0   \n",
       "3           1                NaN  270.0  256.0    NaN  225.0  281.0  236.0   \n",
       "4           1              267.0  282.0  302.0  343.0  265.0  284.0  273.0   \n",
       "...       ...                ...    ...    ...    ...    ...    ...    ...   \n",
       "18715    2000              212.0  210.0  170.0  156.0   88.0    NaN    NaN   \n",
       "18716    2000              135.0   31.0   51.0   52.0  162.0  166.0  170.0   \n",
       "18717    2000              127.0  159.0   43.0   43.0   53.0   37.0   38.0   \n",
       "18718    2000              162.0   87.0   64.0  179.0  175.0  178.0  200.0   \n",
       "18719    2000               78.0   70.0  183.0    NaN    NaN    NaN    NaN   \n",
       "\n",
       "                     ...   output_foot_traffic                              \\\n",
       "day        7      8  ...                     5      6      7      8      9   \n",
       "0        NaN    NaN  ...                   NaN    NaN    NaN    NaN    NaN   \n",
       "1      254.0  261.0  ...                 191.0  254.0  261.0  268.0  218.0   \n",
       "2      237.0  265.0  ...                 220.0  237.0  265.0  288.0  233.0   \n",
       "3      290.0  280.0  ...                 236.0  290.0  280.0  225.0  264.0   \n",
       "4      294.0  285.0  ...                 273.0  294.0  285.0  257.0  272.0   \n",
       "...      ...    ...  ...                   ...    ...    ...    ...    ...   \n",
       "18715    NaN    NaN  ...                   NaN    NaN    NaN  176.0  179.0   \n",
       "18716  160.0  187.0  ...                 170.0  160.0  187.0  142.0   53.0   \n",
       "18717   80.0   79.0  ...                  38.0   80.0   79.0  174.0  200.0   \n",
       "18718  151.0   72.0  ...                 200.0  151.0   72.0   63.0  181.0   \n",
       "18719    NaN    NaN  ...                   NaN    NaN    NaN    NaN    NaN   \n",
       "\n",
       "                                          \n",
       "day       10     11     12     13     14  \n",
       "0        NaN    NaN    NaN    NaN  178.0  \n",
       "1      224.0  260.0  267.0  243.0  272.0  \n",
       "2      259.0  266.0  248.0  262.0    NaN  \n",
       "3      233.0  424.0  419.0  539.0  267.0  \n",
       "4      267.0  310.0  261.0  253.0  266.0  \n",
       "...      ...    ...    ...    ...    ...  \n",
       "18715  136.0  123.0  149.0  125.0  135.0  \n",
       "18716   70.0  162.0  182.0  138.0  127.0  \n",
       "18717  196.0  187.0  192.0  212.0  162.0  \n",
       "18718  195.0  197.0  148.0  145.0   78.0  \n",
       "18719    NaN    NaN    NaN    NaN    NaN  \n",
       "\n",
       "[18720 rows x 31 columns]"
      ]
     },
     "execution_count": 17,
     "metadata": {},
     "output_type": "execute_result"
    }
   ],
   "source": [
    "data"
   ]
  },
  {
   "cell_type": "code",
   "execution_count": 18,
   "metadata": {
    "ExecuteTime": {
     "end_time": "2017-03-18T15:53:21.593518",
     "start_time": "2017-03-18T15:53:21.581922"
    },
    "collapsed": false,
    "deletable": true,
    "editable": true,
    "slideshow": {
     "slide_type": "skip"
    }
   },
   "outputs": [],
   "source": [
    "X = data.loc[:,'input_foot_traffic']\n",
    "y = data.loc[:,'output_foot_traffic']\n",
    "shop_id = data.loc[:,'shop_id']\n",
    "X_shop_id = pd.concat([shop_id, X], axis = 1)"
   ]
  },
  {
   "cell_type": "code",
   "execution_count": 19,
   "metadata": {
    "ExecuteTime": {
     "end_time": "2017-03-18T15:53:21.640695",
     "start_time": "2017-03-18T15:53:21.596881"
    },
    "collapsed": false,
    "deletable": true,
    "editable": true
   },
   "outputs": [
    {
     "name": "stderr",
     "output_type": "stream",
     "text": [
      "/home/ritesh_malaiya/anaconda3/envs/p3/lib/python3.6/site-packages/pandas/core/base.py:324: PerformanceWarning: dropping on a non-lexsorted multi-index without a level parameter may impact performance.\n",
      "  return self.obj.drop(self.exclusions, axis=1)\n"
     ]
    },
    {
     "data": {
      "text/html": [
       "<div>\n",
       "<table border=\"1\" class=\"dataframe\">\n",
       "  <thead>\n",
       "    <tr style=\"text-align: right;\">\n",
       "      <th></th>\n",
       "      <th>shop_id</th>\n",
       "      <th>1</th>\n",
       "      <th>2</th>\n",
       "      <th>3</th>\n",
       "      <th>4</th>\n",
       "      <th>5</th>\n",
       "      <th>6</th>\n",
       "      <th>7</th>\n",
       "      <th>8</th>\n",
       "      <th>9</th>\n",
       "      <th>10</th>\n",
       "      <th>11</th>\n",
       "      <th>12</th>\n",
       "      <th>13</th>\n",
       "      <th>14</th>\n",
       "      <th>15</th>\n",
       "    </tr>\n",
       "  </thead>\n",
       "  <tbody>\n",
       "    <tr>\n",
       "      <th>0</th>\n",
       "      <td>1.0</td>\n",
       "      <td>250.0</td>\n",
       "      <td>229.0</td>\n",
       "      <td>268.0</td>\n",
       "      <td>235.0</td>\n",
       "      <td>276.0</td>\n",
       "      <td>195.0</td>\n",
       "      <td>250.0</td>\n",
       "      <td>278.0</td>\n",
       "      <td>283.0</td>\n",
       "      <td>321.0</td>\n",
       "      <td>194.0</td>\n",
       "      <td>232.0</td>\n",
       "      <td>267.0</td>\n",
       "      <td>206.0</td>\n",
       "      <td>231.0</td>\n",
       "    </tr>\n",
       "    <tr>\n",
       "      <th>1</th>\n",
       "      <td>2.0</td>\n",
       "      <td>94.0</td>\n",
       "      <td>107.0</td>\n",
       "      <td>99.0</td>\n",
       "      <td>107.0</td>\n",
       "      <td>125.0</td>\n",
       "      <td>156.0</td>\n",
       "      <td>108.0</td>\n",
       "      <td>134.0</td>\n",
       "      <td>119.0</td>\n",
       "      <td>152.0</td>\n",
       "      <td>152.0</td>\n",
       "      <td>86.0</td>\n",
       "      <td>183.0</td>\n",
       "      <td>168.0</td>\n",
       "      <td>87.0</td>\n",
       "    </tr>\n",
       "    <tr>\n",
       "      <th>2</th>\n",
       "      <td>3.0</td>\n",
       "      <td>51.0</td>\n",
       "      <td>86.0</td>\n",
       "      <td>64.0</td>\n",
       "      <td>72.0</td>\n",
       "      <td>105.0</td>\n",
       "      <td>109.0</td>\n",
       "      <td>112.0</td>\n",
       "      <td>70.0</td>\n",
       "      <td>88.0</td>\n",
       "      <td>64.0</td>\n",
       "      <td>74.0</td>\n",
       "      <td>93.0</td>\n",
       "      <td>108.0</td>\n",
       "      <td>140.0</td>\n",
       "      <td>127.0</td>\n",
       "    </tr>\n",
       "    <tr>\n",
       "      <th>3</th>\n",
       "      <td>4.0</td>\n",
       "      <td>96.0</td>\n",
       "      <td>103.0</td>\n",
       "      <td>118.0</td>\n",
       "      <td>69.0</td>\n",
       "      <td>122.0</td>\n",
       "      <td>246.0</td>\n",
       "      <td>217.0</td>\n",
       "      <td>135.0</td>\n",
       "      <td>114.0</td>\n",
       "      <td>109.0</td>\n",
       "      <td>131.0</td>\n",
       "      <td>72.0</td>\n",
       "      <td>104.0</td>\n",
       "      <td>251.0</td>\n",
       "      <td>250.0</td>\n",
       "    </tr>\n",
       "    <tr>\n",
       "      <th>4</th>\n",
       "      <td>5.0</td>\n",
       "      <td>218.0</td>\n",
       "      <td>208.0</td>\n",
       "      <td>296.0</td>\n",
       "      <td>244.0</td>\n",
       "      <td>275.0</td>\n",
       "      <td>207.0</td>\n",
       "      <td>212.0</td>\n",
       "      <td>226.0</td>\n",
       "      <td>198.0</td>\n",
       "      <td>167.0</td>\n",
       "      <td>245.0</td>\n",
       "      <td>471.0</td>\n",
       "      <td>315.0</td>\n",
       "      <td>14.0</td>\n",
       "      <td>225.0</td>\n",
       "    </tr>\n",
       "    <tr>\n",
       "      <th>...</th>\n",
       "      <td>...</td>\n",
       "      <td>...</td>\n",
       "      <td>...</td>\n",
       "      <td>...</td>\n",
       "      <td>...</td>\n",
       "      <td>...</td>\n",
       "      <td>...</td>\n",
       "      <td>...</td>\n",
       "      <td>...</td>\n",
       "      <td>...</td>\n",
       "      <td>...</td>\n",
       "      <td>...</td>\n",
       "      <td>...</td>\n",
       "      <td>...</td>\n",
       "      <td>...</td>\n",
       "      <td>...</td>\n",
       "    </tr>\n",
       "    <tr>\n",
       "      <th>1992</th>\n",
       "      <td>1996.0</td>\n",
       "      <td>76.0</td>\n",
       "      <td>67.0</td>\n",
       "      <td>79.0</td>\n",
       "      <td>72.0</td>\n",
       "      <td>87.0</td>\n",
       "      <td>89.0</td>\n",
       "      <td>92.0</td>\n",
       "      <td>105.0</td>\n",
       "      <td>107.0</td>\n",
       "      <td>110.0</td>\n",
       "      <td>106.0</td>\n",
       "      <td>109.0</td>\n",
       "      <td>104.0</td>\n",
       "      <td>104.0</td>\n",
       "      <td>84.0</td>\n",
       "    </tr>\n",
       "    <tr>\n",
       "      <th>1993</th>\n",
       "      <td>1997.0</td>\n",
       "      <td>321.0</td>\n",
       "      <td>307.0</td>\n",
       "      <td>277.0</td>\n",
       "      <td>225.0</td>\n",
       "      <td>94.0</td>\n",
       "      <td>120.0</td>\n",
       "      <td>292.0</td>\n",
       "      <td>305.0</td>\n",
       "      <td>298.0</td>\n",
       "      <td>289.0</td>\n",
       "      <td>224.0</td>\n",
       "      <td>126.0</td>\n",
       "      <td>114.0</td>\n",
       "      <td>300.0</td>\n",
       "      <td>346.0</td>\n",
       "    </tr>\n",
       "    <tr>\n",
       "      <th>1994</th>\n",
       "      <td>1998.0</td>\n",
       "      <td>354.0</td>\n",
       "      <td>658.0</td>\n",
       "      <td>531.0</td>\n",
       "      <td>544.0</td>\n",
       "      <td>557.0</td>\n",
       "      <td>625.0</td>\n",
       "      <td>539.0</td>\n",
       "      <td>329.0</td>\n",
       "      <td>359.0</td>\n",
       "      <td>589.0</td>\n",
       "      <td>610.0</td>\n",
       "      <td>588.0</td>\n",
       "      <td>667.0</td>\n",
       "      <td>645.0</td>\n",
       "      <td>448.0</td>\n",
       "    </tr>\n",
       "    <tr>\n",
       "      <th>1995</th>\n",
       "      <td>1999.0</td>\n",
       "      <td>162.0</td>\n",
       "      <td>469.0</td>\n",
       "      <td>355.0</td>\n",
       "      <td>330.0</td>\n",
       "      <td>301.0</td>\n",
       "      <td>307.0</td>\n",
       "      <td>303.0</td>\n",
       "      <td>364.0</td>\n",
       "      <td>477.0</td>\n",
       "      <td>458.0</td>\n",
       "      <td>303.0</td>\n",
       "      <td>311.0</td>\n",
       "      <td>298.0</td>\n",
       "      <td>303.0</td>\n",
       "      <td>320.0</td>\n",
       "    </tr>\n",
       "    <tr>\n",
       "      <th>1996</th>\n",
       "      <td>2000.0</td>\n",
       "      <td>70.0</td>\n",
       "      <td>183.0</td>\n",
       "      <td>179.0</td>\n",
       "      <td>175.0</td>\n",
       "      <td>178.0</td>\n",
       "      <td>200.0</td>\n",
       "      <td>151.0</td>\n",
       "      <td>72.0</td>\n",
       "      <td>63.0</td>\n",
       "      <td>181.0</td>\n",
       "      <td>195.0</td>\n",
       "      <td>197.0</td>\n",
       "      <td>148.0</td>\n",
       "      <td>145.0</td>\n",
       "      <td>78.0</td>\n",
       "    </tr>\n",
       "  </tbody>\n",
       "</table>\n",
       "<p>1997 rows × 16 columns</p>\n",
       "</div>"
      ],
      "text/plain": [
       "      shop_id      1      2      3      4      5      6      7      8      9  \\\n",
       "0         1.0  250.0  229.0  268.0  235.0  276.0  195.0  250.0  278.0  283.0   \n",
       "1         2.0   94.0  107.0   99.0  107.0  125.0  156.0  108.0  134.0  119.0   \n",
       "2         3.0   51.0   86.0   64.0   72.0  105.0  109.0  112.0   70.0   88.0   \n",
       "3         4.0   96.0  103.0  118.0   69.0  122.0  246.0  217.0  135.0  114.0   \n",
       "4         5.0  218.0  208.0  296.0  244.0  275.0  207.0  212.0  226.0  198.0   \n",
       "...       ...    ...    ...    ...    ...    ...    ...    ...    ...    ...   \n",
       "1992   1996.0   76.0   67.0   79.0   72.0   87.0   89.0   92.0  105.0  107.0   \n",
       "1993   1997.0  321.0  307.0  277.0  225.0   94.0  120.0  292.0  305.0  298.0   \n",
       "1994   1998.0  354.0  658.0  531.0  544.0  557.0  625.0  539.0  329.0  359.0   \n",
       "1995   1999.0  162.0  469.0  355.0  330.0  301.0  307.0  303.0  364.0  477.0   \n",
       "1996   2000.0   70.0  183.0  179.0  175.0  178.0  200.0  151.0   72.0   63.0   \n",
       "\n",
       "         10     11     12     13     14     15  \n",
       "0     321.0  194.0  232.0  267.0  206.0  231.0  \n",
       "1     152.0  152.0   86.0  183.0  168.0   87.0  \n",
       "2      64.0   74.0   93.0  108.0  140.0  127.0  \n",
       "3     109.0  131.0   72.0  104.0  251.0  250.0  \n",
       "4     167.0  245.0  471.0  315.0   14.0  225.0  \n",
       "...     ...    ...    ...    ...    ...    ...  \n",
       "1992  110.0  106.0  109.0  104.0  104.0   84.0  \n",
       "1993  289.0  224.0  126.0  114.0  300.0  346.0  \n",
       "1994  589.0  610.0  588.0  667.0  645.0  448.0  \n",
       "1995  458.0  303.0  311.0  298.0  303.0  320.0  \n",
       "1996  181.0  195.0  197.0  148.0  145.0   78.0  \n",
       "\n",
       "[1997 rows x 16 columns]"
      ]
     },
     "execution_count": 19,
     "metadata": {},
     "output_type": "execute_result"
    }
   ],
   "source": [
    "data_grouped = data.groupby(\"shop_id\")\n",
    "\n",
    "data_test = data_grouped.last().loc[:,'output_foot_traffic']\n",
    "data_test = data_test.reset_index(col_level=\"day\").values[:]\n",
    "data_test = pd.DataFrame(data_test).rename(columns = {0:\"shop_id\"})\n",
    "data_test"
   ]
  },
  {
   "cell_type": "code",
   "execution_count": 20,
   "metadata": {
    "ExecuteTime": {
     "end_time": "2017-03-18T15:53:21.646229",
     "start_time": "2017-03-18T15:53:21.643481"
    },
    "collapsed": false,
    "deletable": true,
    "editable": true
   },
   "outputs": [],
   "source": [
    "#data_test.boxplot()"
   ]
  },
  {
   "cell_type": "code",
   "execution_count": 21,
   "metadata": {
    "ExecuteTime": {
     "end_time": "2017-03-18T15:53:24.640107",
     "start_time": "2017-03-18T15:53:21.649455"
    },
    "collapsed": false,
    "deletable": true,
    "editable": true
   },
   "outputs": [],
   "source": [
    "from sklearn.model_selection import train_test_split\n",
    "from sklearn.preprocessing import StandardScaler\n",
    "from sklearn.preprocessing import Imputer\n",
    "\n",
    "impute_x = Imputer()\n",
    "impute_y = Imputer()\n",
    "\n",
    "scaler_x = StandardScaler()\n",
    "scaler_y = StandardScaler()\n",
    "\n",
    "\n",
    "def fetch_data(input_nodes_num, output_nodes_num):\n",
    "    \n",
    "    X_ = X.values\n",
    "    y_ = y.iloc[:,0:output_nodes_num].values\n",
    "    \n",
    "    X_ = impute_x.fit_transform(X_)\n",
    "    y_ = impute_y.fit_transform(y_)\n",
    "    \n",
    "    X_norm = scaler_x.fit_transform(X_)\n",
    "    y_norm = scaler_y.fit_transform(y_)\n",
    "    \n",
    "    #X_norm = norm[:,0:input_nodes_num]\n",
    "    #y_norm = norm[:,input_nodes_num:]\n",
    "   \n",
    "    X_train, X_valid, y_train, y_valid = train_test_split(\n",
    "    X_norm, y_norm , test_size=0.45, random_state=42)\n",
    "    \n",
    "    X_valid, X_test, y_valid, y_test = train_test_split(\n",
    "    X_valid, y_valid , test_size=0.15, random_state=42)\n",
    "    \n",
    "    return X_train, X_valid, X_test, y_train, y_valid, y_test"
   ]
  },
  {
   "cell_type": "markdown",
   "metadata": {
    "deletable": true,
    "editable": true
   },
   "source": [
    "## Visualize 15 days data\n",
    "\n",
    "Let's see if there is any observable pattern for 15 days of data between stores "
   ]
  },
  {
   "cell_type": "code",
   "execution_count": 22,
   "metadata": {
    "ExecuteTime": {
     "end_time": "2017-03-18T15:53:25.668734",
     "start_time": "2017-03-18T15:53:24.643283"
    },
    "collapsed": false,
    "deletable": true,
    "editable": true,
    "slideshow": {
     "slide_type": "skip"
    }
   },
   "outputs": [
    {
     "data": {
      "text/plain": [
       "<matplotlib.axes._subplots.AxesSubplot at 0x7fc8d013a828>"
      ]
     },
     "execution_count": 22,
     "metadata": {},
     "output_type": "execute_result"
    },
    {
     "data": {
      "image/png": "[encoded data removed]",
      "text/plain": [
       "<matplotlib.figure.Figure at 0x7fc8cefd0080>"
      ]
     },
     "metadata": {
      "image/png": {
       "height": 358,
       "width": 997
      }
     },
     "output_type": "display_data"
    }
   ],
   "source": [
    "train_count = int(X.shape[0] * 0.01)\n",
    "\n",
    "X_train = X[:train_count]\n",
    "\n",
    "X_train.plot(figsize=[17,6])"
   ]
  },
  {
   "cell_type": "markdown",
   "metadata": {
    "deletable": true,
    "editable": true,
    "slideshow": {
     "slide_type": "slide"
    }
   },
   "source": [
    "## Network Model"
   ]
  },
  {
   "cell_type": "markdown",
   "metadata": {
    "deletable": true,
    "editable": true,
    "slideshow": {
     "slide_type": "subslide"
    }
   },
   "source": [
    "<img  src=\"ErrorFunction_ijcai_2017.png\"/>"
   ]
  },
  {
   "cell_type": "code",
   "execution_count": 23,
   "metadata": {
    "ExecuteTime": {
     "end_time": "2017-03-18T15:53:28.872292",
     "start_time": "2017-03-18T15:53:25.670022"
    },
    "collapsed": false,
    "deletable": true,
    "editable": true,
    "slideshow": {
     "slide_type": "subslide"
    }
   },
   "outputs": [],
   "source": [
    "import tensorflow as tf\n",
    "sess = tf.InteractiveSession()\n",
    "#tf.reset_default_graph()\n",
    "\n",
    "input_nodes_num = 15\n",
    "output_nodes_num = 15\n",
    "hidden_layer_num = 2\n",
    "\n",
    "tf_x = tf.placeholder(tf.float32, [None, input_nodes_num],name='Inputs')\n",
    "tf_y_ = tf.placeholder(tf.float32, [None, output_nodes_num], name='ActualOutput')\n",
    "\n",
    "tf_W = tf.Variable(tf.truncated_normal([input_nodes_num, output_nodes_num], stddev = 0.001),name='Weights')\n",
    "tf_b = tf.Variable(tf.constant(value = 1., shape = [output_nodes_num]),name='bias')\n",
    "\n",
    "tf_y_h = tf_x\n",
    "for i in range(hidden_layer_num):\n",
    "    tf_W_h = tf.Variable(tf.truncated_normal([input_nodes_num, input_nodes_num], stddev = 0.001),name='Weights_{}'.format(i))\n",
    "    tf_b_h = tf.Variable(tf.constant(value = 1., shape = [output_nodes_num]),name='bias_{}'.format(i))\n",
    "    tf_y_h = tf.nn.relu(tf.add(tf.matmul(tf_x, tf_W_h), tf_b_h))\n",
    "\n",
    "tf_y = tf.add(tf.matmul(tf_y_h, tf_W), tf_b)\n",
    "\n",
    "sq_diff = tf.reduce_mean(tf.squared_difference( tf_y_ , tf_y), name = \"Squared_Difference\")\n",
    "sq_diff_ce = tf.nn.sigmoid_cross_entropy_with_logits(logits = tf_y_ , labels = tf_y)\n",
    "\n",
    "sq_diff_test = tf.reduce_mean(\n",
    "    tf.abs(\n",
    "        tf.divide(\n",
    "            tf.subtract(tf_y, tf_y_),\n",
    "            tf.add(tf_y, tf_y_)\n",
    "        )\n",
    "    )\n",
    ")\n",
    "\n",
    "sq_diff_test_modified = tf.reduce_mean(\n",
    "    tf.abs(\n",
    "            tf.subtract(tf_y, tf_y_)\n",
    "    )\n",
    ")\n",
    "\n",
    "train_step = tf.train.GradientDescentOptimizer(0.1).minimize(sq_diff_ce)\n",
    "X_train, X_valid, X_test, y_train, y_valid, y_test = fetch_data(input_nodes_num,output_nodes_num )"
   ]
  },
  {
   "cell_type": "code",
   "execution_count": 24,
   "metadata": {
    "ExecuteTime": {
     "end_time": "2017-03-18T15:53:28.880480",
     "start_time": "2017-03-18T15:53:28.875510"
    },
    "collapsed": false,
    "deletable": true,
    "editable": true,
    "slideshow": {
     "slide_type": "fragment"
    }
   },
   "outputs": [
    {
     "data": {
      "text/plain": [
       "(10296, 15)"
      ]
     },
     "execution_count": 24,
     "metadata": {},
     "output_type": "execute_result"
    }
   ],
   "source": [
    "X_train.shape"
   ]
  },
  {
   "cell_type": "code",
   "execution_count": null,
   "metadata": {
    "ExecuteTime": {
     "end_time": "2017-03-18T15:53:28.889101",
     "start_time": "2017-03-18T15:53:28.884275"
    },
    "collapsed": false,
    "deletable": true,
    "editable": true,
    "slideshow": {
     "slide_type": "fragment"
    }
   },
   "outputs": [
    {
     "data": {
      "text/plain": [
       "(10296, 15)"
      ]
     },
     "execution_count": 25,
     "metadata": {},
     "output_type": "execute_result"
    }
   ],
   "source": [
    "y_train.shape"
   ]
  },
  {
   "cell_type": "markdown",
   "metadata": {
    "deletable": true,
    "editable": true,
    "slideshow": {
     "slide_type": "slide"
    }
   },
   "source": [
    "## Training the Network\n",
    "\n",
    "- Network will be trained using Stochastic Gradient Descent."
   ]
  },
  {
   "cell_type": "code",
   "execution_count": null,
   "metadata": {
    "ExecuteTime": {
     "end_time": "2017-03-18T15:54:13.909339",
     "start_time": "2017-03-18T15:53:28.892299"
    },
    "collapsed": false,
    "deletable": true,
    "editable": true,
    "scrolled": false,
    "slideshow": {
     "slide_type": "subslide"
    }
   },
   "outputs": [
    {
     "name": "stdout",
     "output_type": "stream",
     "text": [
      "epoch:0 \n",
      ", Loss - Train nan, Valid - MSE: nan, Comp: nan, MAD: nan\n",
      "epoch:500 \n",
      ", Loss - Train nan, Valid - MSE: nan, Comp: nan, MAD: nan\n",
      "epoch:1000 \n",
      ", Loss - Train nan, Valid - MSE: nan, Comp: nan, MAD: nan\n",
      "epoch:1500 \n",
      ", Loss - Train nan, Valid - MSE: nan, Comp: nan, MAD: nan\n",
      "epoch:2000 \n",
      ", Loss - Train nan, Valid - MSE: nan, Comp: nan, MAD: nan\n"
     ]
    }
   ],
   "source": [
    "#tf.initialize_all_variables().run()\n",
    "tf.global_variables_initializer().run(session=sess)\n",
    "\n",
    "answer_valid_first = pd.DataFrame()\n",
    "answer_valid_last = pd.DataFrame()\n",
    "\n",
    "losses = {'train':[], 'validation(MSE)':[], \"validation(Competition)\":[]}\n",
    "step = 200\n",
    "\n",
    "for i in range(3001):\n",
    "    #index = np.random.randint(size=200,low = 0, high = X_train.shape[0])\n",
    "    for index in range(0, X_train.shape[0], step):\n",
    "        batch_xs = X_train[index:(index+step),:]\n",
    "        batch_ys = y_train[index:(index+step),:]\n",
    "\n",
    "        sess.run(train_step, feed_dict={tf_x: batch_xs, tf_y_:batch_ys })\n",
    "    \n",
    "    #Get training predicted values and loss\n",
    "    tr_y = tf_y.eval(feed_dict={tf_x: X_train})\n",
    "    tr_sq_diff = sq_diff.eval(feed_dict={tf_x: X_train, tf_y_:y_train})\n",
    "    \n",
    "    #Get validation predicted values and loss(MSE)\n",
    "    tv_y = tf_y.eval(feed_dict={tf_x: X_valid})\n",
    "    vd_sq_diff = sq_diff.eval(feed_dict={tf_x: X_valid, tf_y_:y_valid})\n",
    "    \n",
    "    #Get validation predicted values and loss(Competition Loss Function)\n",
    "    tv_y = tf_y.eval(feed_dict={tf_x: X_valid})\n",
    "    cvd_sq_diff = sq_diff_test.eval(feed_dict={tf_x: X_valid, tf_y_:y_valid})\n",
    "    mvd_sq_diff = sq_diff_test_modified.eval(feed_dict={tf_x: X_valid, tf_y_:y_valid})\n",
    "    cevd_sq_diff = sq_diff_ce.eval(feed_dict={tf_x: X_valid, tf_y_:y_valid})\n",
    "    \n",
    "    \n",
    "    losses['train'].append(tr_sq_diff)\n",
    "    losses['validation(MSE)'].append(vd_sq_diff)\n",
    "    losses['validation(Competition)'].append(cvd_sq_diff)\n",
    "    \n",
    "    \n",
    "    \n",
    "    if i % 500 == 0:\n",
    "        print (\"epoch:{} \\n, Loss - Train {}, Valid - CE: {}, MSE: {}, Comp: {}, MAD: {}\"\n",
    "               .format(i, tr_sq_diff,cevd_sq_diff, vd_sq_diff, cvd_sq_diff, mvd_sq_diff))\n",
    "        \n",
    "    if i % 500 == 0:\n",
    "        \n",
    "        tr_y_rescaled = scaler_y.inverse_transform(tr_y)\n",
    "        y_train_rescaled = scaler_y.inverse_transform(y_train)\n",
    "        tv_y_rescaled = scaler_y.inverse_transform(tv_y)\n",
    "        y_valid_rescaled = scaler_y.inverse_transform(y_valid)\n",
    "        \n",
    "        # Comparing only 1st prediction\n",
    "        answer_train = pd.DataFrame({\"Predicted value\":tr_y_rescaled[:,0], \"Actual value\":y_train_rescaled[:,0]})\n",
    "        #answer_train.plot(title='Training result plot; epoch {}'.format(i), figsize=[17,6])\n",
    "\n",
    "        global answer_valid_first\n",
    "        global answer_valid_last\n",
    "        answer_valid_first = pd.DataFrame({\"Predicted value\":tv_y_rescaled[:,0], \"Actual value\":y_valid_rescaled[:,0]})\n",
    "        answer_valid_last = pd.DataFrame({\"Predicted value\":tv_y_rescaled[:,-1], \"Actual value\":y_valid_rescaled[:,-1]})\n",
    "        \n",
    "        answer_valid_first.plot(title = 'Validation result plot; epoch {}'.format(i), figsize=[17,6])"
   ]
  },
  {
   "cell_type": "code",
   "execution_count": null,
   "metadata": {
    "ExecuteTime": {
     "end_time": "2017-03-18T15:54:14.623301",
     "start_time": "2017-03-18T15:54:13.912274"
    },
    "collapsed": false,
    "deletable": true,
    "editable": true
   },
   "outputs": [],
   "source": [
    "answer_valid_first[:100].plot(title = 'Validation result plot (First day for each time period of Store); epoch {}'.format(i), figsize=[17,6])"
   ]
  },
  {
   "cell_type": "code",
   "execution_count": null,
   "metadata": {
    "ExecuteTime": {
     "end_time": "2017-03-18T15:54:15.360289",
     "start_time": "2017-03-18T15:54:14.626110"
    },
    "collapsed": false,
    "deletable": true,
    "editable": true
   },
   "outputs": [],
   "source": [
    "answer_valid_last[:100].plot(title = 'Validation result plot (Last day for each time period of Store); epoch {}'.format(i), figsize=[17,6])"
   ]
  },
  {
   "cell_type": "code",
   "execution_count": null,
   "metadata": {
    "ExecuteTime": {
     "end_time": "2017-03-18T15:54:16.096942",
     "start_time": "2017-03-18T15:54:15.363286"
    },
    "collapsed": false,
    "deletable": true,
    "editable": true
   },
   "outputs": [],
   "source": [
    "answer_valid_first[1000:2000].plot(title = 'Validation result plot (First day for each time period of Store); epoch {}'.format(i), figsize=[17,6])"
   ]
  },
  {
   "cell_type": "code",
   "execution_count": null,
   "metadata": {
    "ExecuteTime": {
     "end_time": "2017-03-18T15:54:16.846303",
     "start_time": "2017-03-18T15:54:16.099708"
    },
    "collapsed": false,
    "deletable": true,
    "editable": true
   },
   "outputs": [],
   "source": [
    "answer_valid_last[1000:2000].plot(title = 'Validation result plot (Last day for each time period of Store); epoch {}'.format(i), figsize=[17,6])"
   ]
  },
  {
   "cell_type": "code",
   "execution_count": null,
   "metadata": {
    "ExecuteTime": {
     "end_time": "2017-03-18T15:54:17.641831",
     "start_time": "2017-03-18T15:54:16.849111"
    },
    "collapsed": false,
    "deletable": true,
    "editable": true
   },
   "outputs": [],
   "source": [
    "answer_valid_first[-50:].plot(title = 'Validation result plot (First day for each time period of Store); epoch {}'.format(i), figsize=[17,6])"
   ]
  },
  {
   "cell_type": "code",
   "execution_count": null,
   "metadata": {
    "ExecuteTime": {
     "end_time": "2017-03-18T15:54:18.365510",
     "start_time": "2017-03-18T15:54:17.644706"
    },
    "collapsed": false,
    "deletable": true,
    "editable": true
   },
   "outputs": [],
   "source": [
    "answer_valid_last[-50:].plot(title = 'Validation result plot (Last day for each time period of Store); epoch {}'.format(i), figsize=[17,6])"
   ]
  },
  {
   "cell_type": "markdown",
   "metadata": {
    "deletable": true,
    "editable": true
   },
   "source": [
    "First day prediction"
   ]
  },
  {
   "cell_type": "code",
   "execution_count": null,
   "metadata": {
    "ExecuteTime": {
     "end_time": "2017-03-18T15:54:18.381032",
     "start_time": "2017-03-18T15:54:18.368303"
    },
    "collapsed": false,
    "deletable": true,
    "editable": true
   },
   "outputs": [],
   "source": [
    "answer_valid_first[-50:] # Last Day prediction for last 50 stores"
   ]
  },
  {
   "cell_type": "markdown",
   "metadata": {
    "deletable": true,
    "editable": true
   },
   "source": [
    "Last day prediction"
   ]
  },
  {
   "cell_type": "code",
   "execution_count": null,
   "metadata": {
    "ExecuteTime": {
     "end_time": "2017-03-18T15:54:18.396320",
     "start_time": "2017-03-18T15:54:18.383711"
    },
    "collapsed": false,
    "deletable": true,
    "editable": true
   },
   "outputs": [],
   "source": [
    "answer_valid_last[-50:] # First Day prediction for last 50 stores"
   ]
  },
  {
   "cell_type": "markdown",
   "metadata": {
    "deletable": true,
    "editable": true,
    "slideshow": {
     "slide_type": "slide"
    }
   },
   "source": [
    "### Plotting Loss"
   ]
  },
  {
   "cell_type": "code",
   "execution_count": null,
   "metadata": {
    "ExecuteTime": {
     "end_time": "2017-03-18T15:55:49.339065",
     "start_time": "2017-03-18T15:55:48.860106"
    },
    "collapsed": false,
    "deletable": true,
    "editable": true,
    "scrolled": false,
    "slideshow": {
     "slide_type": "subslide"
    }
   },
   "outputs": [],
   "source": [
    "plt.plot(losses['train'], label='Training loss')\n",
    "plt.plot(losses['validation(MSE)'], label='Validation loss(MSE)')\n",
    "plt.plot(losses['validation(Competition)'], label='Validation loss(Competition)')\n",
    "\n",
    "plt.legend()\n",
    "plt.ylim(ymax=1.5)"
   ]
  },
  {
   "cell_type": "code",
   "execution_count": null,
   "metadata": {
    "ExecuteTime": {
     "end_time": "2017-03-18T15:54:18.911001",
     "start_time": "2017-03-18T15:54:18.897454"
    },
    "collapsed": false,
    "deletable": true,
    "editable": true,
    "slideshow": {
     "slide_type": "skip"
    }
   },
   "outputs": [],
   "source": [
    "print(\"Loss on Test data (using Mean Square Difference) {}\".format(sq_diff.eval(feed_dict={tf_x: X_test, tf_y_:y_test})))\n",
    "print(\"Loss on Test data (using Formula provided by competition) {}\".format(sq_diff_test.eval(feed_dict={tf_x: X_test, tf_y_:y_test})))\n",
    "print(\"Loss on Test data (using Mean Absolute Difference) {}\".format(sq_diff_test_modified.eval(feed_dict={tf_x: X_test, tf_y_:y_test})))\n"
   ]
  },
  {
   "cell_type": "markdown",
   "metadata": {
    "deletable": true,
    "editable": true
   },
   "source": [
    "Data to submit to competition"
   ]
  },
  {
   "cell_type": "code",
   "execution_count": null,
   "metadata": {
    "ExecuteTime": {
     "end_time": "2017-03-18T15:54:19.549696",
     "start_time": "2017-03-18T15:54:18.913721"
    },
    "collapsed": false,
    "deletable": true,
    "editable": true
   },
   "outputs": [],
   "source": [
    "count = 1\n",
    "data_test.iloc[:,1:] = data_test.iloc[:,1:].apply(lambda X_test: tf_y.eval(feed_dict={tf_x: X_test.values.reshape(1,-1)}).ravel(), axis = 1) # \n",
    "data_test"
   ]
  }
 ],
 "metadata": {
  "_draft": {
   "nbviewer_url": "https://gist.github.com/0dea10e54d991682cebe259edf71231d"
  },
  "anaconda-cloud": {},
  "celltoolbar": "Slideshow",
  "gist": {
   "data": {
    "description": "With Competition loss and MAD loss",
    "public": false
   },
   "id": "0dea10e54d991682cebe259edf71231d"
  },
  "kernelspec": {
   "display_name": "Python 3",
   "language": "python",
   "name": "python3"
  },
  "language_info": {
   "codemirror_mode": {
    "name": "ipython",
    "version": 3
   },
   "file_extension": ".py",
   "mimetype": "text/x-python",
   "name": "python",
   "nbconvert_exporter": "python",
   "pygments_lexer": "ipython3",
   "version": "3.6.0"
  },
  "toc": {
   "colors": {
    "hover_highlight": "#DAA520",
    "running_highlight": "#FF0000",
    "selected_highlight": "#FFD700"
   },
   "moveMenuLeft": true,
   "nav_menu": {
    "height": "191px",
    "width": "252px"
   },
   "navigate_menu": true,
   "number_sections": true,
   "sideBar": true,
   "threshold": 4,
   "toc_cell": false,
   "toc_section_display": "block",
   "toc_window_display": false
  }
 },
 "nbformat": 4,
 "nbformat_minor": 2
}
