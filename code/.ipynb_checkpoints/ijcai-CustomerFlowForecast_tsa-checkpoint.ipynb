{
 "cells": [
  {
   "cell_type": "code",
   "execution_count": 70,
   "metadata": {
    "collapsed": false
   },
   "outputs": [],
   "source": [
    "import pandas as pd\n",
    "import sqlite3\n",
    "import os.path\n",
    "from sqlalchemy import create_engine\n"
   ]
  },
  {
   "cell_type": "code",
   "execution_count": 57,
   "metadata": {
    "collapsed": false
   },
   "outputs": [],
   "source": [
    "conn = create_engine('sqlite:///../dataset/ijcai_cff_2017.db')\n",
    "\n",
    "def upload_csv_to_sqlite(file_name, col_names):\n",
    "    try:\n",
    "        df = pd.read_sql_query(sql = 'select * from ' + file_name + ' limit 1', con=conn)\n",
    "        print(\"Table \"+ file_name+\" already present\")\n",
    "        return\n",
    "    except:\n",
    "        pass\n",
    "    total_rows = 0\n",
    "    for df in pd.read_csv('../dataset/'+file_name+'.txt.gz', \n",
    "                          compression='gzip', chunksize=5000000, \n",
    "                          iterator=True, encoding='utf-8',\n",
    "                          names=col_names                         \n",
    "                         ):\n",
    "        df.to_sql(file_name, conn, if_exists='append',index=False)\n",
    "        \n",
    "        total_rows += df.shape[0] \n",
    "        print ('For file '+ file_name+' completed {} rows'.format(total_rows))"
   ]
  },
  {
   "cell_type": "code",
   "execution_count": 58,
   "metadata": {
    "collapsed": false
   },
   "outputs": [
    {
     "name": "stdout",
     "output_type": "stream",
     "text": [
      "For file user_pay completed 5000000 rows\n",
      "For file user_pay completed 5000000 rows\n",
      "For file user_pay completed 5000000 rows\n",
      "For file user_pay completed 5000000 rows\n",
      "For file user_pay completed 5000000 rows\n",
      "For file user_pay completed 5000000 rows\n",
      "For file user_pay completed 5000000 rows\n",
      "For file user_pay completed 5000000 rows\n",
      "For file user_pay completed 5000000 rows\n",
      "For file user_pay completed 5000000 rows\n",
      "For file user_pay completed 5000000 rows\n",
      "For file user_pay completed 5000000 rows\n",
      "For file user_pay completed 5000000 rows\n",
      "For file user_pay completed 4674110 rows\n"
     ]
    }
   ],
   "source": [
    "upload_csv_to_sqlite(\"shop_info\", (\"shop_id\",\"city_name\",\n",
    "                                   \"location_id\", \"per_pay\",\n",
    "                                   \"score\",\"comment_cnt\", \"shop_level\",\n",
    "                                   \"cate_1_name\",\"cate_2_name\",\"cate_3_name\"\n",
    "                                  ))\n",
    "upload_csv_to_sqlite(\"user_view\", (\"user_id\", \"shop_id\", \"time_stamp\"))\n",
    "upload_csv_to_sqlite(\"user_pay\", (\"user_id\", \"shop_id\", \"time_stamp\"))"
   ]
  },
  {
   "cell_type": "code",
   "execution_count": 22,
   "metadata": {
    "collapsed": false
   },
   "outputs": [],
   "source": [
    "import pickle\n",
    "def create_sample_pickle(sql_query, pickle_file_name):\n",
    "    df = pd.read_sql_query(sql=sql_query,con=conn)\n",
    "    pickle.dump(df, open(\"../dataset/\"+pickle_file_name,\"wb\"))\n"
   ]
  },
  {
   "cell_type": "code",
   "execution_count": 46,
   "metadata": {
    "collapsed": false
   },
   "outputs": [
    {
     "data": {
      "text/html": [
       "<div>\n",
       "<table border=\"1\" class=\"dataframe\">\n",
       "  <thead>\n",
       "    <tr style=\"text-align: right;\">\n",
       "      <th></th>\n",
       "      <th>shop_id</th>\n",
       "      <th>city_name</th>\n",
       "      <th>location_id</th>\n",
       "      <th>per_pay</th>\n",
       "      <th>score</th>\n",
       "      <th>comment_cnt</th>\n",
       "      <th>shop_level</th>\n",
       "      <th>cate_1_name</th>\n",
       "      <th>cate_2_name</th>\n",
       "      <th>cate_3_name</th>\n",
       "    </tr>\n",
       "  </thead>\n",
       "  <tbody>\n",
       "    <tr>\n",
       "      <th>0</th>\n",
       "      <td>1</td>\n",
       "      <td>湖州</td>\n",
       "      <td>885</td>\n",
       "      <td>8</td>\n",
       "      <td>4.0</td>\n",
       "      <td>12.0</td>\n",
       "      <td>2</td>\n",
       "      <td>美食</td>\n",
       "      <td>休闲茶饮</td>\n",
       "      <td>饮品/甜点</td>\n",
       "    </tr>\n",
       "    <tr>\n",
       "      <th>1</th>\n",
       "      <td>2</td>\n",
       "      <td>哈尔滨</td>\n",
       "      <td>64</td>\n",
       "      <td>19</td>\n",
       "      <td>NaN</td>\n",
       "      <td>NaN</td>\n",
       "      <td>1</td>\n",
       "      <td>超市便利店</td>\n",
       "      <td>超市</td>\n",
       "      <td>None</td>\n",
       "    </tr>\n",
       "    <tr>\n",
       "      <th>2</th>\n",
       "      <td>3</td>\n",
       "      <td>南昌</td>\n",
       "      <td>774</td>\n",
       "      <td>5</td>\n",
       "      <td>3.0</td>\n",
       "      <td>2.0</td>\n",
       "      <td>0</td>\n",
       "      <td>美食</td>\n",
       "      <td>休闲茶饮</td>\n",
       "      <td>奶茶</td>\n",
       "    </tr>\n",
       "    <tr>\n",
       "      <th>3</th>\n",
       "      <td>4</td>\n",
       "      <td>天津</td>\n",
       "      <td>380</td>\n",
       "      <td>18</td>\n",
       "      <td>NaN</td>\n",
       "      <td>NaN</td>\n",
       "      <td>1</td>\n",
       "      <td>超市便利店</td>\n",
       "      <td>超市</td>\n",
       "      <td>None</td>\n",
       "    </tr>\n",
       "    <tr>\n",
       "      <th>4</th>\n",
       "      <td>5</td>\n",
       "      <td>杭州</td>\n",
       "      <td>263</td>\n",
       "      <td>2</td>\n",
       "      <td>2.0</td>\n",
       "      <td>2.0</td>\n",
       "      <td>0</td>\n",
       "      <td>美食</td>\n",
       "      <td>休闲食品</td>\n",
       "      <td>生鲜水果</td>\n",
       "    </tr>\n",
       "    <tr>\n",
       "      <th>5</th>\n",
       "      <td>6</td>\n",
       "      <td>大连</td>\n",
       "      <td>1139</td>\n",
       "      <td>13</td>\n",
       "      <td>3.0</td>\n",
       "      <td>1.0</td>\n",
       "      <td>0</td>\n",
       "      <td>美食</td>\n",
       "      <td>烘焙糕点</td>\n",
       "      <td>面包</td>\n",
       "    </tr>\n",
       "    <tr>\n",
       "      <th>6</th>\n",
       "      <td>7</td>\n",
       "      <td>绍兴</td>\n",
       "      <td>145</td>\n",
       "      <td>13</td>\n",
       "      <td>3.0</td>\n",
       "      <td>9.0</td>\n",
       "      <td>2</td>\n",
       "      <td>美食</td>\n",
       "      <td>快餐</td>\n",
       "      <td>西式快餐</td>\n",
       "    </tr>\n",
       "    <tr>\n",
       "      <th>7</th>\n",
       "      <td>8</td>\n",
       "      <td>杭州</td>\n",
       "      <td>234</td>\n",
       "      <td>16</td>\n",
       "      <td>3.0</td>\n",
       "      <td>1.0</td>\n",
       "      <td>0</td>\n",
       "      <td>美食</td>\n",
       "      <td>休闲食品</td>\n",
       "      <td>生鲜水果</td>\n",
       "    </tr>\n",
       "    <tr>\n",
       "      <th>8</th>\n",
       "      <td>9</td>\n",
       "      <td>杭州</td>\n",
       "      <td>1120</td>\n",
       "      <td>15</td>\n",
       "      <td>4.0</td>\n",
       "      <td>0.0</td>\n",
       "      <td>1</td>\n",
       "      <td>超市便利店</td>\n",
       "      <td>超市</td>\n",
       "      <td>None</td>\n",
       "    </tr>\n",
       "    <tr>\n",
       "      <th>9</th>\n",
       "      <td>10</td>\n",
       "      <td>孝感</td>\n",
       "      <td>98</td>\n",
       "      <td>10</td>\n",
       "      <td>NaN</td>\n",
       "      <td>NaN</td>\n",
       "      <td>0</td>\n",
       "      <td>超市便利店</td>\n",
       "      <td>超市</td>\n",
       "      <td>None</td>\n",
       "    </tr>\n",
       "  </tbody>\n",
       "</table>\n",
       "</div>"
      ],
      "text/plain": [
       "   shop_id city_name  location_id  per_pay  score  comment_cnt  shop_level  \\\n",
       "0        1        湖州          885        8    4.0         12.0           2   \n",
       "1        2       哈尔滨           64       19    NaN          NaN           1   \n",
       "2        3        南昌          774        5    3.0          2.0           0   \n",
       "3        4        天津          380       18    NaN          NaN           1   \n",
       "4        5        杭州          263        2    2.0          2.0           0   \n",
       "5        6        大连         1139       13    3.0          1.0           0   \n",
       "6        7        绍兴          145       13    3.0          9.0           2   \n",
       "7        8        杭州          234       16    3.0          1.0           0   \n",
       "8        9        杭州         1120       15    4.0          0.0           1   \n",
       "9       10        孝感           98       10    NaN          NaN           0   \n",
       "\n",
       "  cate_1_name cate_2_name cate_3_name  \n",
       "0          美食        休闲茶饮       饮品/甜点  \n",
       "1       超市便利店          超市        None  \n",
       "2          美食        休闲茶饮          奶茶  \n",
       "3       超市便利店          超市        None  \n",
       "4          美食        休闲食品        生鲜水果  \n",
       "5          美食        烘焙糕点          面包  \n",
       "6          美食          快餐        西式快餐  \n",
       "7          美食        休闲食品        生鲜水果  \n",
       "8       超市便利店          超市        None  \n",
       "9       超市便利店          超市        None  "
      ]
     },
     "execution_count": 46,
     "metadata": {},
     "output_type": "execute_result"
    }
   ],
   "source": [
    "pd.read_sql_query(\"select * from shop_info limit 10\", con = conn)"
   ]
  },
  {
   "cell_type": "code",
   "execution_count": 60,
   "metadata": {
    "collapsed": false
   },
   "outputs": [
    {
     "data": {
      "text/html": [
       "<div>\n",
       "<table border=\"1\" class=\"dataframe\">\n",
       "  <thead>\n",
       "    <tr style=\"text-align: right;\">\n",
       "      <th></th>\n",
       "      <th>user_id</th>\n",
       "      <th>shop_id</th>\n",
       "      <th>time_stamp</th>\n",
       "    </tr>\n",
       "  </thead>\n",
       "  <tbody>\n",
       "    <tr>\n",
       "      <th>0</th>\n",
       "      <td>13201967</td>\n",
       "      <td>1197</td>\n",
       "      <td>2016-10-21 18:00:00</td>\n",
       "    </tr>\n",
       "    <tr>\n",
       "      <th>1</th>\n",
       "      <td>19461365</td>\n",
       "      <td>1197</td>\n",
       "      <td>2016-06-28 23:00:00</td>\n",
       "    </tr>\n",
       "    <tr>\n",
       "      <th>2</th>\n",
       "      <td>15022321</td>\n",
       "      <td>1197</td>\n",
       "      <td>2016-07-16 19:00:00</td>\n",
       "    </tr>\n",
       "    <tr>\n",
       "      <th>3</th>\n",
       "      <td>5440872</td>\n",
       "      <td>1197</td>\n",
       "      <td>2016-07-15 07:00:00</td>\n",
       "    </tr>\n",
       "    <tr>\n",
       "      <th>4</th>\n",
       "      <td>12594529</td>\n",
       "      <td>1197</td>\n",
       "      <td>2016-08-07 16:00:00</td>\n",
       "    </tr>\n",
       "    <tr>\n",
       "      <th>5</th>\n",
       "      <td>5440872</td>\n",
       "      <td>1197</td>\n",
       "      <td>2016-08-12 08:00:00</td>\n",
       "    </tr>\n",
       "    <tr>\n",
       "      <th>6</th>\n",
       "      <td>19918044</td>\n",
       "      <td>1197</td>\n",
       "      <td>2016-09-03 16:00:00</td>\n",
       "    </tr>\n",
       "    <tr>\n",
       "      <th>7</th>\n",
       "      <td>9476039</td>\n",
       "      <td>1197</td>\n",
       "      <td>2016-09-04 17:00:00</td>\n",
       "    </tr>\n",
       "    <tr>\n",
       "      <th>8</th>\n",
       "      <td>4081995</td>\n",
       "      <td>1197</td>\n",
       "      <td>2016-09-25 10:00:00</td>\n",
       "    </tr>\n",
       "    <tr>\n",
       "      <th>9</th>\n",
       "      <td>12594529</td>\n",
       "      <td>1197</td>\n",
       "      <td>2016-08-07 16:00:00</td>\n",
       "    </tr>\n",
       "  </tbody>\n",
       "</table>\n",
       "</div>"
      ],
      "text/plain": [
       "    user_id  shop_id           time_stamp\n",
       "0  13201967     1197  2016-10-21 18:00:00\n",
       "1  19461365     1197  2016-06-28 23:00:00\n",
       "2  15022321     1197  2016-07-16 19:00:00\n",
       "3   5440872     1197  2016-07-15 07:00:00\n",
       "4  12594529     1197  2016-08-07 16:00:00\n",
       "5   5440872     1197  2016-08-12 08:00:00\n",
       "6  19918044     1197  2016-09-03 16:00:00\n",
       "7   9476039     1197  2016-09-04 17:00:00\n",
       "8   4081995     1197  2016-09-25 10:00:00\n",
       "9  12594529     1197  2016-08-07 16:00:00"
      ]
     },
     "execution_count": 60,
     "metadata": {},
     "output_type": "execute_result"
    }
   ],
   "source": [
    "pd.read_sql_query(\"select * from user_view limit 10\", con = conn)"
   ]
  },
  {
   "cell_type": "code",
   "execution_count": 59,
   "metadata": {
    "collapsed": false,
    "scrolled": true
   },
   "outputs": [
    {
     "data": {
      "text/html": [
       "<div>\n",
       "<table border=\"1\" class=\"dataframe\">\n",
       "  <thead>\n",
       "    <tr style=\"text-align: right;\">\n",
       "      <th></th>\n",
       "      <th>user_id</th>\n",
       "      <th>shop_id</th>\n",
       "      <th>time_stamp</th>\n",
       "    </tr>\n",
       "  </thead>\n",
       "  <tbody>\n",
       "    <tr>\n",
       "      <th>0</th>\n",
       "      <td>22127870</td>\n",
       "      <td>1862</td>\n",
       "      <td>2015-12-25 17:00:00</td>\n",
       "    </tr>\n",
       "    <tr>\n",
       "      <th>1</th>\n",
       "      <td>3434231</td>\n",
       "      <td>1862</td>\n",
       "      <td>2016-10-05 11:00:00</td>\n",
       "    </tr>\n",
       "    <tr>\n",
       "      <th>2</th>\n",
       "      <td>16955285</td>\n",
       "      <td>1862</td>\n",
       "      <td>2016-02-10 15:00:00</td>\n",
       "    </tr>\n",
       "    <tr>\n",
       "      <th>3</th>\n",
       "      <td>13799128</td>\n",
       "      <td>1862</td>\n",
       "      <td>2016-01-13 14:00:00</td>\n",
       "    </tr>\n",
       "    <tr>\n",
       "      <th>4</th>\n",
       "      <td>13799128</td>\n",
       "      <td>1862</td>\n",
       "      <td>2016-07-05 12:00:00</td>\n",
       "    </tr>\n",
       "    <tr>\n",
       "      <th>5</th>\n",
       "      <td>20244878</td>\n",
       "      <td>1862</td>\n",
       "      <td>2016-09-17 15:00:00</td>\n",
       "    </tr>\n",
       "    <tr>\n",
       "      <th>6</th>\n",
       "      <td>20244878</td>\n",
       "      <td>1862</td>\n",
       "      <td>2016-05-29 16:00:00</td>\n",
       "    </tr>\n",
       "    <tr>\n",
       "      <th>7</th>\n",
       "      <td>438444</td>\n",
       "      <td>1862</td>\n",
       "      <td>2016-02-22 17:00:00</td>\n",
       "    </tr>\n",
       "    <tr>\n",
       "      <th>8</th>\n",
       "      <td>22003193</td>\n",
       "      <td>1862</td>\n",
       "      <td>2016-08-07 15:00:00</td>\n",
       "    </tr>\n",
       "    <tr>\n",
       "      <th>9</th>\n",
       "      <td>20244878</td>\n",
       "      <td>1862</td>\n",
       "      <td>2016-04-17 16:00:00</td>\n",
       "    </tr>\n",
       "  </tbody>\n",
       "</table>\n",
       "</div>"
      ],
      "text/plain": [
       "    user_id  shop_id           time_stamp\n",
       "0  22127870     1862  2015-12-25 17:00:00\n",
       "1   3434231     1862  2016-10-05 11:00:00\n",
       "2  16955285     1862  2016-02-10 15:00:00\n",
       "3  13799128     1862  2016-01-13 14:00:00\n",
       "4  13799128     1862  2016-07-05 12:00:00\n",
       "5  20244878     1862  2016-09-17 15:00:00\n",
       "6  20244878     1862  2016-05-29 16:00:00\n",
       "7    438444     1862  2016-02-22 17:00:00\n",
       "8  22003193     1862  2016-08-07 15:00:00\n",
       "9  20244878     1862  2016-04-17 16:00:00"
      ]
     },
     "execution_count": 59,
     "metadata": {},
     "output_type": "execute_result"
    }
   ],
   "source": [
    "pd.read_sql_query(\"select * from user_pay limit 10\", con = conn)"
   ]
  },
  {
   "cell_type": "code",
   "execution_count": 65,
   "metadata": {
    "collapsed": true
   },
   "outputs": [],
   "source": [
    "query1 = \"select max(shop_id), min(shop_id),\\\n",
    "        avg(shop_id) from shop_info\";"
   ]
  },
  {
   "cell_type": "code",
   "execution_count": 66,
   "metadata": {
    "collapsed": false
   },
   "outputs": [
    {
     "data": {
      "text/html": [
       "<div>\n",
       "<table border=\"1\" class=\"dataframe\">\n",
       "  <thead>\n",
       "    <tr style=\"text-align: right;\">\n",
       "      <th></th>\n",
       "      <th>max(shop_id)</th>\n",
       "      <th>min(shop_id)</th>\n",
       "      <th>avg(shop_id)</th>\n",
       "    </tr>\n",
       "  </thead>\n",
       "  <tbody>\n",
       "    <tr>\n",
       "      <th>0</th>\n",
       "      <td>2000</td>\n",
       "      <td>1</td>\n",
       "      <td>1000.5</td>\n",
       "    </tr>\n",
       "  </tbody>\n",
       "</table>\n",
       "</div>"
      ],
      "text/plain": [
       "   max(shop_id)  min(shop_id)  avg(shop_id)\n",
       "0          2000             1        1000.5"
      ]
     },
     "execution_count": 66,
     "metadata": {},
     "output_type": "execute_result"
    }
   ],
   "source": [
    "pd.read_sql_query(query1, conn)"
   ]
  },
  {
   "cell_type": "code",
   "execution_count": 76,
   "metadata": {
    "collapsed": false
   },
   "outputs": [
    {
     "data": {
      "text/plain": [
       "[744, 177, 402, 71, 748, 212, 227, 830, 619]"
      ]
     },
     "execution_count": 76,
     "metadata": {},
     "output_type": "execute_result"
    }
   ],
   "source": [
    "import random\n",
    "sample_shop_ids = [random.randint(1, 1000) for i in range(1,10)]\n",
    "sample_shop_ids"
   ]
  },
  {
   "cell_type": "code",
   "execution_count": 87,
   "metadata": {
    "collapsed": false
   },
   "outputs": [
    {
     "data": {
      "text/plain": [
       "<sqlalchemy.engine.result.ResultProxy at 0x7f11bb612ef0>"
      ]
     },
     "execution_count": 87,
     "metadata": {},
     "output_type": "execute_result"
    }
   ],
   "source": [
    "conn.execute(\"drop table sample_user_pay\")\n",
    "conn.execute(\"create table sample_user_pay \\\n",
    "AS select * from user_pay where \\\n",
    "shop_id in \" + \n",
    "            str(sample_shop_ids)\n",
    "            .replace(\"[\", \"(\")\n",
    "            .replace(\"]\",\")\"))"
   ]
  },
  {
   "cell_type": "code",
   "execution_count": 84,
   "metadata": {
    "collapsed": false
   },
   "outputs": [
    {
     "data": {
      "text/plain": [
       "<sqlalchemy.engine.result.ResultProxy at 0x7f11bb612c50>"
      ]
     },
     "execution_count": 84,
     "metadata": {},
     "output_type": "execute_result"
    }
   ],
   "source": [
    "conn.execute(\"drop table sample_user_view\")\n",
    "conn.execute(\"create table sample_user_view \\\n",
    "AS select * from user_view where \\\n",
    "shop_id in \" + \n",
    "            str(sample_shop_ids)\n",
    "            .replace(\"[\", \"(\")\n",
    "            .replace(\"]\",\")\"))"
   ]
  },
  {
   "cell_type": "code",
   "execution_count": null,
   "metadata": {
    "collapsed": true
   },
   "outputs": [],
   "source": [
    "conn.execute(\"drop table sample_shop_info\")\n",
    "conn.execute(\"create table sample_shop_info \\\n",
    "AS select * from shop_info where \\\n",
    "shop_id in \" + \n",
    "            str(sample_shop_ids)\n",
    "            .replace(\"[\", \"(\")\n",
    "            .replace(\"]\",\")\"))"
   ]
  },
  {
   "cell_type": "code",
   "execution_count": 85,
   "metadata": {
    "collapsed": false
   },
   "outputs": [
    {
     "data": {
      "text/html": [
       "<div>\n",
       "<table border=\"1\" class=\"dataframe\">\n",
       "  <thead>\n",
       "    <tr style=\"text-align: right;\">\n",
       "      <th></th>\n",
       "      <th>count(*)</th>\n",
       "    </tr>\n",
       "  </thead>\n",
       "  <tbody>\n",
       "    <tr>\n",
       "      <th>0</th>\n",
       "      <td>279356</td>\n",
       "    </tr>\n",
       "  </tbody>\n",
       "</table>\n",
       "</div>"
      ],
      "text/plain": [
       "   count(*)\n",
       "0    279356"
      ]
     },
     "execution_count": 85,
     "metadata": {},
     "output_type": "execute_result"
    }
   ],
   "source": [
    "pd.read_sql(\"select count(*) from sample_user_pay\", conn)"
   ]
  },
  {
   "cell_type": "code",
   "execution_count": 86,
   "metadata": {
    "collapsed": false
   },
   "outputs": [
    {
     "data": {
      "text/html": [
       "<div>\n",
       "<table border=\"1\" class=\"dataframe\">\n",
       "  <thead>\n",
       "    <tr style=\"text-align: right;\">\n",
       "      <th></th>\n",
       "      <th>count(*)</th>\n",
       "    </tr>\n",
       "  </thead>\n",
       "  <tbody>\n",
       "    <tr>\n",
       "      <th>0</th>\n",
       "      <td>28851</td>\n",
       "    </tr>\n",
       "  </tbody>\n",
       "</table>\n",
       "</div>"
      ],
      "text/plain": [
       "   count(*)\n",
       "0     28851"
      ]
     },
     "execution_count": 86,
     "metadata": {},
     "output_type": "execute_result"
    }
   ],
   "source": [
    "pd.read_sql(\"select count(*) from sample_user_view\", conn)"
   ]
  },
  {
   "cell_type": "code",
   "execution_count": null,
   "metadata": {
    "collapsed": true
   },
   "outputs": [],
   "source": [
    "pd.read_sql(\"select count(*) from sample_shop_view\", conn)"
   ]
  }
 ],
 "metadata": {
  "kernelspec": {
   "display_name": "Python 3",
   "language": "python",
   "name": "python3"
  },
  "language_info": {
   "codemirror_mode": {
    "name": "ipython",
    "version": 3
   },
   "file_extension": ".py",
   "mimetype": "text/x-python",
   "name": "python",
   "nbconvert_exporter": "python",
   "pygments_lexer": "ipython3",
   "version": "3.5.2"
  }
 },
 "nbformat": 4,
 "nbformat_minor": 2
}
