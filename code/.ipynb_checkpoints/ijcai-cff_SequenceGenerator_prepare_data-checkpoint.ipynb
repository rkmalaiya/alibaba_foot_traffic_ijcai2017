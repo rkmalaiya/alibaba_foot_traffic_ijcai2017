{
 "cells": [
  {
   "cell_type": "code",
   "execution_count": 1,
   "metadata": {
    "collapsed": true,
    "deletable": true,
    "editable": true,
    "slideshow": {
     "slide_type": "skip"
    }
   },
   "outputs": [],
   "source": [
    "import pandas as pd\n",
    "import numpy as np\n",
    "import sqlite3\n",
    "import os.path\n",
    "from sqlalchemy import create_engine\n",
    "from matplotlib import pyplot as plt\n",
    "import pickle as pk\n",
    "import collections \n",
    "\n",
    "pd.set_option(\"display.max_rows\",15)\n",
    "%matplotlib inline"
   ]
  },
  {
   "cell_type": "code",
   "execution_count": 2,
   "metadata": {
    "collapsed": true,
    "deletable": true,
    "editable": true,
    "slideshow": {
     "slide_type": "skip"
    }
   },
   "outputs": [],
   "source": [
    "conn = create_engine('sqlite:///../dataset/ijcai_cff_2017.db')"
   ]
  },
  {
   "cell_type": "code",
   "execution_count": 3,
   "metadata": {
    "collapsed": false,
    "deletable": true,
    "editable": true
   },
   "outputs": [],
   "source": [
    "no_of_shops = 2000\n",
    "shops = pd.DataFrame({\"shop_id\":np.arange(start=1, stop = (no_of_shops+1))})\n",
    "shops.to_sql(\"shops\", index = False, con = conn, if_exists='replace')"
   ]
  },
  {
   "cell_type": "code",
   "execution_count": 4,
   "metadata": {
    "ExecuteTime": {
     "end_time": "2017-03-13T21:02:20.855579Z",
     "start_time": "2017-03-13T21:02:20.201730Z"
    },
    "collapsed": false,
    "deletable": true,
    "editable": true,
    "scrolled": true,
    "slideshow": {
     "slide_type": "skip"
    }
   },
   "outputs": [],
   "source": [
    "train_data = []\n",
    "train_data_raw = pd.read_sql_query(\"select d.shop_id, \"\n",
    "                                   \"d.total_view + d.total_pay as input_foot_traffic \"\n",
    "                                   \"from train_data d \"\n",
    "                                   #\"where shop_id = {}\".format(i) \n",
    "                                   ,con = conn)\n"
   ]
  },
  {
   "cell_type": "code",
   "execution_count": 5,
   "metadata": {
    "collapsed": true,
    "deletable": true,
    "editable": true
   },
   "outputs": [],
   "source": [
    "shape_of_network = [10,128,1]\n",
    "num_of_layers_dense = 2"
   ]
  },
  {
   "cell_type": "code",
   "execution_count": 6,
   "metadata": {
    "collapsed": false,
    "deletable": true,
    "editable": true
   },
   "outputs": [
    {
     "data": {
      "text/html": [
       "<div>\n",
       "<table border=\"1\" class=\"dataframe\">\n",
       "  <thead>\n",
       "    <tr style=\"text-align: right;\">\n",
       "      <th></th>\n",
       "      <th>input_foot_traffic</th>\n",
       "    </tr>\n",
       "    <tr>\n",
       "      <th>shop_id</th>\n",
       "      <th></th>\n",
       "    </tr>\n",
       "  </thead>\n",
       "  <tbody>\n",
       "    <tr>\n",
       "      <th>1</th>\n",
       "      <td>178.0</td>\n",
       "    </tr>\n",
       "    <tr>\n",
       "      <th>1</th>\n",
       "      <td>233.0</td>\n",
       "    </tr>\n",
       "    <tr>\n",
       "      <th>1</th>\n",
       "      <td>250.0</td>\n",
       "    </tr>\n",
       "    <tr>\n",
       "      <th>1</th>\n",
       "      <td>234.0</td>\n",
       "    </tr>\n",
       "    <tr>\n",
       "      <th>1</th>\n",
       "      <td>230.0</td>\n",
       "    </tr>\n",
       "    <tr>\n",
       "      <th>1</th>\n",
       "      <td>237.0</td>\n",
       "    </tr>\n",
       "    <tr>\n",
       "      <th>1</th>\n",
       "      <td>191.0</td>\n",
       "    </tr>\n",
       "    <tr>\n",
       "      <th>...</th>\n",
       "      <td>...</td>\n",
       "    </tr>\n",
       "    <tr>\n",
       "      <th>10</th>\n",
       "      <td>61.0</td>\n",
       "    </tr>\n",
       "    <tr>\n",
       "      <th>10</th>\n",
       "      <td>78.0</td>\n",
       "    </tr>\n",
       "    <tr>\n",
       "      <th>10</th>\n",
       "      <td>115.0</td>\n",
       "    </tr>\n",
       "    <tr>\n",
       "      <th>10</th>\n",
       "      <td>86.0</td>\n",
       "    </tr>\n",
       "    <tr>\n",
       "      <th>10</th>\n",
       "      <td>87.0</td>\n",
       "    </tr>\n",
       "    <tr>\n",
       "      <th>10</th>\n",
       "      <td>101.0</td>\n",
       "    </tr>\n",
       "    <tr>\n",
       "      <th>10</th>\n",
       "      <td>123.0</td>\n",
       "    </tr>\n",
       "  </tbody>\n",
       "</table>\n",
       "<p>1084 rows × 1 columns</p>\n",
       "</div>"
      ],
      "text/plain": [
       "         input_foot_traffic\n",
       "shop_id                    \n",
       "1                     178.0\n",
       "1                     233.0\n",
       "1                     250.0\n",
       "1                     234.0\n",
       "1                     230.0\n",
       "1                     237.0\n",
       "1                     191.0\n",
       "...                     ...\n",
       "10                     61.0\n",
       "10                     78.0\n",
       "10                    115.0\n",
       "10                     86.0\n",
       "10                     87.0\n",
       "10                    101.0\n",
       "10                    123.0\n",
       "\n",
       "[1084 rows x 1 columns]"
      ]
     },
     "execution_count": 6,
     "metadata": {},
     "output_type": "execute_result"
    }
   ],
   "source": [
    "train_data = train_data_raw.dropna(how = \"any\")\n",
    "train_data = train_data.set_index(\"shop_id\")\n",
    "train_data.loc[1:10]"
   ]
  },
  {
   "cell_type": "code",
   "execution_count": 7,
   "metadata": {
    "collapsed": false,
    "deletable": true,
    "editable": true
   },
   "outputs": [
    {
     "data": {
      "text/plain": [
       "input_foot_traffic    130\n",
       "dtype: int64"
      ]
     },
     "execution_count": 7,
     "metadata": {},
     "output_type": "execute_result"
    }
   ],
   "source": [
    "train_data_group = train_data.groupby(\"shop_id\", level = 0)\n",
    "train_data_group.count().max()"
   ]
  },
  {
   "cell_type": "code",
   "execution_count": 8,
   "metadata": {
    "collapsed": false,
    "deletable": true,
    "editable": true
   },
   "outputs": [],
   "source": [
    "from sklearn.model_selection import train_test_split\n",
    "from sklearn.preprocessing import StandardScaler\n",
    "from sklearn.preprocessing import Imputer\n",
    "\n",
    "impute_x = Imputer()\n",
    "impute_y = Imputer()\n",
    "\n",
    "scaler = StandardScaler()\n",
    "\n",
    "def scale(x):\n",
    "    return scaler.fit_transform(x)\n",
    "\n",
    "def reverse_scale(x):\n",
    "    return scaler.inverse_transform(x)\n",
    "\n",
    "def split(x,y_):\n",
    "    x_train, x_valid, y_train, y_valid = train_test_split(\n",
    "    x, y_ , test_size=0.45, random_state=42)\n",
    "    \n",
    "    x_valid, x_test, y_valid, y_test = train_test_split(\n",
    "    x_valid, y_valid , test_size=0.05, random_state=42)\n",
    "    \n",
    "    return x_train, x_valid, x_test, y_train, y_valid, y_test "
   ]
  },
  {
   "cell_type": "code",
   "execution_count": 9,
   "metadata": {
    "collapsed": false,
    "deletable": true,
    "editable": true
   },
   "outputs": [
    {
     "data": {
      "text/plain": [
       "(130, 1)"
      ]
     },
     "execution_count": 9,
     "metadata": {},
     "output_type": "execute_result"
    }
   ],
   "source": [
    "shop_id = 1\n",
    "train = train_data.loc[shop_id] # Select which shop\n",
    "shape = train.values.shape\n",
    "train_scaled = scale(train.values.ravel().reshape(-1, 1)).reshape(shape)\n",
    "train_scaled.shape"
   ]
  },
  {
   "cell_type": "code",
   "execution_count": 10,
   "metadata": {
    "collapsed": false,
    "deletable": true,
    "editable": true
   },
   "outputs": [
    {
     "data": {
      "text/plain": [
       "(121, 1)"
      ]
     },
     "execution_count": 10,
     "metadata": {},
     "output_type": "execute_result"
    }
   ],
   "source": [
    "skip = train_scaled.shape[0] % (shape_of_network[0] + shape_of_network[-1] ) #\n",
    "if skip is not 0:\n",
    "    train_trim = train_scaled[skip:,]\n",
    "train_trim.shape"
   ]
  },
  {
   "cell_type": "code",
   "execution_count": 11,
   "metadata": {
    "collapsed": false,
    "deletable": true,
    "editable": true
   },
   "outputs": [
    {
     "name": "stdout",
     "output_type": "stream",
     "text": [
      "x: [[ -2.57849552e-01  -1.18639365e+00  -1.07496835e+00  -4.06416607e-01\n",
      "   -2.76420434e-01  -7.22121599e-01  -1.83566025e-01   7.07836305e-01\n",
      "   -3.69274843e-01  -1.27853379e-01]\n",
      " [  2.80706022e-01  -7.22121599e-01  -1.14925188e+00  -8.33546890e-01\n",
      "   -3.13562198e-01   1.13568085e-01  -9.07830418e-01  -4.24987489e-01\n",
      "   -2.94991316e-01  -6.29267190e-01]\n",
      " [ -3.69274843e-01  -2.20707788e-01  -4.80700135e-01  -1.05639747e+00\n",
      "   -1.64280878e-02  -8.52117772e-01   1.50709849e-01  -3.49989697e-02\n",
      "   -1.05639747e+00  -3.32133080e-01]\n",
      " [ -9.07830418e-01   2.63920802e+00   2.54635361e+00   4.77485944e+00\n",
      "   -2.76420434e-01   2.14279406e-03   3.73560432e-01   1.13496659e+00\n",
      "   -3.13562198e-01   3.92845578e-02]\n",
      " [ -1.64995143e-01   2.24993377e-01   5.78554397e-02  -4.62129253e-01\n",
      "   -1.83566025e-01  -2.76420434e-01   5.22127487e-01  -3.87845725e-01\n",
      "   -5.36412780e-01  -2.94991316e-01]\n",
      " [ -1.64280878e-02  -1.83566025e-01   1.13568085e-01   1.32067541e+00\n",
      "    7.44978069e-01   9.30686888e-01   3.73560432e-01   2.62135140e-01\n",
      "    4.10702195e-01   7.07836305e-01]\n",
      " [  2.54635361e+00   2.13779421e+00   2.06351068e+00   1.24639188e+00\n",
      "    2.06351068e+00   1.52495511e+00   6.52123660e-01   1.87780186e+00\n",
      "    1.52495511e+00   1.02354130e+00]\n",
      " [  2.62135140e-01   5.59269250e-01   1.06068306e+00   1.02354130e+00\n",
      "   -8.14976008e-01   1.30210453e+00   1.06068306e+00   1.37638805e+00\n",
      "   -9.63543063e-01  -5.17841898e-01]\n",
      " [ -1.03782659e+00  -7.40692481e-01  -1.83566025e-01   2.80706022e-01\n",
      "   -4.43558371e-01  -5.92125426e-01  -5.17841898e-01  -1.63209481e+00\n",
      "   -1.40924423e+00   1.00497042e+00]\n",
      " [  1.24639188e+00  -4.99271017e-01   8.37832478e-01   5.59269250e-01\n",
      "    1.69280731e-01  -1.27853379e-01   2.24993377e-01   2.07136759e-02\n",
      "    1.69280731e-01  -2.20707788e-01]\n",
      " [  3.17847786e-01  -1.64280878e-02  -5.17841898e-01  -5.35698516e-02\n",
      "    2.24993377e-01   3.92845578e-02  -9.26401300e-01  -2.76420434e-01\n",
      "   -1.40924423e+00  -9.44972182e-01]\n",
      " [ -5.92125426e-01  -9.82113945e-01  -2.57849552e-01  -8.70688654e-01\n",
      "   -1.09282497e-01  -1.61352393e+00  -5.92125426e-01  -7.21407334e-02\n",
      "    2.07136759e-02   7.26407187e-01]]\n",
      "y: [[ 0.28070602]\n",
      " [-0.36927484]\n",
      " [-0.90783042]\n",
      " [-0.16499514]\n",
      " [-0.01642809]\n",
      " [ 2.54635361]\n",
      " [ 0.26213514]\n",
      " [-1.03782659]\n",
      " [ 1.24639188]\n",
      " [ 0.31784779]\n",
      " [-0.59212543]\n",
      " [-1.63209481]]\n"
     ]
    }
   ],
   "source": [
    "step = shape_of_network[0]\n",
    "x_arr = []\n",
    "y_arr = []\n",
    "for i in range(0, train_trim.shape[0]-skip, step):\n",
    "    x_arr.append(train_trim[i:i+shape_of_network[0]].flatten())\n",
    "    y_arr.append(train_trim[i+shape_of_network[0]].flatten())\n",
    "\n",
    "x_arr = np.array(x_arr)\n",
    "y_arr = np.array(y_arr)\n",
    "\n",
    "print(\"x: {}\".format(x_arr))\n",
    "print(\"y: {}\".format(y_arr))"
   ]
  },
  {
   "cell_type": "code",
   "execution_count": 12,
   "metadata": {
    "collapsed": false,
    "deletable": true,
    "editable": true
   },
   "outputs": [
    {
     "data": {
      "text/plain": [
       "[<matplotlib.lines.Line2D at 0x7fd427fa8fd0>]"
      ]
     },
     "execution_count": 12,
     "metadata": {},
     "output_type": "execute_result"
    },
    {
     "data": {
      "image/png": "[encoded data removed]",
      "text/plain": [
       "<matplotlib.figure.Figure at 0x7fd42f3154a8>"
      ]
     },
     "metadata": {},
     "output_type": "display_data"
    }
   ],
   "source": [
    "plt.plot(train.values.ravel())"
   ]
  },
  {
   "cell_type": "code",
   "execution_count": 13,
   "metadata": {
    "collapsed": false,
    "deletable": true,
    "editable": true
   },
   "outputs": [
    {
     "data": {
      "text/plain": [
       "<matplotlib.legend.Legend at 0x7fd427e85f60>"
      ]
     },
     "execution_count": 13,
     "metadata": {},
     "output_type": "execute_result"
    },
    {
     "data": {
      "image/png": "[encoded data removed]",
      "text/plain": [
       "<matplotlib.figure.Figure at 0x7fd42a01fe48>"
      ]
     },
     "metadata": {},
     "output_type": "display_data"
    }
   ],
   "source": [
    "plt.scatter([range(x_arr[0].ravel().shape[0])],x_arr[0].ravel(), label = \"x data\")\n",
    "plt.scatter([range(y_arr[0].ravel().shape[0])], y_arr[0].ravel(), label = \"y data\")\n",
    "plt.legend()"
   ]
  },
  {
   "cell_type": "code",
   "execution_count": 14,
   "metadata": {
    "collapsed": false,
    "deletable": true,
    "editable": true
   },
   "outputs": [
    {
     "data": {
      "text/plain": [
       "<matplotlib.legend.Legend at 0x7fd427dc45c0>"
      ]
     },
     "execution_count": 14,
     "metadata": {},
     "output_type": "execute_result"
    },
    {
     "data": {
      "image/png": "[encoded data removed]",
      "text/plain": [
       "<matplotlib.figure.Figure at 0x7fd427ed7278>"
      ]
     },
     "metadata": {},
     "output_type": "display_data"
    }
   ],
   "source": [
    "plt.scatter([range(x_arr[1].ravel().shape[0])],x_arr[1].ravel(), label = \"x data\")\n",
    "plt.scatter([range(y_arr[1].ravel().shape[0])], y_arr[1].ravel(), label = \"y data\")\n",
    "plt.legend()"
   ]
  },
  {
   "cell_type": "code",
   "execution_count": 15,
   "metadata": {
    "collapsed": false,
    "deletable": true,
    "editable": true
   },
   "outputs": [
    {
     "name": "stdout",
     "output_type": "stream",
     "text": [
      "x shape (12, 10)\n",
      "y shape (12, 1)\n"
     ]
    }
   ],
   "source": [
    "print(\"x shape {}\".format(x_arr.shape))\n",
    "print(\"y shape {}\".format(y_arr.shape))\n",
    "x_train, x_valid, x_test, y_train, y_valid, y_test = split(x_arr, y_arr)"
   ]
  },
  {
   "cell_type": "code",
   "execution_count": 16,
   "metadata": {
    "collapsed": false
   },
   "outputs": [
    {
     "name": "stdout",
     "output_type": "stream",
     "text": [
      "(6, 10)\n",
      "(5, 10)\n",
      "(1, 10)\n",
      "(6, 1)\n",
      "(5, 1)\n",
      "(1, 1)\n"
     ]
    }
   ],
   "source": [
    "print(x_train.shape)\n",
    "print(x_valid.shape)\n",
    "print(x_test.shape)\n",
    "print(y_train.shape)\n",
    "print(y_valid.shape)\n",
    "print(y_test.shape)"
   ]
  },
  {
   "cell_type": "code",
   "execution_count": 17,
   "metadata": {
    "collapsed": false,
    "deletable": true,
    "editable": true
   },
   "outputs": [],
   "source": [
    "import pickle\n",
    "data  = {\n",
    "    \"x_train\":x_train,\n",
    "    \"x_valid\":x_valid,\n",
    "    \"x_test\":x_test,\n",
    "    \"y_train\":y_train,\n",
    "    \"y_valid\":y_valid,\n",
    "    \"y_test\":y_test,\n",
    "    \n",
    "}\n",
    "\n",
    "fo = open(\"x_y_input_traffic_shop_id_{}.pkl\".format(shop_id), \"wb\")\n",
    "pickle.dump(data,fo)\n",
    "fo.close()\n",
    "\n",
    "#.to_pickle(\"x_y_input_traffic_shop_id_{}.pkl\".format(shop_id))"
   ]
  }
 ],
 "metadata": {
  "_draft": {
   "nbviewer_url": "https://gist.github.com/d4ddc9163685d4ca3a6d11aae019a757"
  },
  "celltoolbar": "Slideshow",
  "gist": {
   "data": {
    "description": "With Tensorboard graphs",
    "public": false
   },
   "id": "d4ddc9163685d4ca3a6d11aae019a757"
  },
  "kernelspec": {
   "display_name": "Python 3",
   "language": "python",
   "name": "python3"
  },
  "language_info": {
   "codemirror_mode": {
    "name": "ipython",
    "version": 3
   },
   "file_extension": ".py",
   "mimetype": "text/x-python",
   "name": "python",
   "nbconvert_exporter": "python",
   "pygments_lexer": "ipython3",
   "version": "3.6.0"
  },
  "toc": {
   "colors": {
    "hover_highlight": "#DAA520",
    "running_highlight": "#FF0000",
    "selected_highlight": "#FFD700"
   },
   "moveMenuLeft": true,
   "nav_menu": {
    "height": "12px",
    "width": "252px"
   },
   "navigate_menu": true,
   "number_sections": true,
   "sideBar": true,
   "threshold": 4,
   "toc_cell": false,
   "toc_section_display": "block",
   "toc_window_display": false
  }
 },
 "nbformat": 4,
 "nbformat_minor": 2
}
