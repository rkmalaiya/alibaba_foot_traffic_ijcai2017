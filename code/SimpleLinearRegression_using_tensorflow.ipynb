{
 "cells": [
  {
   "cell_type": "code",
   "execution_count": 10,
   "metadata": {
    "collapsed": true
   },
   "outputs": [],
   "source": [
    "import tensorflow as tf\n",
    "import numpy as np"
   ]
  },
  {
   "cell_type": "code",
   "execution_count": 11,
   "metadata": {
    "collapsed": true
   },
   "outputs": [],
   "source": [
    "trX = np.linspace(-1, 1, 101)\n",
    "trY = 2 * trX + np.random.randn(*trX.shape) * 0.33 # create a y value which is approximately linear but with some random noise"
   ]
  },
  {
   "cell_type": "code",
   "execution_count": 12,
   "metadata": {
    "collapsed": false
   },
   "outputs": [
    {
     "data": {
      "text/plain": [
       "(101,)"
      ]
     },
     "execution_count": 12,
     "metadata": {},
     "output_type": "execute_result"
    }
   ],
   "source": [
    "trX.shape"
   ]
  },
  {
   "cell_type": "code",
   "execution_count": 13,
   "metadata": {
    "collapsed": false
   },
   "outputs": [
    {
     "data": {
      "text/plain": [
       "(101,)"
      ]
     },
     "execution_count": 13,
     "metadata": {},
     "output_type": "execute_result"
    }
   ],
   "source": [
    "trY.shape"
   ]
  },
  {
   "cell_type": "code",
   "execution_count": 14,
   "metadata": {
    "collapsed": false
   },
   "outputs": [],
   "source": [
    "from sklearn.preprocessing import Normalizer\n",
    "nm = Normalizer()\n",
    "#trX = nm.fit_transform(trX.reshape(1,-1))\n",
    "#trY = nm.transform(trY.reshape(1,-1))"
   ]
  },
  {
   "cell_type": "code",
   "execution_count": 15,
   "metadata": {
    "collapsed": true
   },
   "outputs": [],
   "source": [
    "X = tf.placeholder(\"float\") # create symbolic variables\n",
    "Y = tf.placeholder(\"float\")"
   ]
  },
  {
   "cell_type": "code",
   "execution_count": 16,
   "metadata": {
    "collapsed": false
   },
   "outputs": [],
   "source": [
    "def model(X, w):\n",
    "    return tf.mul(X, w) # lr is just X*w so this model line is pretty simple\n",
    "\n",
    "\n",
    "w = tf.Variable(0.0, name=\"weights\") # create a shared variable (like theano.shared) for the weight matrix\n",
    "y_model = model(X, w)"
   ]
  },
  {
   "cell_type": "code",
   "execution_count": 17,
   "metadata": {
    "collapsed": true
   },
   "outputs": [],
   "source": [
    "cost = tf.square(Y - y_model) # use square error for cost function\n",
    "#reg = tf.nn.l2_loss(w)\n",
    "#cost = tf.reduce_mean(cost + 0.5 * reg)\n",
    "correct_prediction = tf.equal(Y, y_model)\n",
    "accuracy = tf.reduce_mean(tf.cast(correct_prediction, tf.float32))"
   ]
  },
  {
   "cell_type": "code",
   "execution_count": 18,
   "metadata": {
    "collapsed": false
   },
   "outputs": [
    {
     "name": "stdout",
     "output_type": "stream",
     "text": [
      "1.89602\n",
      "1.89142\n",
      "[-2.11388655 -1.69863548 -1.36619497 -2.2658756  -1.69035832 -2.09692995\n",
      " -2.30643722 -1.85869633 -1.81266949 -1.22807052 -1.84777957 -1.45443799\n",
      " -1.34973586 -0.99378177 -1.11307094 -1.38821472 -1.68518176 -0.9599987\n",
      " -1.91322383 -1.24124641 -0.88658274 -0.58169809 -1.35711735 -0.68205873\n",
      " -1.1932606  -1.27985034 -1.30625145 -1.49725885 -0.59659487  0.16859407\n",
      " -1.28188122 -0.57979608 -0.75691646 -0.92022698 -0.94952285 -0.52473806\n",
      " -0.17777679 -0.73669798 -0.32162248 -0.13332748 -0.69558899  0.0292458\n",
      " -0.0620202  -0.0979392  -0.80759692 -0.00448002  0.08201724  0.04148518\n",
      " -0.2051975  -0.08174829 -0.00802882 -0.67352202  0.14627735 -0.06312246\n",
      "  0.48990775  0.24234844  0.15205937  0.54984113  0.31727208  0.44111034\n",
      "  0.7931345  -0.13519105  0.07595008  0.57257558  0.26185555  0.73215047\n",
      "  0.49707652  1.12130904  0.95958687  0.65103268  0.76882007  0.73983371\n",
      "  0.49211075  0.96720962  0.72180771  0.5611673   1.39393794  0.75086123\n",
      "  1.4049795   1.64345533  1.15732725  0.48425167  1.67988575  1.00237523\n",
      "  1.72120888  1.35642998  1.70812218  1.32449614  0.92505357  1.13548683\n",
      "  1.30430301  0.7817449   1.86272596  1.52512397  2.06835777  1.60220423\n",
      "  1.48389419  1.29741084  1.50952728  2.34058719  2.12118392]\n",
      "** Accuracy 0.0\n"
     ]
    }
   ],
   "source": [
    "train_op = tf.train.GradientDescentOptimizer(0.01).minimize(cost) # construct an optimizer to minimize cost and fit line to my data\n",
    "\n",
    "# Launch the graph in a session\n",
    "with tf.Session() as sess:\n",
    "    # you need to initialize variables (in this case just variable W)\n",
    "    tf.initialize_all_variables().run()\n",
    "\n",
    "    for i in range(10):\n",
    "        for (x, y) in zip(trX, trY):\n",
    "            tr_cost, tr_train_op, tr_y_model, tr_accuracy = sess.run([cost, train_op, y_model, accuracy], feed_dict={X: x, Y: y})\n",
    "            \n",
    "            \n",
    "\n",
    "    print(sess.run(w))  # It should be something around 2\n",
    "    print(tr_y_model)\n",
    "    print(trY)\n",
    "    print(\"** Accuracy {}\".format(tr_accuracy))\n",
    "    "
   ]
  }
 ],
 "metadata": {
  "kernelspec": {
   "display_name": "Python 3",
   "language": "python",
   "name": "python3"
  },
  "language_info": {
   "codemirror_mode": {
    "name": "ipython",
    "version": 3
   },
   "file_extension": ".py",
   "mimetype": "text/x-python",
   "name": "python",
   "nbconvert_exporter": "python",
   "pygments_lexer": "ipython3",
   "version": "3.5.2"
  }
 },
 "nbformat": 4,
 "nbformat_minor": 2
}
