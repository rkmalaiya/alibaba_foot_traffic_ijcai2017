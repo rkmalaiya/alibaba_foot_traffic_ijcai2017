{
 "cells": [
  {
   "cell_type": "code",
   "execution_count": 16,
   "metadata": {
    "collapsed": false,
    "deletable": true,
    "editable": true,
    "slideshow": {
     "slide_type": "skip"
    }
   },
   "outputs": [],
   "source": [
    "import pandas as pd\n",
    "import numpy as np\n",
    "import sqlite3\n",
    "import os.path\n",
    "from sqlalchemy import create_engine\n",
    "from matplotlib import pyplot as plt\n",
    "import pickle as pk\n",
    "import qgrid\n",
    "import collections\n",
    "import tensorflow as tf\n",
    "\n",
    "from keras.models import Sequential\n",
    "from keras.layers import Dense\n",
    "from keras.layers import LSTM\n",
    "from sklearn.preprocessing import MinMaxScaler\n",
    "from sklearn.metrics import mean_squared_error\n",
    "\n",
    "pd.set_option(\"display.max_rows\",15)\n",
    "%matplotlib inline"
   ]
  },
  {
   "cell_type": "code",
   "execution_count": 17,
   "metadata": {
    "collapsed": true
   },
   "outputs": [],
   "source": [
    "shape_of_network = [50,128,1]\n",
    "num_of_layers_dense = 2\n",
    "\n",
    "fi = open(\"x_y_input_traffic_shop_id_1.pkl\",\"rb\")\n",
    "data = pk.load(fi)\n",
    "x_train, x_valid, x_test, y_train, y_valid, y_test =  map(data.get, ('x_train', 'x_valid', 'x_test', 'y_train', 'y_valid', 'y_test'))\n",
    "fi.close()"
   ]
  },
  {
   "cell_type": "code",
   "execution_count": 18,
   "metadata": {
    "collapsed": false,
    "deletable": true,
    "editable": true
   },
   "outputs": [],
   "source": [
    "model = Sequential()\n",
    "with tf.name_scope(\"keras_dense\"):\n",
    "    model.add(Dense(shape_of_network[0], input_dim = shape_of_network[0], kernel_initializer='uniform' ,activation = 'relu'))\n",
    "    model.add(Dense(shape_of_network[1], kernel_initializer='uniform' ,activation = 'relu'))\n",
    "    model.add(Dense(shape_of_network[-1], kernel_initializer='uniform', activation=None))\n",
    "\n",
    "#with tf.name_scope(\"keras_loss\"):\n",
    "def k_loss(k_y_, k_y):\n",
    "    return tf.reduce_mean(\n",
    "        tf.abs(\n",
    "            tf.divide(\n",
    "                tf.subtract(k_y, k_y_),\n",
    "                tf.add(k_y, k_y_)\n",
    "            )\n",
    "        )\n",
    "    )\n",
    "model.compile(loss = k_loss, optimizer=\"adam\")\n"
   ]
  },
  {
   "cell_type": "code",
   "execution_count": 19,
   "metadata": {
    "collapsed": false,
    "deletable": true,
    "editable": true
   },
   "outputs": [
    {
     "name": "stdout",
     "output_type": "stream",
     "text": [
      "Train on 1 samples, validate on 0 samples\n",
      "Epoch 1/100\n",
      "1/1 [==============================] - 0s - loss: 0.9894\n",
      "Epoch 2/100\n",
      "1/1 [==============================] - 0s - loss: 0.9627\n",
      "Epoch 3/100\n",
      "1/1 [==============================] - 0s - loss: 0.9362\n",
      "Epoch 4/100\n",
      "1/1 [==============================] - 0s - loss: 0.9074\n",
      "Epoch 5/100\n",
      "1/1 [==============================] - 0s - loss: 0.8751\n",
      "Epoch 6/100\n",
      "1/1 [==============================] - 0s - loss: 0.8395\n",
      "Epoch 7/100\n",
      "1/1 [==============================] - 0s - loss: 0.8008\n",
      "Epoch 8/100\n",
      "1/1 [==============================] - 0s - loss: 0.7589\n",
      "Epoch 9/100\n",
      "1/1 [==============================] - 0s - loss: 0.7138\n",
      "Epoch 10/100\n",
      "1/1 [==============================] - 0s - loss: 0.6658\n",
      "Epoch 11/100\n",
      "1/1 [==============================] - 0s - loss: 0.6157\n",
      "Epoch 12/100\n",
      "1/1 [==============================] - 0s - loss: 0.5630\n",
      "Epoch 13/100\n",
      "1/1 [==============================] - 0s - loss: 0.5082\n",
      "Epoch 14/100\n",
      "1/1 [==============================] - 0s - loss: 0.4516\n",
      "Epoch 15/100\n",
      "1/1 [==============================] - 0s - loss: 0.3938\n",
      "Epoch 16/100\n",
      "1/1 [==============================] - 0s - loss: 0.3352\n",
      "Epoch 17/100\n",
      "1/1 [==============================] - 0s - loss: 0.2764\n",
      "Epoch 18/100\n",
      "1/1 [==============================] - 0s - loss: 0.2179\n",
      "Epoch 19/100\n",
      "1/1 [==============================] - 0s - loss: 0.1600\n",
      "Epoch 20/100\n",
      "1/1 [==============================] - 0s - loss: 0.1033\n",
      "Epoch 21/100\n",
      "1/1 [==============================] - 0s - loss: 0.0481\n",
      "Epoch 22/100\n",
      "1/1 [==============================] - 0s - loss: 0.0054\n",
      "Epoch 23/100\n",
      "1/1 [==============================] - 0s - loss: 0.0454\n",
      "Epoch 24/100\n",
      "1/1 [==============================] - 0s - loss: 0.0747\n",
      "Epoch 25/100\n",
      "1/1 [==============================] - 0s - loss: 0.0952\n",
      "Epoch 26/100\n",
      "1/1 [==============================] - 0s - loss: 0.1083\n",
      "Epoch 27/100\n",
      "1/1 [==============================] - 0s - loss: 0.1152\n",
      "Epoch 28/100\n",
      "1/1 [==============================] - 0s - loss: 0.1167\n",
      "Epoch 29/100\n",
      "1/1 [==============================] - 0s - loss: 0.1135\n",
      "Epoch 30/100\n",
      "1/1 [==============================] - 0s - loss: 0.1062\n",
      "Epoch 31/100\n",
      "1/1 [==============================] - 0s - loss: 0.0950\n",
      "Epoch 32/100\n",
      "1/1 [==============================] - 0s - loss: 0.0803\n",
      "Epoch 33/100\n",
      "1/1 [==============================] - 0s - loss: 0.0622\n",
      "Epoch 34/100\n",
      "1/1 [==============================] - 0s - loss: 0.0410\n",
      "Epoch 35/100\n",
      "1/1 [==============================] - 0s - loss: 0.0168\n",
      "Epoch 36/100\n",
      "1/1 [==============================] - 0s - loss: 0.0104\n",
      "Epoch 37/100\n",
      "1/1 [==============================] - 0s - loss: 0.0298\n",
      "Epoch 38/100\n",
      "1/1 [==============================] - 0s - loss: 0.0419\n",
      "Epoch 39/100\n",
      "1/1 [==============================] - 0s - loss: 0.0473\n",
      "Epoch 40/100\n",
      "1/1 [==============================] - 0s - loss: 0.0468\n",
      "Epoch 41/100\n",
      "1/1 [==============================] - 0s - loss: 0.0409\n",
      "Epoch 42/100\n",
      "1/1 [==============================] - 0s - loss: 0.0302\n",
      "Epoch 43/100\n",
      "1/1 [==============================] - 0s - loss: 0.0155\n",
      "Epoch 44/100\n",
      "1/1 [==============================] - 0s - loss: 0.0028\n",
      "Epoch 45/100\n",
      "1/1 [==============================] - 0s - loss: 0.0140\n",
      "Epoch 46/100\n",
      "1/1 [==============================] - 0s - loss: 0.0191\n",
      "Epoch 47/100\n",
      "1/1 [==============================] - 0s - loss: 0.0187\n",
      "Epoch 48/100\n",
      "1/1 [==============================] - 0s - loss: 0.0136\n",
      "Epoch 49/100\n",
      "1/1 [==============================] - 0s - loss: 0.0041\n",
      "Epoch 50/100\n",
      "1/1 [==============================] - 0s - loss: 0.0094\n",
      "Epoch 51/100\n",
      "1/1 [==============================] - 0s - loss: 0.0166\n",
      "Epoch 52/100\n",
      "1/1 [==============================] - 0s - loss: 0.0181\n",
      "Epoch 53/100\n",
      "1/1 [==============================] - 0s - loss: 0.0143\n",
      "Epoch 54/100\n",
      "1/1 [==============================] - 0s - loss: 0.0059\n",
      "Epoch 55/100\n",
      "1/1 [==============================] - 0s - loss: 0.0066\n",
      "Epoch 56/100\n",
      "1/1 [==============================] - 0s - loss: 0.0129\n",
      "Epoch 57/100\n",
      "1/1 [==============================] - 0s - loss: 0.0137\n",
      "Epoch 58/100\n",
      "1/1 [==============================] - 0s - loss: 0.0096\n",
      "Epoch 59/100\n",
      "1/1 [==============================] - 0s - loss: 0.0010\n",
      "Epoch 60/100\n",
      "1/1 [==============================] - 0s - loss: 0.0116\n",
      "Epoch 61/100\n",
      "1/1 [==============================] - 0s - loss: 0.0180\n",
      "Epoch 62/100\n",
      "1/1 [==============================] - 0s - loss: 0.0188\n",
      "Epoch 63/100\n",
      "1/1 [==============================] - 0s - loss: 0.0145\n",
      "Epoch 64/100\n",
      "1/1 [==============================] - 0s - loss: 0.0057\n",
      "Epoch 65/100\n",
      "1/1 [==============================] - 0s - loss: 0.0072\n",
      "Epoch 66/100\n",
      "1/1 [==============================] - 0s - loss: 0.0138\n",
      "Epoch 67/100\n",
      "1/1 [==============================] - 0s - loss: 0.0150\n",
      "Epoch 68/100\n",
      "1/1 [==============================] - 0s - loss: 0.0113\n",
      "Epoch 69/100\n",
      "1/1 [==============================] - 0s - loss: 0.0031\n",
      "Epoch 70/100\n",
      "1/1 [==============================] - 0s - loss: 0.0091\n",
      "Epoch 71/100\n",
      "1/1 [==============================] - 0s - loss: 0.0153\n",
      "Epoch 72/100\n",
      "1/1 [==============================] - 0s - loss: 0.0158\n",
      "Epoch 73/100\n",
      "1/1 [==============================] - 0s - loss: 0.0114\n",
      "Epoch 74/100\n",
      "1/1 [==============================] - 0s - loss: 0.0024\n",
      "Epoch 75/100\n",
      "1/1 [==============================] - 0s - loss: 0.0105\n",
      "Epoch 76/100\n",
      "1/1 [==============================] - 0s - loss: 0.0172\n",
      "Epoch 77/100\n",
      "1/1 [==============================] - 0s - loss: 0.0185\n",
      "Epoch 78/100\n",
      "1/1 [==============================] - 0s - loss: 0.0149\n",
      "Epoch 79/100\n",
      "1/1 [==============================] - 0s - loss: 0.0069\n",
      "Epoch 80/100\n",
      "1/1 [==============================] - 0s - loss: 0.0051\n",
      "Epoch 81/100\n",
      "1/1 [==============================] - 0s - loss: 0.0111\n",
      "Epoch 82/100\n",
      "1/1 [==============================] - 0s - loss: 0.0116\n",
      "Epoch 83/100\n",
      "1/1 [==============================] - 0s - loss: 0.0071\n",
      "Epoch 84/100\n",
      "1/1 [==============================] - 0s - loss: 0.0018\n",
      "Epoch 85/100\n",
      "1/1 [==============================] - 0s - loss: 0.0050\n",
      "Epoch 86/100\n",
      "1/1 [==============================] - 0s - loss: 0.0030\n",
      "Epoch 87/100\n",
      "1/1 [==============================] - 0s - loss: 0.0036\n",
      "Epoch 88/100\n",
      "1/1 [==============================] - 0s - loss: 0.0047\n",
      "Epoch 89/100\n",
      "1/1 [==============================] - 0s - loss: 7.6111e-04\n",
      "Epoch 90/100\n",
      "1/1 [==============================] - 0s - loss: 0.0076\n",
      "Epoch 91/100\n",
      "1/1 [==============================] - 0s - loss: 0.0103\n",
      "Epoch 92/100\n",
      "1/1 [==============================] - 0s - loss: 0.0080\n",
      "Epoch 93/100\n",
      "1/1 [==============================] - 0s - loss: 0.0011\n",
      "Epoch 94/100\n",
      "1/1 [==============================] - 0s - loss: 0.0100\n",
      "Epoch 95/100\n",
      "1/1 [==============================] - 0s - loss: 0.0151\n",
      "Epoch 96/100\n",
      "1/1 [==============================] - 0s - loss: 0.0148\n",
      "Epoch 97/100\n",
      "1/1 [==============================] - 0s - loss: 0.0095\n",
      "Epoch 98/100\n",
      "1/1 [==============================] - 0s - loss: 1.0627e-04\n",
      "Epoch 99/100\n",
      "1/1 [==============================] - 0s - loss: 0.0039\n",
      "Epoch 100/100\n",
      "1/1 [==============================] - 0s - loss: 0.0025\n"
     ]
    }
   ],
   "source": [
    "#tensorboard_callback = callbacks.TensorBoard(log_dir='./logs/5', histogram_freq=0, write_graph=True, write_images=True)\n",
    "with tf.name_scope(\"keras_fit\"):\n",
    "    model.fit(x_train, y_train, epochs = 100, validation_data = (x_valid, y_valid))"
   ]
  },
  {
   "cell_type": "code",
   "execution_count": 20,
   "metadata": {
    "collapsed": false,
    "deletable": true,
    "editable": true
   },
   "outputs": [
    {
     "name": "stdout",
     "output_type": "stream",
     "text": [
      "1/1 [==============================] - 0s\n"
     ]
    },
    {
     "data": {
      "text/plain": [
       "0.80936068296432495"
      ]
     },
     "execution_count": 20,
     "metadata": {},
     "output_type": "execute_result"
    }
   ],
   "source": [
    "scores = model.evaluate(x_test, y_test)\n",
    "scores"
   ]
  },
  {
   "cell_type": "code",
   "execution_count": 22,
   "metadata": {
    "collapsed": false,
    "deletable": true,
    "editable": true
   },
   "outputs": [
    {
     "ename": "ValueError",
     "evalue": "Input 0 is incompatible with layer lstm_1: expected ndim=3, found ndim=4",
     "output_type": "error",
     "traceback": [
      "\u001b[0;31m---------------------------------------------------------------------------\u001b[0m",
      "\u001b[0;31mValueError\u001b[0m                                Traceback (most recent call last)",
      "\u001b[0;32m<ipython-input-22-4560c3bc5cbc>\u001b[0m in \u001b[0;36m<module>\u001b[0;34m()\u001b[0m\n\u001b[1;32m      1\u001b[0m \u001b[0;32mfrom\u001b[0m \u001b[0mkeras\u001b[0m\u001b[0;34m.\u001b[0m\u001b[0mlayers\u001b[0m \u001b[0;32mimport\u001b[0m \u001b[0mLSTM\u001b[0m\u001b[0;34m\u001b[0m\u001b[0m\n\u001b[1;32m      2\u001b[0m \u001b[0mmodel\u001b[0m \u001b[0;34m=\u001b[0m \u001b[0mSequential\u001b[0m\u001b[0;34m(\u001b[0m\u001b[0;34m)\u001b[0m\u001b[0;34m\u001b[0m\u001b[0m\n\u001b[0;32m----> 3\u001b[0;31m \u001b[0mmodel\u001b[0m\u001b[0;34m.\u001b[0m\u001b[0madd\u001b[0m\u001b[0;34m(\u001b[0m\u001b[0mLSTM\u001b[0m\u001b[0;34m(\u001b[0m\u001b[0mshape_of_network\u001b[0m\u001b[0;34m[\u001b[0m\u001b[0;36m0\u001b[0m\u001b[0;34m]\u001b[0m\u001b[0;34m,\u001b[0m \u001b[0minput_shape\u001b[0m\u001b[0;34m=\u001b[0m\u001b[0;34m(\u001b[0m\u001b[0;32mNone\u001b[0m\u001b[0;34m,\u001b[0m \u001b[0;32mNone\u001b[0m\u001b[0;34m,\u001b[0m \u001b[0;36m7\u001b[0m\u001b[0;34m)\u001b[0m\u001b[0;34m)\u001b[0m\u001b[0;34m)\u001b[0m\u001b[0;34m\u001b[0m\u001b[0m\n\u001b[0m\u001b[1;32m      4\u001b[0m \u001b[0mmodel\u001b[0m\u001b[0;34m.\u001b[0m\u001b[0mcompile\u001b[0m\u001b[0;34m(\u001b[0m\u001b[0mloss\u001b[0m \u001b[0;34m=\u001b[0m \u001b[0mlosses\u001b[0m\u001b[0;34m.\u001b[0m\u001b[0mmean_squared_error\u001b[0m\u001b[0;34m,\u001b[0m \u001b[0moptimizer\u001b[0m\u001b[0;34m=\u001b[0m\u001b[0;34m\"adam\"\u001b[0m\u001b[0;34m)\u001b[0m\u001b[0;34m\u001b[0m\u001b[0m\n",
      "\u001b[0;32m/home/ritesh_malaiya/anaconda3/envs/p3/lib/python3.6/site-packages/keras/models.py\u001b[0m in \u001b[0;36madd\u001b[0;34m(self, layer)\u001b[0m\n\u001b[1;32m    420\u001b[0m                 \u001b[0;31m# and create the node connecting the current layer\u001b[0m\u001b[0;34m\u001b[0m\u001b[0;34m\u001b[0m\u001b[0m\n\u001b[1;32m    421\u001b[0m                 \u001b[0;31m# to the input layer we just created.\u001b[0m\u001b[0;34m\u001b[0m\u001b[0;34m\u001b[0m\u001b[0m\n\u001b[0;32m--> 422\u001b[0;31m                 \u001b[0mlayer\u001b[0m\u001b[0;34m(\u001b[0m\u001b[0mx\u001b[0m\u001b[0;34m)\u001b[0m\u001b[0;34m\u001b[0m\u001b[0m\n\u001b[0m\u001b[1;32m    423\u001b[0m \u001b[0;34m\u001b[0m\u001b[0m\n\u001b[1;32m    424\u001b[0m             \u001b[0;32mif\u001b[0m \u001b[0mlen\u001b[0m\u001b[0;34m(\u001b[0m\u001b[0mlayer\u001b[0m\u001b[0;34m.\u001b[0m\u001b[0minbound_nodes\u001b[0m\u001b[0;34m)\u001b[0m \u001b[0;34m!=\u001b[0m \u001b[0;36m1\u001b[0m\u001b[0;34m:\u001b[0m\u001b[0;34m\u001b[0m\u001b[0m\n",
      "\u001b[0;32m/home/ritesh_malaiya/anaconda3/envs/p3/lib/python3.6/site-packages/keras/layers/recurrent.py\u001b[0m in \u001b[0;36m__call__\u001b[0;34m(self, inputs, initial_state, **kwargs)\u001b[0m\n\u001b[1;32m    250\u001b[0m             \u001b[0;32melse\u001b[0m\u001b[0;34m:\u001b[0m\u001b[0;34m\u001b[0m\u001b[0m\n\u001b[1;32m    251\u001b[0m                 \u001b[0mkwargs\u001b[0m\u001b[0;34m[\u001b[0m\u001b[0;34m'initial_state'\u001b[0m\u001b[0;34m]\u001b[0m \u001b[0;34m=\u001b[0m \u001b[0minitial_state\u001b[0m\u001b[0;34m\u001b[0m\u001b[0m\n\u001b[0;32m--> 252\u001b[0;31m         \u001b[0;32mreturn\u001b[0m \u001b[0msuper\u001b[0m\u001b[0;34m(\u001b[0m\u001b[0mRecurrent\u001b[0m\u001b[0;34m,\u001b[0m \u001b[0mself\u001b[0m\u001b[0;34m)\u001b[0m\u001b[0;34m.\u001b[0m\u001b[0m__call__\u001b[0m\u001b[0;34m(\u001b[0m\u001b[0minputs\u001b[0m\u001b[0;34m,\u001b[0m \u001b[0;34m**\u001b[0m\u001b[0mkwargs\u001b[0m\u001b[0;34m)\u001b[0m\u001b[0;34m\u001b[0m\u001b[0m\n\u001b[0m\u001b[1;32m    253\u001b[0m \u001b[0;34m\u001b[0m\u001b[0m\n\u001b[1;32m    254\u001b[0m     \u001b[0;32mdef\u001b[0m \u001b[0mcall\u001b[0m\u001b[0;34m(\u001b[0m\u001b[0mself\u001b[0m\u001b[0;34m,\u001b[0m \u001b[0minputs\u001b[0m\u001b[0;34m,\u001b[0m \u001b[0mmask\u001b[0m\u001b[0;34m=\u001b[0m\u001b[0;32mNone\u001b[0m\u001b[0;34m,\u001b[0m \u001b[0minitial_state\u001b[0m\u001b[0;34m=\u001b[0m\u001b[0;32mNone\u001b[0m\u001b[0;34m,\u001b[0m \u001b[0mtraining\u001b[0m\u001b[0;34m=\u001b[0m\u001b[0;32mNone\u001b[0m\u001b[0;34m)\u001b[0m\u001b[0;34m:\u001b[0m\u001b[0;34m\u001b[0m\u001b[0m\n",
      "\u001b[0;32m/home/ritesh_malaiya/anaconda3/envs/p3/lib/python3.6/site-packages/keras/engine/topology.py\u001b[0m in \u001b[0;36m__call__\u001b[0;34m(self, inputs, **kwargs)\u001b[0m\n\u001b[1;32m    509\u001b[0m                 \u001b[0;31m# Raise exceptions in case the input is not compatible\u001b[0m\u001b[0;34m\u001b[0m\u001b[0;34m\u001b[0m\u001b[0m\n\u001b[1;32m    510\u001b[0m                 \u001b[0;31m# with the input_spec specified in the layer constructor.\u001b[0m\u001b[0;34m\u001b[0m\u001b[0;34m\u001b[0m\u001b[0m\n\u001b[0;32m--> 511\u001b[0;31m                 \u001b[0mself\u001b[0m\u001b[0;34m.\u001b[0m\u001b[0massert_input_compatibility\u001b[0m\u001b[0;34m(\u001b[0m\u001b[0minputs\u001b[0m\u001b[0;34m)\u001b[0m\u001b[0;34m\u001b[0m\u001b[0m\n\u001b[0m\u001b[1;32m    512\u001b[0m \u001b[0;34m\u001b[0m\u001b[0m\n\u001b[1;32m    513\u001b[0m                 \u001b[0;31m# Collect input shapes to build layer.\u001b[0m\u001b[0;34m\u001b[0m\u001b[0;34m\u001b[0m\u001b[0m\n",
      "\u001b[0;32m/home/ritesh_malaiya/anaconda3/envs/p3/lib/python3.6/site-packages/keras/engine/topology.py\u001b[0m in \u001b[0;36massert_input_compatibility\u001b[0;34m(self, inputs)\u001b[0m\n\u001b[1;32m    411\u001b[0m                                      \u001b[0mself\u001b[0m\u001b[0;34m.\u001b[0m\u001b[0mname\u001b[0m \u001b[0;34m+\u001b[0m \u001b[0;34m': expected ndim='\u001b[0m \u001b[0;34m+\u001b[0m\u001b[0;34m\u001b[0m\u001b[0m\n\u001b[1;32m    412\u001b[0m                                      \u001b[0mstr\u001b[0m\u001b[0;34m(\u001b[0m\u001b[0mspec\u001b[0m\u001b[0;34m.\u001b[0m\u001b[0mndim\u001b[0m\u001b[0;34m)\u001b[0m \u001b[0;34m+\u001b[0m \u001b[0;34m', found ndim='\u001b[0m \u001b[0;34m+\u001b[0m\u001b[0;34m\u001b[0m\u001b[0m\n\u001b[0;32m--> 413\u001b[0;31m                                      str(K.ndim(x)))\n\u001b[0m\u001b[1;32m    414\u001b[0m             \u001b[0;32mif\u001b[0m \u001b[0mspec\u001b[0m\u001b[0;34m.\u001b[0m\u001b[0mmax_ndim\u001b[0m \u001b[0;32mis\u001b[0m \u001b[0;32mnot\u001b[0m \u001b[0;32mNone\u001b[0m\u001b[0;34m:\u001b[0m\u001b[0;34m\u001b[0m\u001b[0m\n\u001b[1;32m    415\u001b[0m                 \u001b[0mndim\u001b[0m \u001b[0;34m=\u001b[0m \u001b[0mK\u001b[0m\u001b[0;34m.\u001b[0m\u001b[0mndim\u001b[0m\u001b[0;34m(\u001b[0m\u001b[0mx\u001b[0m\u001b[0;34m)\u001b[0m\u001b[0;34m\u001b[0m\u001b[0m\n",
      "\u001b[0;31mValueError\u001b[0m: Input 0 is incompatible with layer lstm_1: expected ndim=3, found ndim=4"
     ]
    }
   ],
   "source": [
    "from keras.layers import LSTM\n",
    "model = Sequential()\n",
    "model.add(LSTM(shape_of_network[0], input_shape=(None, None, 7)))\n",
    "model.compile(loss = losses.mean_squared_error, optimizer=\"adam\")"
   ]
  },
  {
   "cell_type": "code",
   "execution_count": null,
   "metadata": {
    "collapsed": false,
    "deletable": true,
    "editable": true
   },
   "outputs": [],
   "source": [
    "x_train_reshaped = np.reshape(x_train, (x_train.shape[0], 1, x_train.shape[1]))\n",
    "x_valid_reshaped = np.reshape(x_valid, (x_valid.shape[0], 1, x_valid.shape[1]))\n",
    "print(x_train_reshaped.shape)"
   ]
  },
  {
   "cell_type": "code",
   "execution_count": null,
   "metadata": {
    "collapsed": false,
    "deletable": true,
    "editable": true
   },
   "outputs": [],
   "source": [
    "model.fit(x_train_reshaped, y_train, epochs = 10, validation_data = (x_valid, y_valid))"
   ]
  },
  {
   "cell_type": "code",
   "execution_count": null,
   "metadata": {
    "collapsed": true,
    "deletable": true,
    "editable": true
   },
   "outputs": [],
   "source": [
    "#scores = model.evaluate(x_test, y_test)\n",
    "#scores"
   ]
  }
 ],
 "metadata": {
  "_draft": {
   "nbviewer_url": "https://gist.github.com/d4ddc9163685d4ca3a6d11aae019a757"
  },
  "celltoolbar": "Slideshow",
  "gist": {
   "data": {
    "description": "Can be discussed with Derek",
    "public": false
   },
   "id": "d4ddc9163685d4ca3a6d11aae019a757"
  },
  "kernelspec": {
   "display_name": "Python 3",
   "language": "python",
   "name": "python3"
  },
  "language_info": {
   "codemirror_mode": {
    "name": "ipython",
    "version": 3
   },
   "file_extension": ".py",
   "mimetype": "text/x-python",
   "name": "python",
   "nbconvert_exporter": "python",
   "pygments_lexer": "ipython3",
   "version": "3.6.0"
  },
  "toc": {
   "colors": {
    "hover_highlight": "#DAA520",
    "running_highlight": "#FF0000",
    "selected_highlight": "#FFD700"
   },
   "moveMenuLeft": true,
   "nav_menu": {
    "height": "12px",
    "width": "252px"
   },
   "navigate_menu": true,
   "number_sections": true,
   "sideBar": true,
   "threshold": 4,
   "toc_cell": false,
   "toc_section_display": "block",
   "toc_window_display": false
  }
 },
 "nbformat": 4,
 "nbformat_minor": 2
}
