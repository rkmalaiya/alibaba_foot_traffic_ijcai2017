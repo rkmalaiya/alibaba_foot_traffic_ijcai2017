{
 "cells": [
  {
   "cell_type": "code",
   "execution_count": 1,
   "metadata": {
    "collapsed": false,
    "deletable": true,
    "editable": true,
    "slideshow": {
     "slide_type": "skip"
    }
   },
   "outputs": [],
   "source": [
    "import pandas as pd\n",
    "import numpy as np\n",
    "import sqlite3\n",
    "import os.path\n",
    "from sqlalchemy import create_engine\n",
    "from matplotlib import pyplot as plt\n",
    "import pickle as pk\n",
    "import qgrid\n",
    "import collections\n",
    "\n",
    "pd.set_option(\"display.max_rows\",15)\n",
    "%matplotlib inline"
   ]
  },
  {
   "cell_type": "code",
   "execution_count": 2,
   "metadata": {
    "collapsed": true,
    "deletable": true,
    "editable": true
   },
   "outputs": [],
   "source": [
    "shape_of_network = [2,1,1]\n",
    "num_of_layers_dense = 2\n",
    "\n",
    "fi = open(\"x_y_input_traffic_shop_id_1.pkl\",\"rb\")\n",
    "data = pk.load(fi)\n",
    "x_train, x_valid, x_test, y_train, y_valid, y_test =  map(data.get, ('x_train', 'x_valid', 'x_test', 'y_train', 'y_valid', 'y_test'))\n",
    "fi.close()"
   ]
  },
  {
   "cell_type": "code",
   "execution_count": 3,
   "metadata": {
    "collapsed": true,
    "deletable": true,
    "editable": true
   },
   "outputs": [],
   "source": [
    "import tensorflow as tf"
   ]
  },
  {
   "cell_type": "code",
   "execution_count": 4,
   "metadata": {
    "collapsed": false,
    "deletable": true,
    "editable": true
   },
   "outputs": [],
   "source": [
    "graph_dense = tf.Graph()\n",
    "with graph_dense.as_default():\n",
    "    with tf.name_scope(\"dense_inputs\"):\n",
    "        x = tf.placeholder(dtype = tf.float64, shape = [None, shape_of_network[0]], name=\"x\")\n",
    "        y_ = tf.placeholder(dtype = tf.float64, shape = [None, shape_of_network[-1]], name = \"y_\")\n",
    "\n",
    "    y_h = x\n",
    "    with tf.name_scope(\"dense_hidden\"):\n",
    "        w_h = tf.Variable(tf.truncated_normal(shape = [shape_of_network[0], shape_of_network[1]], dtype = tf.float64), name = \"hidden_weights\")\n",
    "        tf.summary.histogram(name=\"hidden_weights_0\", values = w_h)\n",
    "            \n",
    "        b_h = tf.Variable(tf.constant(value = 0.1, dtype = tf.float64, shape=[shape_of_network[1]]), name=\"hidden_bias\")\n",
    "        y_h = tf.nn.relu(tf.matmul(y_h , w_h) + b_h, name=\"relu\")\n",
    "            \n",
    "        for i in range(1, num_of_layers_dense):\n",
    "            w_h = tf.Variable(tf.truncated_normal(shape = [shape_of_network[1], shape_of_network[1]], dtype = tf.float64), name = \"hidden_weights\")\n",
    "            tf.summary.histogram(name=\"hidden_weights_{}\".format(i), values = w_h)\n",
    "            \n",
    "            b_h = tf.Variable(tf.constant(value = 0.1, dtype = tf.float64, shape=[shape_of_network[1]]), name=\"hidden_bias\")\n",
    "        \n",
    "            y_h = tf.nn.relu(tf.matmul(y_h , w_h) + b_h, name=\"relu\")\n",
    "\n",
    "    with tf.name_scope(\"dense_outputs\"):\n",
    "        w_o = tf.Variable(tf.truncated_normal(shape = [shape_of_network[1], shape_of_network[-1]], dtype = tf.float64), name = \"output_weights\")\n",
    "        tf.summary.histogram(name=\"output_weights\", values = w_o)\n",
    "        b_o = tf.Variable(tf.constant(value = 0.1, dtype = tf.float64, shape=[shape_of_network[-1]]), name=\"output_bias\")\n",
    "    \n",
    "        y = tf.matmul(y_h, w_o) + b_o\n",
    "\n",
    "    with tf.name_scope(\"cost\"):\n",
    "        cost = tf.reduce_mean(\n",
    "            tf.abs(\n",
    "                tf.divide(\n",
    "                    tf.subtract(y, y_),\n",
    "                    tf.add(y, y_)\n",
    "                )\n",
    "            )\n",
    "        , name = \"cost\")\n",
    "        tf.summary.scalar(name=\"cost\",  tensor = cost)\n",
    "\n",
    "    with tf.name_scope(\"optimizer\"):\n",
    "        learning_rate=0.001\n",
    "        grad_clip=5\n",
    "        tvars = tf.trainable_variables()\n",
    "        grads, _ = tf.clip_by_global_norm(tf.gradients(cost, tvars), grad_clip)\n",
    "        train_op = tf.train.AdamOptimizer(learning_rate)\n",
    "        optimizer = train_op.apply_gradients(zip(grads, tvars))"
   ]
  },
  {
   "cell_type": "markdown",
   "metadata": {
    "deletable": true,
    "editable": true
   },
   "source": [
    "num_of_layers_lstm = 2\n",
    "rnn_size = 2\n",
    "batch_size = 128\n",
    "\n",
    "graph_lstm = tf.Graph()\n",
    "with graph_lstm.as_default():\n",
    "    with tf.name_scope(\"lstm_inputs\"):\n",
    "        lstm_x = tf.placeholder(dtype = tf.float64, shape = [None, shape_of_network[0]], name=\"x\")\n",
    "        lstm_y_ = tf.placeholder(dtype = tf.float64, shape = [None, shape_of_network[1]], name = \"y_\")\n",
    "        lstm_keep_prob = tf.placeholder(dtype = tf.float32)\n",
    "        \n",
    "    with tf.name_scope(\"lstm_cells\"):\n",
    "        lstm = tf.contrib.rnn.BasicLSTMCell(rnn_size)\n",
    "        drop = tf.contrib.rnn.DropoutWrapper(lstm, output_keep_prob=keep_prob)\n",
    "\n",
    "        cell = tf.contrib.rnn.MultiRNNCell([drop] * num_of_layers_lstm)\n",
    "        \n",
    "        initial_state = cell.zero_state(batch_size, tf.float32)\n",
    "        initial_state = tf.identity(initial_state,name=\"initial_state\")\n",
    "    \n",
    "    with tf.name_scope(\"lstm_rnn\"):\n",
    "        outputs, state = tf.nn.dynamic_rnn(cell, x, dtype = tf.float32)\n",
    "        final_state = state\n",
    "        final_state = tf.identity(final_state, \"final_state\")\n"
   ]
  },
  {
   "cell_type": "code",
   "execution_count": 5,
   "metadata": {
    "collapsed": false,
    "deletable": true,
    "editable": true
   },
   "outputs": [
    {
     "name": "stdout",
     "output_type": "stream",
     "text": [
      "epoch:    0 training 16.1264 validation 0.8034\n",
      "epoch:  500 training 3.0750 validation 0.7884\n",
      "epoch: 1000 training 3.0750 validation 0.7884\n",
      "epoch: 1500 training 3.0750 validation 0.7884\n",
      "epoch: 2000 training 3.0750 validation 0.7884\n",
      "epoch: 2500 training 3.0750 validation 0.7884\n",
      "epoch: 3000 training 3.0750 validation 0.7884\n",
      "epoch: 3500 training 3.0750 validation 0.7884\n",
      "epoch: 4000 training 3.0750 validation 0.7884\n",
      "epoch: 4500 training 3.0750 validation 0.7884\n"
     ]
    }
   ],
   "source": [
    "with tf.Session(graph = graph_dense) as session:\n",
    "    session.run(tf.global_variables_initializer())\n",
    "    merged = tf.summary.merge_all()\n",
    "    file_writer_train = tf.summary.FileWriter(\"./logs/ijcai_2017/low_level_api/train\", session.graph)\n",
    "    file_writer_validation = tf.summary.FileWriter(\"./logs/ijcai_2017/low_level_api/validation\")\n",
    "\n",
    "    for i in range(5000):\n",
    "        _, train_loss, train_summary = session.run([optimizer, cost, merged], feed_dict = {x:x_train, y_:y_train})\n",
    "        valid_loss, valid_summary = session.run([cost, merged],feed_dict = {x:x_valid, y_:y_valid})\n",
    "\n",
    "        if(i % 500 == 0):\n",
    "            print(\"epoch: {:>4} training {:5.4f} validation {:5.4f}\".format(i, train_loss, valid_loss))\n",
    "            file_writer_train.add_summary(train_summary, i)\n",
    "            file_writer_validation.add_summary(valid_summary, i)\n",
    "        "
   ]
  }
 ],
 "metadata": {
  "_draft": {
   "nbviewer_url": "https://gist.github.com/d4ddc9163685d4ca3a6d11aae019a757"
  },
  "celltoolbar": "Slideshow",
  "gist": {
   "data": {
    "description": "With Tensorboard graphs",
    "public": false
   },
   "id": "d4ddc9163685d4ca3a6d11aae019a757"
  },
  "kernelspec": {
   "display_name": "Python 3",
   "language": "python",
   "name": "python3"
  },
  "language_info": {
   "codemirror_mode": {
    "name": "ipython",
    "version": 3
   },
   "file_extension": ".py",
   "mimetype": "text/x-python",
   "name": "python",
   "nbconvert_exporter": "python",
   "pygments_lexer": "ipython3",
   "version": "3.6.0"
  },
  "toc": {
   "colors": {
    "hover_highlight": "#DAA520",
    "running_highlight": "#FF0000",
    "selected_highlight": "#FFD700"
   },
   "moveMenuLeft": true,
   "nav_menu": {
    "height": "12px",
    "width": "252px"
   },
   "navigate_menu": true,
   "number_sections": true,
   "sideBar": true,
   "threshold": 4,
   "toc_cell": false,
   "toc_section_display": "block",
   "toc_window_display": false
  }
 },
 "nbformat": 4,
 "nbformat_minor": 2
}
