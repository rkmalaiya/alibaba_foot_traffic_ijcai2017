{
 "cells": [
  {
   "cell_type": "code",
   "execution_count": 1,
   "metadata": {
    "collapsed": true,
    "deletable": true,
    "editable": true,
    "slideshow": {
     "slide_type": "skip"
    }
   },
   "outputs": [],
   "source": [
    "import pandas as pd\n",
    "import numpy as np\n",
    "import sqlite3\n",
    "import os.path\n",
    "from sqlalchemy import create_engine\n",
    "from matplotlib import pyplot as plt\n",
    "import pickle as pk\n",
    "import qgrid\n",
    "\n",
    "pd.set_option(\"display.max_rows\",15)\n",
    "%matplotlib inline"
   ]
  },
  {
   "cell_type": "code",
   "execution_count": 2,
   "metadata": {
    "collapsed": true,
    "deletable": true,
    "editable": true,
    "slideshow": {
     "slide_type": "skip"
    }
   },
   "outputs": [],
   "source": [
    "conn = create_engine('sqlite:///../dataset/ijcai_cff_2017.db')"
   ]
  },
  {
   "cell_type": "code",
   "execution_count": 3,
   "metadata": {
    "collapsed": false,
    "deletable": true,
    "editable": true
   },
   "outputs": [],
   "source": [
    "no_of_shops = 2000\n",
    "shops = pd.DataFrame({\"shop_id\":np.arange(start=1, stop = (no_of_shops+1))})\n",
    "shops.to_sql(\"shops\", index = False, con = conn, if_exists='replace')"
   ]
  },
  {
   "cell_type": "code",
   "execution_count": 4,
   "metadata": {
    "ExecuteTime": {
     "end_time": "2017-03-13T21:02:20.855579Z",
     "start_time": "2017-03-13T21:02:20.201730Z"
    },
    "collapsed": false,
    "deletable": true,
    "editable": true,
    "scrolled": true,
    "slideshow": {
     "slide_type": "skip"
    }
   },
   "outputs": [],
   "source": [
    "train_data = []\n",
    "train_data_raw = pd.read_sql_query(\"select d.shop_id, \"\n",
    "                                   \"d.total_view + d.total_pay as input_foot_traffic \"\n",
    "                                   \"from train_data d \"\n",
    "                                   #\"where shop_id = {}\".format(i) \n",
    "                                   ,con = conn)\n"
   ]
  },
  {
   "cell_type": "code",
   "execution_count": 5,
   "metadata": {
    "collapsed": true,
    "deletable": true,
    "editable": true
   },
   "outputs": [],
   "source": [
    "shape_of_network = [50,128,1]\n",
    "num_of_layers_dense = 2"
   ]
  },
  {
   "cell_type": "code",
   "execution_count": 6,
   "metadata": {
    "collapsed": false,
    "deletable": true,
    "editable": true
   },
   "outputs": [
    {
     "name": "stderr",
     "output_type": "stream",
     "text": [
      "Widget Javascript not detected.  It may not be installed or enabled properly.\n"
     ]
    },
    {
     "data": {
      "application/vnd.jupyter.widget-view+json": {
       "model_id": "ec7aaf733ce1495d91b4303c3b103da9"
      }
     },
     "metadata": {},
     "output_type": "display_data"
    },
    {
     "data": {
      "text/html": [
       "<div>\n",
       "<table border=\"1\" class=\"dataframe\">\n",
       "  <thead>\n",
       "    <tr style=\"text-align: right;\">\n",
       "      <th></th>\n",
       "      <th>input_foot_traffic</th>\n",
       "    </tr>\n",
       "    <tr>\n",
       "      <th>shop_id</th>\n",
       "      <th></th>\n",
       "    </tr>\n",
       "  </thead>\n",
       "  <tbody>\n",
       "    <tr>\n",
       "      <th>1</th>\n",
       "      <td>178.0</td>\n",
       "    </tr>\n",
       "    <tr>\n",
       "      <th>1</th>\n",
       "      <td>233.0</td>\n",
       "    </tr>\n",
       "    <tr>\n",
       "      <th>1</th>\n",
       "      <td>250.0</td>\n",
       "    </tr>\n",
       "    <tr>\n",
       "      <th>1</th>\n",
       "      <td>234.0</td>\n",
       "    </tr>\n",
       "    <tr>\n",
       "      <th>1</th>\n",
       "      <td>230.0</td>\n",
       "    </tr>\n",
       "    <tr>\n",
       "      <th>1</th>\n",
       "      <td>237.0</td>\n",
       "    </tr>\n",
       "    <tr>\n",
       "      <th>1</th>\n",
       "      <td>191.0</td>\n",
       "    </tr>\n",
       "    <tr>\n",
       "      <th>...</th>\n",
       "      <td>...</td>\n",
       "    </tr>\n",
       "    <tr>\n",
       "      <th>10</th>\n",
       "      <td>61.0</td>\n",
       "    </tr>\n",
       "    <tr>\n",
       "      <th>10</th>\n",
       "      <td>78.0</td>\n",
       "    </tr>\n",
       "    <tr>\n",
       "      <th>10</th>\n",
       "      <td>115.0</td>\n",
       "    </tr>\n",
       "    <tr>\n",
       "      <th>10</th>\n",
       "      <td>86.0</td>\n",
       "    </tr>\n",
       "    <tr>\n",
       "      <th>10</th>\n",
       "      <td>87.0</td>\n",
       "    </tr>\n",
       "    <tr>\n",
       "      <th>10</th>\n",
       "      <td>101.0</td>\n",
       "    </tr>\n",
       "    <tr>\n",
       "      <th>10</th>\n",
       "      <td>123.0</td>\n",
       "    </tr>\n",
       "  </tbody>\n",
       "</table>\n",
       "<p>1084 rows × 1 columns</p>\n",
       "</div>"
      ],
      "text/plain": [
       "         input_foot_traffic\n",
       "shop_id                    \n",
       "1                     178.0\n",
       "1                     233.0\n",
       "1                     250.0\n",
       "1                     234.0\n",
       "1                     230.0\n",
       "1                     237.0\n",
       "1                     191.0\n",
       "...                     ...\n",
       "10                     61.0\n",
       "10                     78.0\n",
       "10                    115.0\n",
       "10                     86.0\n",
       "10                     87.0\n",
       "10                    101.0\n",
       "10                    123.0\n",
       "\n",
       "[1084 rows x 1 columns]"
      ]
     },
     "execution_count": 6,
     "metadata": {},
     "output_type": "execute_result"
    }
   ],
   "source": [
    "train_data = train_data_raw.dropna(how = \"any\")\n",
    "train_data = train_data.set_index(\"shop_id\")\n",
    "qgrid.show_grid(train_data.loc[1:10])\n",
    "train_data.loc[1:10]"
   ]
  },
  {
   "cell_type": "code",
   "execution_count": 7,
   "metadata": {
    "collapsed": false,
    "deletable": true,
    "editable": true
   },
   "outputs": [],
   "source": [
    "from sklearn.model_selection import train_test_split\n",
    "from sklearn.preprocessing import StandardScaler\n",
    "from sklearn.preprocessing import Imputer\n",
    "\n",
    "impute_x = Imputer()\n",
    "impute_y = Imputer()\n",
    "\n",
    "scaler = StandardScaler()\n",
    "\n",
    "def scale(x):\n",
    "    return scaler.fit_transform(x)\n",
    "\n",
    "def reverse_scale(x):\n",
    "    return scaler.inverse_transform(x)\n",
    "\n",
    "def split(x,y_):\n",
    "    x_train, x_valid, y_train, y_valid = train_test_split(\n",
    "    x, y_ , test_size=0.45, random_state=42)\n",
    "    \n",
    "    x_valid, x_test, y_valid, y_test = train_test_split(\n",
    "    x_valid, y_valid , test_size=0.15, random_state=42)\n",
    "    \n",
    "    return x_train, x_valid, x_test, y_train, y_valid, y_test "
   ]
  },
  {
   "cell_type": "code",
   "execution_count": 8,
   "metadata": {
    "collapsed": false,
    "deletable": true,
    "editable": true
   },
   "outputs": [
    {
     "data": {
      "text/plain": [
       "(130, 1)"
      ]
     },
     "execution_count": 8,
     "metadata": {},
     "output_type": "execute_result"
    }
   ],
   "source": [
    "train = train_data.loc[1] # Select which shop\n",
    "shape = train.values.shape\n",
    "train_scaled = scale(train.values.ravel().reshape(-1, 1)).reshape(shape)\n",
    "train_scaled.shape"
   ]
  },
  {
   "cell_type": "code",
   "execution_count": 9,
   "metadata": {
    "collapsed": false,
    "deletable": true,
    "editable": true
   },
   "outputs": [
    {
     "data": {
      "text/plain": [
       "(100, 1)"
      ]
     },
     "execution_count": 9,
     "metadata": {},
     "output_type": "execute_result"
    }
   ],
   "source": [
    "skip = train_scaled.shape[0] % (shape_of_network[0] ) #+ shape_of_network[-1]\n",
    "if skip is not 0:\n",
    "    train_trim = train_scaled[skip:,]\n",
    "train_trim.shape"
   ]
  },
  {
   "cell_type": "code",
   "execution_count": 10,
   "metadata": {
    "collapsed": false,
    "deletable": true,
    "editable": true
   },
   "outputs": [
    {
     "ename": "IndexError",
     "evalue": "index 100 is out of bounds for axis 0 with size 100",
     "output_type": "error",
     "traceback": [
      "\u001b[0;31m---------------------------------------------------------------------------\u001b[0m",
      "\u001b[0;31mIndexError\u001b[0m                                Traceback (most recent call last)",
      "\u001b[0;32m<ipython-input-10-61e6ccbd62b1>\u001b[0m in \u001b[0;36m<module>\u001b[0;34m()\u001b[0m\n\u001b[1;32m      4\u001b[0m \u001b[0;32mfor\u001b[0m \u001b[0mi\u001b[0m \u001b[0;32min\u001b[0m \u001b[0mrange\u001b[0m\u001b[0;34m(\u001b[0m\u001b[0;36m0\u001b[0m\u001b[0;34m,\u001b[0m \u001b[0mtrain_trim\u001b[0m\u001b[0;34m.\u001b[0m\u001b[0mshape\u001b[0m\u001b[0;34m[\u001b[0m\u001b[0;36m0\u001b[0m\u001b[0;34m]\u001b[0m\u001b[0;34m-\u001b[0m\u001b[0mskip\u001b[0m\u001b[0;34m,\u001b[0m \u001b[0mstep\u001b[0m\u001b[0;34m)\u001b[0m\u001b[0;34m:\u001b[0m\u001b[0;34m\u001b[0m\u001b[0m\n\u001b[1;32m      5\u001b[0m     \u001b[0mx_arr\u001b[0m\u001b[0;34m.\u001b[0m\u001b[0mappend\u001b[0m\u001b[0;34m(\u001b[0m\u001b[0mtrain_trim\u001b[0m\u001b[0;34m[\u001b[0m\u001b[0mi\u001b[0m\u001b[0;34m:\u001b[0m\u001b[0mi\u001b[0m\u001b[0;34m+\u001b[0m\u001b[0mshape_of_network\u001b[0m\u001b[0;34m[\u001b[0m\u001b[0;36m0\u001b[0m\u001b[0;34m]\u001b[0m\u001b[0;34m]\u001b[0m\u001b[0;34m.\u001b[0m\u001b[0mflatten\u001b[0m\u001b[0;34m(\u001b[0m\u001b[0;34m)\u001b[0m\u001b[0;34m)\u001b[0m\u001b[0;34m\u001b[0m\u001b[0m\n\u001b[0;32m----> 6\u001b[0;31m     \u001b[0my_arr\u001b[0m\u001b[0;34m.\u001b[0m\u001b[0mappend\u001b[0m\u001b[0;34m(\u001b[0m\u001b[0mtrain_trim\u001b[0m\u001b[0;34m[\u001b[0m\u001b[0mi\u001b[0m\u001b[0;34m+\u001b[0m\u001b[0mshape_of_network\u001b[0m\u001b[0;34m[\u001b[0m\u001b[0;36m0\u001b[0m\u001b[0;34m]\u001b[0m\u001b[0;34m]\u001b[0m\u001b[0;34m.\u001b[0m\u001b[0mflatten\u001b[0m\u001b[0;34m(\u001b[0m\u001b[0;34m)\u001b[0m\u001b[0;34m)\u001b[0m\u001b[0;34m\u001b[0m\u001b[0m\n\u001b[0m\u001b[1;32m      7\u001b[0m \u001b[0;34m\u001b[0m\u001b[0m\n\u001b[1;32m      8\u001b[0m \u001b[0mx_arr\u001b[0m \u001b[0;34m=\u001b[0m \u001b[0mnp\u001b[0m\u001b[0;34m.\u001b[0m\u001b[0marray\u001b[0m\u001b[0;34m(\u001b[0m\u001b[0mx_arr\u001b[0m\u001b[0;34m)\u001b[0m\u001b[0;34m\u001b[0m\u001b[0m\n",
      "\u001b[0;31mIndexError\u001b[0m: index 100 is out of bounds for axis 0 with size 100"
     ]
    }
   ],
   "source": [
    "step = shape_of_network[0]\n",
    "x_arr = []\n",
    "y_arr = []\n",
    "for i in range(0, train_trim.shape[0]-skip, step):\n",
    "    x_arr.append(train_trim[i:i+shape_of_network[0]].flatten())\n",
    "    y_arr.append(train_trim[i+shape_of_network[0]].flatten())\n",
    "\n",
    "x_arr = np.array(x_arr)\n",
    "y_arr = np.array(y_arr)\n",
    "\n",
    "print(\"x: {}\".format(x_arr))\n",
    "print(\"y: {}\".format(y_arr))"
   ]
  },
  {
   "cell_type": "code",
   "execution_count": null,
   "metadata": {
    "collapsed": false,
    "deletable": true,
    "editable": true
   },
   "outputs": [],
   "source": [
    "plt.plot(train.values.ravel())"
   ]
  },
  {
   "cell_type": "code",
   "execution_count": null,
   "metadata": {
    "collapsed": false,
    "deletable": true,
    "editable": true
   },
   "outputs": [],
   "source": [
    "plt.scatter([range(x_arr[0].ravel().shape[0])],x_arr[0].ravel(), label = \"x data\")\n",
    "plt.scatter([range(y_arr[0].ravel().shape[0])], y_arr[0].ravel(), label = \"y data\")\n",
    "plt.legend()"
   ]
  },
  {
   "cell_type": "code",
   "execution_count": null,
   "metadata": {
    "collapsed": false,
    "deletable": true,
    "editable": true
   },
   "outputs": [],
   "source": [
    "plt.scatter([range(x_arr[1].ravel().shape[0])],x_arr[1].ravel(), label = \"x data\")\n",
    "plt.scatter([range(y_arr[1].ravel().shape[0])], y_arr[1].ravel(), label = \"y data\")\n",
    "plt.legend()"
   ]
  },
  {
   "cell_type": "code",
   "execution_count": null,
   "metadata": {
    "collapsed": false,
    "deletable": true,
    "editable": true
   },
   "outputs": [],
   "source": [
    "print(\"x shape {}\".format(x_arr.shape))\n",
    "print(\"y shape {}\".format(y_arr.shape))\n",
    "x_train, x_valid, x_test, y_train, y_valid, y_test = split(x_arr, y_arr)"
   ]
  },
  {
   "cell_type": "code",
   "execution_count": null,
   "metadata": {
    "collapsed": true
   },
   "outputs": [],
   "source": [
    "import tensorflow as tf"
   ]
  },
  {
   "cell_type": "code",
   "execution_count": null,
   "metadata": {
    "collapsed": false,
    "deletable": true,
    "editable": true
   },
   "outputs": [],
   "source": [
    "graph_dense = tf.Graph()\n",
    "with graph_dense.as_default():\n",
    "    with tf.name_scope(\"dense_inputs\"):\n",
    "        x = tf.placeholder(dtype = tf.float64, shape = [None, shape_of_network[0]], name=\"x\")\n",
    "        y_ = tf.placeholder(dtype = tf.float64, shape = [None, shape_of_network[-1]], name = \"y_\")\n",
    "\n",
    "    y_h = x\n",
    "    with tf.name_scope(\"dense_hidden\"):\n",
    "        w_h = tf.Variable(tf.truncated_normal(shape = [shape_of_network[0], shape_of_network[1]], dtype = tf.float64), name = \"hidden_weights\")\n",
    "        tf.summary.histogram(name=\"hidden_weights_0\", values = w_h)\n",
    "            \n",
    "        b_h = tf.Variable(tf.constant(value = 0.1, dtype = tf.float64, shape=[shape_of_network[1]]), name=\"hidden_bias\")\n",
    "        y_h = tf.nn.relu(tf.matmul(y_h , w_h) + b_h, name=\"relu\")\n",
    "            \n",
    "        for i in range(1, num_of_layers_dense):\n",
    "            w_h = tf.Variable(tf.truncated_normal(shape = [shape_of_network[1], shape_of_network[1]], dtype = tf.float64), name = \"hidden_weights\")\n",
    "            tf.summary.histogram(name=\"hidden_weights_{}\".format(i), values = w_h)\n",
    "            \n",
    "            b_h = tf.Variable(tf.constant(value = 0.1, dtype = tf.float64, shape=[shape_of_network[1]]), name=\"hidden_bias\")\n",
    "        \n",
    "            y_h = tf.nn.relu(tf.matmul(y_h , w_h) + b_h, name=\"relu\")\n",
    "\n",
    "    with tf.name_scope(\"dense_outputs\"):\n",
    "        w_o = tf.Variable(tf.truncated_normal(shape = [shape_of_network[1], shape_of_network[-1]], dtype = tf.float64), name = \"output_weights\")\n",
    "        tf.summary.histogram(name=\"output_weights\", values = w_o)\n",
    "        b_o = tf.Variable(tf.constant(value = 0.1, dtype = tf.float64, shape=[shape_of_network[-1]]), name=\"output_bias\")\n",
    "    \n",
    "        y = tf.matmul(y_h, w_o) + b_o\n",
    "\n",
    "    with tf.name_scope(\"cost\"):\n",
    "        cost = tf.reduce_mean(\n",
    "            tf.abs(\n",
    "                tf.divide(\n",
    "                    tf.subtract(y, y_),\n",
    "                    tf.add(y, y_)\n",
    "                )\n",
    "            )\n",
    "        , name = \"cost\")\n",
    "        tf.summary.scalar(name=\"cost\",  tensor = cost)\n",
    "\n",
    "    with tf.name_scope(\"optimizer\"):\n",
    "        learning_rate=0.001\n",
    "        grad_clip=5\n",
    "        tvars = tf.trainable_variables()\n",
    "        grads, _ = tf.clip_by_global_norm(tf.gradients(cost, tvars), grad_clip)\n",
    "        train_op = tf.train.AdamOptimizer(learning_rate)\n",
    "        optimizer = train_op.apply_gradients(zip(grads, tvars))"
   ]
  },
  {
   "cell_type": "markdown",
   "metadata": {},
   "source": [
    "num_of_layers_lstm = 2\n",
    "rnn_size = 2\n",
    "batch_size = 128\n",
    "\n",
    "graph_lstm = tf.Graph()\n",
    "with graph_lstm.as_default():\n",
    "    with tf.name_scope(\"lstm_inputs\"):\n",
    "        lstm_x = tf.placeholder(dtype = tf.float64, shape = [None, shape_of_network[0]], name=\"x\")\n",
    "        lstm_y_ = tf.placeholder(dtype = tf.float64, shape = [None, shape_of_network[1]], name = \"y_\")\n",
    "        lstm_keep_prob = tf.placeholder(dtype = tf.float32)\n",
    "        \n",
    "    with tf.name_scope(\"lstm_cells\"):\n",
    "        lstm = tf.contrib.rnn.BasicLSTMCell(rnn_size)\n",
    "        drop = tf.contrib.rnn.DropoutWrapper(lstm, output_keep_prob=keep_prob)\n",
    "\n",
    "        cell = tf.contrib.rnn.MultiRNNCell([drop] * num_of_layers_lstm)\n",
    "        \n",
    "        initial_state = cell.zero_state(batch_size, tf.float32)\n",
    "        initial_state = tf.identity(initial_state,name=\"initial_state\")\n",
    "    \n",
    "    with tf.name_scope(\"lstm_rnn\"):\n",
    "        outputs, state = tf.nn.dynamic_rnn(cell, x, dtype = tf.float32)\n",
    "        final_state = state\n",
    "        final_state = tf.identity(final_state, \"final_state\")\n"
   ]
  },
  {
   "cell_type": "code",
   "execution_count": null,
   "metadata": {
    "collapsed": false,
    "deletable": true,
    "editable": true
   },
   "outputs": [],
   "source": [
    "with tf.Session(graph = graph_dense) as session:\n",
    "    session.run(tf.global_variables_initializer())\n",
    "    merged = tf.summary.merge_all()\n",
    "    file_writer_train = tf.summary.FileWriter(\"./logs/ijcai_2017/low_level_api/train\", session.graph)\n",
    "    file_writer_validation = tf.summary.FileWriter(\"./logs/ijcai_2017/low_level_api/validation\")\n",
    "\n",
    "\n",
    "    for i in range(5000):\n",
    "        _, train_loss, train_summary = session.run([optimizer, cost, merged], feed_dict = {x:x_train, y_:y_train})\n",
    "        valid_loss, valid_summary = session.run([cost, merged],feed_dict = {x:x_valid, y_:y_valid})\n",
    "\n",
    "        if(i % 500 == 0):\n",
    "            print(\"epoch: {:>4} training {:5.4f} validation {:5.4f}\".format(i, train_loss, valid_loss))\n",
    "            file_writer_train.add_summary(train_summary, i)\n",
    "            file_writer_validation.add_summary(valid_summary, i)\n",
    "        "
   ]
  }
 ],
 "metadata": {
  "_draft": {
   "nbviewer_url": "https://gist.github.com/d4ddc9163685d4ca3a6d11aae019a757"
  },
  "celltoolbar": "Slideshow",
  "gist": {
   "data": {
    "description": "With Tensorboard graphs",
    "public": false
   },
   "id": "d4ddc9163685d4ca3a6d11aae019a757"
  },
  "kernelspec": {
   "display_name": "Python 3",
   "language": "python",
   "name": "python3"
  },
  "language_info": {
   "codemirror_mode": {
    "name": "ipython",
    "version": 3
   },
   "file_extension": ".py",
   "mimetype": "text/x-python",
   "name": "python",
   "nbconvert_exporter": "python",
   "pygments_lexer": "ipython3",
   "version": "3.6.0"
  },
  "toc": {
   "colors": {
    "hover_highlight": "#DAA520",
    "running_highlight": "#FF0000",
    "selected_highlight": "#FFD700"
   },
   "moveMenuLeft": true,
   "nav_menu": {
    "height": "12px",
    "width": "252px"
   },
   "navigate_menu": true,
   "number_sections": true,
   "sideBar": true,
   "threshold": 4,
   "toc_cell": false,
   "toc_section_display": "block",
   "toc_window_display": false
  }
 },
 "nbformat": 4,
 "nbformat_minor": 2
}
