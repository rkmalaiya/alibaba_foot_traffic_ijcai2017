{
 "cells": [
  {
   "cell_type": "code",
   "execution_count": 8,
   "metadata": {
    "collapsed": true
   },
   "outputs": [],
   "source": [
    "import pandas as pd\n",
    "import numpy as np\n",
    "import sqlite3\n",
    "import os.path\n",
    "from sqlalchemy import create_engine\n",
    "from matplotlib import pyplot as plt\n",
    "pd.set_option(\"display.max_rows\",15)\n",
    "%matplotlib inline"
   ]
  },
  {
   "cell_type": "code",
   "execution_count": 9,
   "metadata": {
    "collapsed": true
   },
   "outputs": [],
   "source": [
    "conn = create_engine('sqlite:///../dataset/ijcai_cff_2017.db')"
   ]
  },
  {
   "cell_type": "code",
   "execution_count": 10,
   "metadata": {
    "collapsed": false
   },
   "outputs": [
    {
     "data": {
      "text/html": [
       "<div>\n",
       "<table border=\"1\" class=\"dataframe\">\n",
       "  <thead>\n",
       "    <tr style=\"text-align: right;\">\n",
       "      <th></th>\n",
       "      <th>shop_id</th>\n",
       "      <th>ts</th>\n",
       "      <th>total_view</th>\n",
       "      <th>total_pay</th>\n",
       "    </tr>\n",
       "  </thead>\n",
       "  <tbody>\n",
       "    <tr>\n",
       "      <th>0</th>\n",
       "      <td>159</td>\n",
       "      <td>2015-07-01 00:00:00.000000</td>\n",
       "      <td>NaN</td>\n",
       "      <td>1.0</td>\n",
       "    </tr>\n",
       "    <tr>\n",
       "      <th>1</th>\n",
       "      <td>159</td>\n",
       "      <td>2015-07-02 00:00:00.000000</td>\n",
       "      <td>NaN</td>\n",
       "      <td>1.0</td>\n",
       "    </tr>\n",
       "    <tr>\n",
       "      <th>2</th>\n",
       "      <td>159</td>\n",
       "      <td>2015-07-03 00:00:00.000000</td>\n",
       "      <td>NaN</td>\n",
       "      <td>1.0</td>\n",
       "    </tr>\n",
       "    <tr>\n",
       "      <th>3</th>\n",
       "      <td>159</td>\n",
       "      <td>2015-07-04 00:00:00.000000</td>\n",
       "      <td>NaN</td>\n",
       "      <td>1.0</td>\n",
       "    </tr>\n",
       "    <tr>\n",
       "      <th>4</th>\n",
       "      <td>159</td>\n",
       "      <td>2015-07-05 00:00:00.000000</td>\n",
       "      <td>NaN</td>\n",
       "      <td>1.0</td>\n",
       "    </tr>\n",
       "    <tr>\n",
       "      <th>5</th>\n",
       "      <td>159</td>\n",
       "      <td>2015-07-06 00:00:00.000000</td>\n",
       "      <td>NaN</td>\n",
       "      <td>1.0</td>\n",
       "    </tr>\n",
       "    <tr>\n",
       "      <th>6</th>\n",
       "      <td>159</td>\n",
       "      <td>2015-07-09 00:00:00.000000</td>\n",
       "      <td>NaN</td>\n",
       "      <td>1.0</td>\n",
       "    </tr>\n",
       "    <tr>\n",
       "      <th>...</th>\n",
       "      <td>...</td>\n",
       "      <td>...</td>\n",
       "      <td>...</td>\n",
       "      <td>...</td>\n",
       "    </tr>\n",
       "    <tr>\n",
       "      <th>1666</th>\n",
       "      <td>572</td>\n",
       "      <td>2016-10-25 00:00:00.000000</td>\n",
       "      <td>6.0</td>\n",
       "      <td>398.0</td>\n",
       "    </tr>\n",
       "    <tr>\n",
       "      <th>1667</th>\n",
       "      <td>572</td>\n",
       "      <td>2016-10-26 00:00:00.000000</td>\n",
       "      <td>13.0</td>\n",
       "      <td>393.0</td>\n",
       "    </tr>\n",
       "    <tr>\n",
       "      <th>1668</th>\n",
       "      <td>572</td>\n",
       "      <td>2016-10-27 00:00:00.000000</td>\n",
       "      <td>18.0</td>\n",
       "      <td>405.0</td>\n",
       "    </tr>\n",
       "    <tr>\n",
       "      <th>1669</th>\n",
       "      <td>572</td>\n",
       "      <td>2016-10-28 00:00:00.000000</td>\n",
       "      <td>10.0</td>\n",
       "      <td>428.0</td>\n",
       "    </tr>\n",
       "    <tr>\n",
       "      <th>1670</th>\n",
       "      <td>572</td>\n",
       "      <td>2016-10-29 00:00:00.000000</td>\n",
       "      <td>9.0</td>\n",
       "      <td>495.0</td>\n",
       "    </tr>\n",
       "    <tr>\n",
       "      <th>1671</th>\n",
       "      <td>572</td>\n",
       "      <td>2016-10-30 00:00:00.000000</td>\n",
       "      <td>11.0</td>\n",
       "      <td>477.0</td>\n",
       "    </tr>\n",
       "    <tr>\n",
       "      <th>1672</th>\n",
       "      <td>572</td>\n",
       "      <td>2016-10-31 00:00:00.000000</td>\n",
       "      <td>5.0</td>\n",
       "      <td>365.0</td>\n",
       "    </tr>\n",
       "  </tbody>\n",
       "</table>\n",
       "<p>1673 rows × 4 columns</p>\n",
       "</div>"
      ],
      "text/plain": [
       "      shop_id                          ts  total_view  total_pay\n",
       "0         159  2015-07-01 00:00:00.000000         NaN        1.0\n",
       "1         159  2015-07-02 00:00:00.000000         NaN        1.0\n",
       "2         159  2015-07-03 00:00:00.000000         NaN        1.0\n",
       "3         159  2015-07-04 00:00:00.000000         NaN        1.0\n",
       "4         159  2015-07-05 00:00:00.000000         NaN        1.0\n",
       "5         159  2015-07-06 00:00:00.000000         NaN        1.0\n",
       "6         159  2015-07-09 00:00:00.000000         NaN        1.0\n",
       "...       ...                         ...         ...        ...\n",
       "1666      572  2016-10-25 00:00:00.000000         6.0      398.0\n",
       "1667      572  2016-10-26 00:00:00.000000        13.0      393.0\n",
       "1668      572  2016-10-27 00:00:00.000000        18.0      405.0\n",
       "1669      572  2016-10-28 00:00:00.000000        10.0      428.0\n",
       "1670      572  2016-10-29 00:00:00.000000         9.0      495.0\n",
       "1671      572  2016-10-30 00:00:00.000000        11.0      477.0\n",
       "1672      572  2016-10-31 00:00:00.000000         5.0      365.0\n",
       "\n",
       "[1673 rows x 4 columns]"
      ]
     },
     "execution_count": 10,
     "metadata": {},
     "output_type": "execute_result"
    }
   ],
   "source": [
    "train_data = pd.read_sql_query(\"select * from train_data\", con = conn)\n",
    "train_data"
   ]
  },
  {
   "cell_type": "code",
   "execution_count": null,
   "metadata": {
    "collapsed": true
   },
   "outputs": [],
   "source": []
  }
 ],
 "metadata": {
  "kernelspec": {
   "display_name": "Python 3",
   "language": "python",
   "name": "python3"
  },
  "language_info": {
   "codemirror_mode": {
    "name": "ipython",
    "version": 3
   },
   "file_extension": ".py",
   "mimetype": "text/x-python",
   "name": "python",
   "nbconvert_exporter": "python",
   "pygments_lexer": "ipython3",
   "version": "3.5.2"
  }
 },
 "nbformat": 4,
 "nbformat_minor": 2
}
