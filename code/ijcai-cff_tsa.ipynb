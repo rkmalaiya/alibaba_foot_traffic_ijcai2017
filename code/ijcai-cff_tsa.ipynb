{
 "cells": [
  {
   "cell_type": "markdown",
   "metadata": {
    "slideshow": {
     "slide_type": "slide"
    }
   },
   "source": [
    "# Customer Flow Forcast\n",
    "\n",
    "## Aim\n",
    "To build an intelligent system which can help Alibaba provide foot-traffic forecasting for those shops which uses Alibaba Point of Sales system.\n",
    "\n",
    "## Objective\n",
    "- Based on given foot-traffic for around 2000 stores and basic characteristics of these shops, we need to predict foot-traffic for coming 14 days.\n",
    "- Current data is log based, we need summarize it on a per day and per shop basis\n",
    "- Data is sparsely distributed, hence system should be designed to handle this type of data.\n",
    "- Influence of external factors, like weather, which day of week, holidays, shopping festivals etc needs to be considered while predicting.\n",
    "\n",
    "\n"
   ]
  },
  {
   "cell_type": "code",
   "execution_count": 1,
   "metadata": {
    "collapsed": false,
    "slideshow": {
     "slide_type": "skip"
    }
   },
   "outputs": [],
   "source": [
    "import pandas as pd\n",
    "import numpy as np\n",
    "import sqlite3\n",
    "import os.path\n",
    "from sqlalchemy import create_engine\n",
    "from matplotlib import pyplot as plt\n",
    "pd.set_option(\"display.max_rows\",15)\n",
    "%matplotlib inline"
   ]
  },
  {
   "cell_type": "code",
   "execution_count": 2,
   "metadata": {
    "collapsed": false,
    "slideshow": {
     "slide_type": "skip"
    }
   },
   "outputs": [],
   "source": [
    "conn = create_engine('sqlite:///../dataset/ijcai_cff_2017.db')\n",
    "\n",
    "def upload_csv_to_sqlite(file_name, col_names):\n",
    "    try:\n",
    "        df = pd.read_sql_query(sql = 'select * from ' + file_name + ' limit 1', con=conn)\n",
    "        print(\"Table \"+ file_name+\" already present\")\n",
    "        return\n",
    "    except:\n",
    "        pass\n",
    "    total_rows = 0\n",
    "    for df in pd.read_csv('../dataset/'+file_name+'.txt.gz', \n",
    "                          compression='gzip', chunksize=5000000, \n",
    "                          iterator=True, encoding='utf-8',\n",
    "                          names=col_names                         \n",
    "                         ):\n",
    "        df.to_sql(file_name, conn, if_exists='append',index=False)\n",
    "        \n",
    "        total_rows += df.shape[0] \n",
    "        print ('For file '+ file_name+' completed {} rows'.format(total_rows))"
   ]
  },
  {
   "cell_type": "code",
   "execution_count": 3,
   "metadata": {
    "collapsed": false,
    "slideshow": {
     "slide_type": "skip"
    }
   },
   "outputs": [
    {
     "name": "stdout",
     "output_type": "stream",
     "text": [
      "Table shop_info already present\n",
      "Table user_view already present\n",
      "Table user_pay already present\n"
     ]
    }
   ],
   "source": [
    "upload_csv_to_sqlite(\"shop_info\", (\"shop_id\",\"city_name\",\n",
    "                                   \"location_id\", \"per_pay\",\n",
    "                                   \"score\",\"comment_cnt\", \"shop_level\",\n",
    "                                   \"cate_1_name\",\"cate_2_name\",\"cate_3_name\"\n",
    "                                  ))\n",
    "upload_csv_to_sqlite(\"user_view\", (\"user_id\", \"shop_id\", \"time_stamp\"))\n",
    "upload_csv_to_sqlite(\"user_pay\", (\"user_id\", \"shop_id\", \"time_stamp\"))"
   ]
  },
  {
   "cell_type": "code",
   "execution_count": 4,
   "metadata": {
    "collapsed": false,
    "slideshow": {
     "slide_type": "skip"
    }
   },
   "outputs": [],
   "source": [
    "import pickle\n",
    "def create_sample_pickle(sql_query, pickle_file_name):\n",
    "    df = pd.read_sql_query(sql=sql_query,con=conn)\n",
    "    pickle.dump(df, open(\"../dataset/\"+pickle_file_name,\"wb\"))\n"
   ]
  },
  {
   "cell_type": "markdown",
   "metadata": {
    "slideshow": {
     "slide_type": "slide"
    }
   },
   "source": [
    "## Data Definition\n",
    "\n",
    "Data is divided into 3 parts,\n",
    "- **Shop Details**\n",
    "- **User Visit logs**  \n",
    "  This data defines physical presence of a user inside a given shop. This doesn't specify for how long was a user present inside the shop, it just logs the entry time.\n",
    "- **User Purchase logs**  \n",
    "This data logs the time entry when a payment was made in shop and alibaba payment system was utilized"
   ]
  },
  {
   "cell_type": "markdown",
   "metadata": {
    "slideshow": {
     "slide_type": "subslide"
    }
   },
   "source": [
    "### Shop Details"
   ]
  },
  {
   "cell_type": "code",
   "execution_count": 5,
   "metadata": {
    "collapsed": false,
    "slideshow": {
     "slide_type": "fragment"
    }
   },
   "outputs": [
    {
     "data": {
      "text/html": [
       "<div>\n",
       "<table border=\"1\" class=\"dataframe\">\n",
       "  <thead>\n",
       "    <tr style=\"text-align: right;\">\n",
       "      <th></th>\n",
       "      <th>shop_id</th>\n",
       "      <th>city_name</th>\n",
       "      <th>location_id</th>\n",
       "      <th>per_pay</th>\n",
       "      <th>score</th>\n",
       "      <th>comment_cnt</th>\n",
       "      <th>shop_level</th>\n",
       "      <th>cate_1_name</th>\n",
       "      <th>cate_2_name</th>\n",
       "      <th>cate_3_name</th>\n",
       "    </tr>\n",
       "  </thead>\n",
       "  <tbody>\n",
       "    <tr>\n",
       "      <th>0</th>\n",
       "      <td>1</td>\n",
       "      <td>湖州</td>\n",
       "      <td>885</td>\n",
       "      <td>8</td>\n",
       "      <td>4.0</td>\n",
       "      <td>12.0</td>\n",
       "      <td>2</td>\n",
       "      <td>美食</td>\n",
       "      <td>休闲茶饮</td>\n",
       "      <td>饮品/甜点</td>\n",
       "    </tr>\n",
       "    <tr>\n",
       "      <th>1</th>\n",
       "      <td>2</td>\n",
       "      <td>哈尔滨</td>\n",
       "      <td>64</td>\n",
       "      <td>19</td>\n",
       "      <td>NaN</td>\n",
       "      <td>NaN</td>\n",
       "      <td>1</td>\n",
       "      <td>超市便利店</td>\n",
       "      <td>超市</td>\n",
       "      <td>None</td>\n",
       "    </tr>\n",
       "    <tr>\n",
       "      <th>2</th>\n",
       "      <td>3</td>\n",
       "      <td>南昌</td>\n",
       "      <td>774</td>\n",
       "      <td>5</td>\n",
       "      <td>3.0</td>\n",
       "      <td>2.0</td>\n",
       "      <td>0</td>\n",
       "      <td>美食</td>\n",
       "      <td>休闲茶饮</td>\n",
       "      <td>奶茶</td>\n",
       "    </tr>\n",
       "    <tr>\n",
       "      <th>3</th>\n",
       "      <td>4</td>\n",
       "      <td>天津</td>\n",
       "      <td>380</td>\n",
       "      <td>18</td>\n",
       "      <td>NaN</td>\n",
       "      <td>NaN</td>\n",
       "      <td>1</td>\n",
       "      <td>超市便利店</td>\n",
       "      <td>超市</td>\n",
       "      <td>None</td>\n",
       "    </tr>\n",
       "    <tr>\n",
       "      <th>4</th>\n",
       "      <td>5</td>\n",
       "      <td>杭州</td>\n",
       "      <td>263</td>\n",
       "      <td>2</td>\n",
       "      <td>2.0</td>\n",
       "      <td>2.0</td>\n",
       "      <td>0</td>\n",
       "      <td>美食</td>\n",
       "      <td>休闲食品</td>\n",
       "      <td>生鲜水果</td>\n",
       "    </tr>\n",
       "    <tr>\n",
       "      <th>5</th>\n",
       "      <td>6</td>\n",
       "      <td>大连</td>\n",
       "      <td>1139</td>\n",
       "      <td>13</td>\n",
       "      <td>3.0</td>\n",
       "      <td>1.0</td>\n",
       "      <td>0</td>\n",
       "      <td>美食</td>\n",
       "      <td>烘焙糕点</td>\n",
       "      <td>面包</td>\n",
       "    </tr>\n",
       "    <tr>\n",
       "      <th>6</th>\n",
       "      <td>7</td>\n",
       "      <td>绍兴</td>\n",
       "      <td>145</td>\n",
       "      <td>13</td>\n",
       "      <td>3.0</td>\n",
       "      <td>9.0</td>\n",
       "      <td>2</td>\n",
       "      <td>美食</td>\n",
       "      <td>快餐</td>\n",
       "      <td>西式快餐</td>\n",
       "    </tr>\n",
       "    <tr>\n",
       "      <th>7</th>\n",
       "      <td>8</td>\n",
       "      <td>杭州</td>\n",
       "      <td>234</td>\n",
       "      <td>16</td>\n",
       "      <td>3.0</td>\n",
       "      <td>1.0</td>\n",
       "      <td>0</td>\n",
       "      <td>美食</td>\n",
       "      <td>休闲食品</td>\n",
       "      <td>生鲜水果</td>\n",
       "    </tr>\n",
       "    <tr>\n",
       "      <th>8</th>\n",
       "      <td>9</td>\n",
       "      <td>杭州</td>\n",
       "      <td>1120</td>\n",
       "      <td>15</td>\n",
       "      <td>4.0</td>\n",
       "      <td>0.0</td>\n",
       "      <td>1</td>\n",
       "      <td>超市便利店</td>\n",
       "      <td>超市</td>\n",
       "      <td>None</td>\n",
       "    </tr>\n",
       "    <tr>\n",
       "      <th>9</th>\n",
       "      <td>10</td>\n",
       "      <td>孝感</td>\n",
       "      <td>98</td>\n",
       "      <td>10</td>\n",
       "      <td>NaN</td>\n",
       "      <td>NaN</td>\n",
       "      <td>0</td>\n",
       "      <td>超市便利店</td>\n",
       "      <td>超市</td>\n",
       "      <td>None</td>\n",
       "    </tr>\n",
       "  </tbody>\n",
       "</table>\n",
       "</div>"
      ],
      "text/plain": [
       "   shop_id city_name  location_id  per_pay  score  comment_cnt  shop_level  \\\n",
       "0        1        湖州          885        8    4.0         12.0           2   \n",
       "1        2       哈尔滨           64       19    NaN          NaN           1   \n",
       "2        3        南昌          774        5    3.0          2.0           0   \n",
       "3        4        天津          380       18    NaN          NaN           1   \n",
       "4        5        杭州          263        2    2.0          2.0           0   \n",
       "5        6        大连         1139       13    3.0          1.0           0   \n",
       "6        7        绍兴          145       13    3.0          9.0           2   \n",
       "7        8        杭州          234       16    3.0          1.0           0   \n",
       "8        9        杭州         1120       15    4.0          0.0           1   \n",
       "9       10        孝感           98       10    NaN          NaN           0   \n",
       "\n",
       "  cate_1_name cate_2_name cate_3_name  \n",
       "0          美食        休闲茶饮       饮品/甜点  \n",
       "1       超市便利店          超市        None  \n",
       "2          美食        休闲茶饮          奶茶  \n",
       "3       超市便利店          超市        None  \n",
       "4          美食        休闲食品        生鲜水果  \n",
       "5          美食        烘焙糕点          面包  \n",
       "6          美食          快餐        西式快餐  \n",
       "7          美食        休闲食品        生鲜水果  \n",
       "8       超市便利店          超市        None  \n",
       "9       超市便利店          超市        None  "
      ]
     },
     "execution_count": 5,
     "metadata": {},
     "output_type": "execute_result"
    }
   ],
   "source": [
    "pd.read_sql_query(\"select * from shop_info limit 10\", con = conn)"
   ]
  },
  {
   "cell_type": "markdown",
   "metadata": {
    "slideshow": {
     "slide_type": "fragment"
    }
   },
   "source": [
    "### User Visit logs"
   ]
  },
  {
   "cell_type": "code",
   "execution_count": 6,
   "metadata": {
    "collapsed": false,
    "slideshow": {
     "slide_type": "fragment"
    }
   },
   "outputs": [
    {
     "data": {
      "text/html": [
       "<div>\n",
       "<table border=\"1\" class=\"dataframe\">\n",
       "  <thead>\n",
       "    <tr style=\"text-align: right;\">\n",
       "      <th></th>\n",
       "      <th>user_id</th>\n",
       "      <th>shop_id</th>\n",
       "      <th>time_stamp</th>\n",
       "    </tr>\n",
       "  </thead>\n",
       "  <tbody>\n",
       "    <tr>\n",
       "      <th>0</th>\n",
       "      <td>13201967</td>\n",
       "      <td>1197</td>\n",
       "      <td>2016-10-21 18:00:00</td>\n",
       "    </tr>\n",
       "    <tr>\n",
       "      <th>1</th>\n",
       "      <td>19461365</td>\n",
       "      <td>1197</td>\n",
       "      <td>2016-06-28 23:00:00</td>\n",
       "    </tr>\n",
       "    <tr>\n",
       "      <th>2</th>\n",
       "      <td>15022321</td>\n",
       "      <td>1197</td>\n",
       "      <td>2016-07-16 19:00:00</td>\n",
       "    </tr>\n",
       "    <tr>\n",
       "      <th>3</th>\n",
       "      <td>5440872</td>\n",
       "      <td>1197</td>\n",
       "      <td>2016-07-15 07:00:00</td>\n",
       "    </tr>\n",
       "    <tr>\n",
       "      <th>4</th>\n",
       "      <td>12594529</td>\n",
       "      <td>1197</td>\n",
       "      <td>2016-08-07 16:00:00</td>\n",
       "    </tr>\n",
       "    <tr>\n",
       "      <th>5</th>\n",
       "      <td>5440872</td>\n",
       "      <td>1197</td>\n",
       "      <td>2016-08-12 08:00:00</td>\n",
       "    </tr>\n",
       "    <tr>\n",
       "      <th>6</th>\n",
       "      <td>19918044</td>\n",
       "      <td>1197</td>\n",
       "      <td>2016-09-03 16:00:00</td>\n",
       "    </tr>\n",
       "    <tr>\n",
       "      <th>7</th>\n",
       "      <td>9476039</td>\n",
       "      <td>1197</td>\n",
       "      <td>2016-09-04 17:00:00</td>\n",
       "    </tr>\n",
       "    <tr>\n",
       "      <th>8</th>\n",
       "      <td>4081995</td>\n",
       "      <td>1197</td>\n",
       "      <td>2016-09-25 10:00:00</td>\n",
       "    </tr>\n",
       "    <tr>\n",
       "      <th>9</th>\n",
       "      <td>12594529</td>\n",
       "      <td>1197</td>\n",
       "      <td>2016-08-07 16:00:00</td>\n",
       "    </tr>\n",
       "  </tbody>\n",
       "</table>\n",
       "</div>"
      ],
      "text/plain": [
       "    user_id  shop_id           time_stamp\n",
       "0  13201967     1197  2016-10-21 18:00:00\n",
       "1  19461365     1197  2016-06-28 23:00:00\n",
       "2  15022321     1197  2016-07-16 19:00:00\n",
       "3   5440872     1197  2016-07-15 07:00:00\n",
       "4  12594529     1197  2016-08-07 16:00:00\n",
       "5   5440872     1197  2016-08-12 08:00:00\n",
       "6  19918044     1197  2016-09-03 16:00:00\n",
       "7   9476039     1197  2016-09-04 17:00:00\n",
       "8   4081995     1197  2016-09-25 10:00:00\n",
       "9  12594529     1197  2016-08-07 16:00:00"
      ]
     },
     "execution_count": 6,
     "metadata": {},
     "output_type": "execute_result"
    }
   ],
   "source": [
    "pd.read_sql_query(\"select * from user_view limit 10\", con = conn)"
   ]
  },
  {
   "cell_type": "markdown",
   "metadata": {
    "slideshow": {
     "slide_type": "fragment"
    }
   },
   "source": [
    "### User Purchase logs"
   ]
  },
  {
   "cell_type": "code",
   "execution_count": 7,
   "metadata": {
    "collapsed": false,
    "scrolled": true,
    "slideshow": {
     "slide_type": "fragment"
    }
   },
   "outputs": [
    {
     "data": {
      "text/html": [
       "<div>\n",
       "<table border=\"1\" class=\"dataframe\">\n",
       "  <thead>\n",
       "    <tr style=\"text-align: right;\">\n",
       "      <th></th>\n",
       "      <th>user_id</th>\n",
       "      <th>shop_id</th>\n",
       "      <th>time_stamp</th>\n",
       "    </tr>\n",
       "  </thead>\n",
       "  <tbody>\n",
       "    <tr>\n",
       "      <th>0</th>\n",
       "      <td>22127870</td>\n",
       "      <td>1862</td>\n",
       "      <td>2015-12-25 17:00:00</td>\n",
       "    </tr>\n",
       "    <tr>\n",
       "      <th>1</th>\n",
       "      <td>3434231</td>\n",
       "      <td>1862</td>\n",
       "      <td>2016-10-05 11:00:00</td>\n",
       "    </tr>\n",
       "    <tr>\n",
       "      <th>2</th>\n",
       "      <td>16955285</td>\n",
       "      <td>1862</td>\n",
       "      <td>2016-02-10 15:00:00</td>\n",
       "    </tr>\n",
       "    <tr>\n",
       "      <th>3</th>\n",
       "      <td>13799128</td>\n",
       "      <td>1862</td>\n",
       "      <td>2016-01-13 14:00:00</td>\n",
       "    </tr>\n",
       "    <tr>\n",
       "      <th>4</th>\n",
       "      <td>13799128</td>\n",
       "      <td>1862</td>\n",
       "      <td>2016-07-05 12:00:00</td>\n",
       "    </tr>\n",
       "    <tr>\n",
       "      <th>5</th>\n",
       "      <td>20244878</td>\n",
       "      <td>1862</td>\n",
       "      <td>2016-09-17 15:00:00</td>\n",
       "    </tr>\n",
       "    <tr>\n",
       "      <th>6</th>\n",
       "      <td>20244878</td>\n",
       "      <td>1862</td>\n",
       "      <td>2016-05-29 16:00:00</td>\n",
       "    </tr>\n",
       "    <tr>\n",
       "      <th>7</th>\n",
       "      <td>438444</td>\n",
       "      <td>1862</td>\n",
       "      <td>2016-02-22 17:00:00</td>\n",
       "    </tr>\n",
       "    <tr>\n",
       "      <th>8</th>\n",
       "      <td>22003193</td>\n",
       "      <td>1862</td>\n",
       "      <td>2016-08-07 15:00:00</td>\n",
       "    </tr>\n",
       "    <tr>\n",
       "      <th>9</th>\n",
       "      <td>20244878</td>\n",
       "      <td>1862</td>\n",
       "      <td>2016-04-17 16:00:00</td>\n",
       "    </tr>\n",
       "  </tbody>\n",
       "</table>\n",
       "</div>"
      ],
      "text/plain": [
       "    user_id  shop_id           time_stamp\n",
       "0  22127870     1862  2015-12-25 17:00:00\n",
       "1   3434231     1862  2016-10-05 11:00:00\n",
       "2  16955285     1862  2016-02-10 15:00:00\n",
       "3  13799128     1862  2016-01-13 14:00:00\n",
       "4  13799128     1862  2016-07-05 12:00:00\n",
       "5  20244878     1862  2016-09-17 15:00:00\n",
       "6  20244878     1862  2016-05-29 16:00:00\n",
       "7    438444     1862  2016-02-22 17:00:00\n",
       "8  22003193     1862  2016-08-07 15:00:00\n",
       "9  20244878     1862  2016-04-17 16:00:00"
      ]
     },
     "execution_count": 7,
     "metadata": {},
     "output_type": "execute_result"
    }
   ],
   "source": [
    "pd.read_sql_query(\"select * from user_pay limit 10\", con = conn)"
   ]
  },
  {
   "cell_type": "code",
   "execution_count": 8,
   "metadata": {
    "collapsed": true,
    "slideshow": {
     "slide_type": "skip"
    }
   },
   "outputs": [],
   "source": [
    "query1 = \"select max(shop_id), min(shop_id),\\\n",
    "        avg(shop_id) from shop_info\";"
   ]
  },
  {
   "cell_type": "code",
   "execution_count": 9,
   "metadata": {
    "collapsed": false,
    "slideshow": {
     "slide_type": "notes"
    }
   },
   "outputs": [
    {
     "data": {
      "text/html": [
       "<div>\n",
       "<table border=\"1\" class=\"dataframe\">\n",
       "  <thead>\n",
       "    <tr style=\"text-align: right;\">\n",
       "      <th></th>\n",
       "      <th>max(shop_id)</th>\n",
       "      <th>min(shop_id)</th>\n",
       "      <th>avg(shop_id)</th>\n",
       "    </tr>\n",
       "  </thead>\n",
       "  <tbody>\n",
       "    <tr>\n",
       "      <th>0</th>\n",
       "      <td>2000</td>\n",
       "      <td>1</td>\n",
       "      <td>1000.5</td>\n",
       "    </tr>\n",
       "  </tbody>\n",
       "</table>\n",
       "</div>"
      ],
      "text/plain": [
       "   max(shop_id)  min(shop_id)  avg(shop_id)\n",
       "0          2000             1        1000.5"
      ]
     },
     "execution_count": 9,
     "metadata": {},
     "output_type": "execute_result"
    }
   ],
   "source": [
    "pd.read_sql_query(query1, conn)"
   ]
  },
  {
   "cell_type": "code",
   "execution_count": 10,
   "metadata": {
    "collapsed": false,
    "slideshow": {
     "slide_type": "skip"
    }
   },
   "outputs": [],
   "source": [
    "def create_sample_tables(sample_shop_count = 1):\n",
    "    \n",
    "    import random\n",
    "    sample_shop_ids = [random.randint(0, 2001) \n",
    "                       for i in range(0,sample_shop_count)]\n",
    "    #sample_shop_ids\n",
    "    #from IPython.core.debugger import Tracer; Tracer()() \n",
    "    \n",
    "    conn.execute(\"drop table sample_user_pay\")\n",
    "    conn.execute(\"create table sample_user_pay \\\n",
    "AS select * from user_pay where \\\n",
    "shop_id in \" + \n",
    "            str(sample_shop_ids)\n",
    "            .replace(\"[\", \"(\")\n",
    "            .replace(\"]\",\")\"))\n",
    "\n",
    "    conn.execute(\"drop table sample_user_view\")\n",
    "    conn.execute(\"create table sample_user_view \\\n",
    "AS select * from user_view where \\\n",
    "shop_id in \" + \n",
    "            str(sample_shop_ids)\n",
    "            .replace(\"[\", \"(\")\n",
    "            .replace(\"]\",\")\"))\n",
    "\n",
    "    conn.execute(\"drop table sample_shop_info\")\n",
    "    conn.execute(\"create table sample_shop_info \\\n",
    "AS select * from shop_info where \\\n",
    "shop_id in \" + \n",
    "            str(sample_shop_ids)\n",
    "            .replace(\"[\", \"(\")\n",
    "            .replace(\"]\",\")\"))\n",
    "\n",
    "    pd.read_sql(\"select count(*) from sample_user_pay\", conn)\n",
    "    pd.read_sql(\"select count(*) from sample_user_view\", conn)\n",
    "\n",
    "    pd.read_sql(\"select count(*) from sample_shop_info\", conn)"
   ]
  },
  {
   "cell_type": "markdown",
   "metadata": {
    "slideshow": {
     "slide_type": "slide"
    }
   },
   "source": [
    "## Grouping foot traffic on daily basis\n",
    "The \"as is\" data is an instance based time entry log of user activity, however, our final goal is to predict total expected user activity for a given day. Hence, we will summarize the current data to get total user activity for a given day, on a per shop basis."
   ]
  },
  {
   "cell_type": "code",
   "execution_count": 11,
   "metadata": {
    "collapsed": false,
    "slideshow": {
     "slide_type": "skip"
    }
   },
   "outputs": [],
   "source": [
    "def fill_missing_dates(df):\n",
    "    df.loc[:,\"ts\"] = pd.to_datetime(df.ts)\n",
    "    \n",
    "    #Re-index to fill missing dates\n",
    "    date_range = pd.date_range(df.ts.min(), df.ts.max())\n",
    "    df.set_index(['shop_id', 'ts'], inplace = True, drop = True)\n",
    "    df =  df.reindex(date_range, level = 1)\n",
    "    return df\n",
    "\n",
    "def resample_minute_to_daily_and_combine():    \n",
    "    #def resample_minute_to_daily_and_combine():\n",
    "    conn.execute(\"drop table sample_user_view_grouped\")\n",
    "    conn.execute(\"create table sample_user_view_grouped AS \\\n",
    "    select shop_id, count(*) as total_view, date(time_stamp) as ts \\\n",
    "    from sample_user_view group by shop_id, \\\n",
    "    date(time_stamp)\")\n",
    "    conn.execute(\"drop table sample_user_pay_grouped\")\n",
    "    conn.execute(\"create table sample_user_pay_grouped AS \\\n",
    "    select shop_id, count(*) as total_pay, date(time_stamp) as ts \\\n",
    "    from sample_user_pay group by shop_id, \\\n",
    "    date(time_stamp)\")\n",
    "\n",
    "    df_user_view = pd.read_sql_query(\"select * from sample_user_view_grouped\", con = conn)\n",
    "    df_user_view = fill_missing_dates(df_user_view)\n",
    "    df_user_pay = pd.read_sql_query(\"select * from sample_user_pay_grouped\", con = conn)\n",
    "    df_user_pay = fill_missing_dates(df_user_pay)\n",
    "    return df_user_view, df_user_pay"
   ]
  },
  {
   "cell_type": "code",
   "execution_count": 12,
   "metadata": {
    "collapsed": false,
    "slideshow": {
     "slide_type": "skip"
    }
   },
   "outputs": [],
   "source": [
    "def prepare_data(shop_id_count = 1, create = False):   \n",
    "    if create:\n",
    "        create_sample_tables(shop_id_count)\n",
    "    df_user_view, df_user_pay = resample_minute_to_daily_and_combine()\n",
    "    df_shop_ts = pd.concat([df_user_view, df_user_pay], \n",
    "                           axis=1)\n",
    "    df_shop_ts.reset_index().to_sql(\"train_data\", con = conn, if_exists = 'replace', index = False)\n",
    "    return df_user_view, df_user_pay, df_shop_ts"
   ]
  },
  {
   "cell_type": "code",
   "execution_count": 13,
   "metadata": {
    "collapsed": false,
    "slideshow": {
     "slide_type": "skip"
    }
   },
   "outputs": [],
   "source": [
    "def aggregate(shop_id):\n",
    "    df_shop_ts_filtered = df_shop_ts.loc[(shop_id,\"2016-07-01\"):,:]\n",
    "\n",
    "    pay_mean = df_shop_ts_filtered.total_pay.mean()\n",
    "    view_mean = df_shop_ts_filtered.total_view.mean()\n",
    "\n",
    "    df_shop_ts_filtered = df_shop_ts_filtered.fillna({\"total_view\":pay_mean, \"total_pay\":view_mean})\n",
    "\n",
    "    df_shop_ts_filtered.loc[shop_id,].plot(subplots = True)\n",
    "\n",
    "    df_shop_ts_filtered.loc[:,\"total_today\"] = df_shop_ts_filtered.loc[:,\"total_pay\"] + df_shop_ts_filtered.loc[:,\"total_view\"]\n",
    "    df_shop_ts_filtered = df_shop_ts_filtered.drop([\"total_view\", \"total_pay\"], axis = 1)\n",
    "    print(df_shop_ts_filtered)\n",
    "\n",
    "    print(df_shop_ts_filtered.total_today.describe())\n",
    "    return df_shop_ts_filtered"
   ]
  },
  {
   "cell_type": "code",
   "execution_count": 14,
   "metadata": {
    "collapsed": false,
    "slideshow": {
     "slide_type": "skip"
    }
   },
   "outputs": [],
   "source": [
    "def tsa(shop_id):\n",
    "\n",
    "    df_shop_ts_filtered_single_shop = aggregate(shop_id).loc[shop_id,:]\n",
    "    \n",
    "    \n",
    "    plt.subplot()\n",
    "    df_shop_ts_filtered_single_shop.total_today.plot(title = \"Daily foot traffic\")\n",
    "\n",
    "    from pandas.tools.plotting import lag_plot\n",
    "    #lag_plot(df_shop_ts_filtered_single_shop.total_today)\n",
    "\n",
    "    from pandas.tools.plotting import autocorrelation_plot\n",
    "    fig, axarr = plt.subplots(2,2,figsize=(17,17))\n",
    "    autocorrelation_plot(df_shop_ts_filtered_single_shop.total_today, ax = axarr[0,0])\n",
    "\n",
    "    df_shop_ts_filtered_single_shop.rolling(window=14, center=False).mean().plot()\n",
    "    df_shop_ts_rolling = df_shop_ts_filtered_single_shop.rolling(window=14, center=False)\n",
    "\n",
    "    df_shop_ts_rolling.min().plot(fig = fig, ax = axarr[1,1])\n",
    "    df_shop_ts_rolling.max().plot(fig = fig, ax = axarr[1,0])\n",
    "    axarr[1,0].set_title('Rolling Min - Period 15 days')\n",
    "    axarr[1,1].set_title('Rolling Max - Period 15 days')\n",
    "\n",
    "    #df_shop_ts_rolling.quantile(0.25).plot()\n",
    "    #df_shop_ts_rolling.quantile(0.5).plot(ax = axarr[0,0])\n",
    "    #df_shop_ts_rolling.quantile(0.75).plot()\n",
    "    df_shop_ts_rolling.mean().plot(fig = fig, ax = axarr[0,1])\n",
    "    axarr[0,1].set_title('Rolling Mean plot - Period 15 days')\n",
    "\n",
    "    try:\n",
    "        import statsmodels.api as sm\n",
    "        df_tsa = df_shop_ts_filtered_single_shop.dropna()\n",
    "        arma_mod_total_today = sm.tsa.ARMA(df_tsa.total_today, order=(2,2))\n",
    "        arma_res_total_today = arma_mod_total_today.fit(trend='nc', disp=-1)\n",
    "        #print(arma_res_total_today.summary())\n",
    "\n",
    "        fig, ax = plt.subplots() #figsize=(10,8)\n",
    "        fig = arma_res_total_today.plot_predict(start='2016-08-01',\n",
    "                                         end='2016-10-30', \n",
    "                                         ax=ax,\n",
    "                                        dynamic=True\n",
    "                                        )\n",
    "        legend = ax.legend(loc='upper left')\n",
    "    except Exception as e:\n",
    "        print(\"***********\")\n",
    "        print (e)\n",
    "        print(\"***********\")"
   ]
  },
  {
   "cell_type": "code",
   "execution_count": 15,
   "metadata": {
    "collapsed": false,
    "slideshow": {
     "slide_type": "skip"
    }
   },
   "outputs": [],
   "source": [
    "df_user_view, df_user_pay, df_shop_ts = prepare_data(2000, True)"
   ]
  },
  {
   "cell_type": "markdown",
   "metadata": {
    "slideshow": {
     "slide_type": "slide"
    }
   },
   "source": [
    "### Data grouped based on daily user visit"
   ]
  },
  {
   "cell_type": "code",
   "execution_count": 16,
   "metadata": {
    "collapsed": false,
    "slideshow": {
     "slide_type": "subslide"
    }
   },
   "outputs": [
    {
     "data": {
      "text/html": [
       "<div>\n",
       "<table border=\"1\" class=\"dataframe\">\n",
       "  <thead>\n",
       "    <tr style=\"text-align: right;\">\n",
       "      <th></th>\n",
       "      <th></th>\n",
       "      <th>total_view</th>\n",
       "    </tr>\n",
       "    <tr>\n",
       "      <th>shop_id</th>\n",
       "      <th>ts</th>\n",
       "      <th></th>\n",
       "    </tr>\n",
       "  </thead>\n",
       "  <tbody>\n",
       "    <tr>\n",
       "      <th rowspan=\"7\" valign=\"top\">1</th>\n",
       "      <th>2016-06-22</th>\n",
       "      <td>10</td>\n",
       "    </tr>\n",
       "    <tr>\n",
       "      <th>2016-06-23</th>\n",
       "      <td>18</td>\n",
       "    </tr>\n",
       "    <tr>\n",
       "      <th>2016-06-24</th>\n",
       "      <td>5</td>\n",
       "    </tr>\n",
       "    <tr>\n",
       "      <th>2016-06-25</th>\n",
       "      <td>22</td>\n",
       "    </tr>\n",
       "    <tr>\n",
       "      <th>2016-06-26</th>\n",
       "      <td>15</td>\n",
       "    </tr>\n",
       "    <tr>\n",
       "      <th>2016-06-27</th>\n",
       "      <td>12</td>\n",
       "    </tr>\n",
       "    <tr>\n",
       "      <th>2016-06-28</th>\n",
       "      <td>12</td>\n",
       "    </tr>\n",
       "    <tr>\n",
       "      <th>...</th>\n",
       "      <th>...</th>\n",
       "      <td>...</td>\n",
       "    </tr>\n",
       "    <tr>\n",
       "      <th rowspan=\"7\" valign=\"top\">2000</th>\n",
       "      <th>2016-10-25</th>\n",
       "      <td>14</td>\n",
       "    </tr>\n",
       "    <tr>\n",
       "      <th>2016-10-26</th>\n",
       "      <td>13</td>\n",
       "    </tr>\n",
       "    <tr>\n",
       "      <th>2016-10-27</th>\n",
       "      <td>16</td>\n",
       "    </tr>\n",
       "    <tr>\n",
       "      <th>2016-10-28</th>\n",
       "      <td>12</td>\n",
       "    </tr>\n",
       "    <tr>\n",
       "      <th>2016-10-29</th>\n",
       "      <td>11</td>\n",
       "    </tr>\n",
       "    <tr>\n",
       "      <th>2016-10-30</th>\n",
       "      <td>3</td>\n",
       "    </tr>\n",
       "    <tr>\n",
       "      <th>2016-10-31</th>\n",
       "      <td>15</td>\n",
       "    </tr>\n",
       "  </tbody>\n",
       "</table>\n",
       "<p>147722 rows × 1 columns</p>\n",
       "</div>"
      ],
      "text/plain": [
       "                    total_view\n",
       "shop_id ts                    \n",
       "1       2016-06-22          10\n",
       "        2016-06-23          18\n",
       "        2016-06-24           5\n",
       "        2016-06-25          22\n",
       "        2016-06-26          15\n",
       "        2016-06-27          12\n",
       "        2016-06-28          12\n",
       "...                        ...\n",
       "2000    2016-10-25          14\n",
       "        2016-10-26          13\n",
       "        2016-10-27          16\n",
       "        2016-10-28          12\n",
       "        2016-10-29          11\n",
       "        2016-10-30           3\n",
       "        2016-10-31          15\n",
       "\n",
       "[147722 rows x 1 columns]"
      ]
     },
     "execution_count": 16,
     "metadata": {},
     "output_type": "execute_result"
    }
   ],
   "source": [
    "df_user_view"
   ]
  },
  {
   "cell_type": "markdown",
   "metadata": {
    "slideshow": {
     "slide_type": "subslide"
    }
   },
   "source": [
    "### Data grouped based on User purchases"
   ]
  },
  {
   "cell_type": "code",
   "execution_count": 17,
   "metadata": {
    "collapsed": false,
    "scrolled": true,
    "slideshow": {
     "slide_type": "fragment"
    }
   },
   "outputs": [
    {
     "data": {
      "text/html": [
       "<div>\n",
       "<table border=\"1\" class=\"dataframe\">\n",
       "  <thead>\n",
       "    <tr style=\"text-align: right;\">\n",
       "      <th></th>\n",
       "      <th></th>\n",
       "      <th>total_pay</th>\n",
       "    </tr>\n",
       "    <tr>\n",
       "      <th>shop_id</th>\n",
       "      <th>ts</th>\n",
       "      <th></th>\n",
       "    </tr>\n",
       "  </thead>\n",
       "  <tbody>\n",
       "    <tr>\n",
       "      <th rowspan=\"7\" valign=\"top\">1</th>\n",
       "      <th>2015-10-10</th>\n",
       "      <td>188</td>\n",
       "    </tr>\n",
       "    <tr>\n",
       "      <th>2015-10-11</th>\n",
       "      <td>272</td>\n",
       "    </tr>\n",
       "    <tr>\n",
       "      <th>2015-10-12</th>\n",
       "      <td>257</td>\n",
       "    </tr>\n",
       "    <tr>\n",
       "      <th>2015-10-13</th>\n",
       "      <td>239</td>\n",
       "    </tr>\n",
       "    <tr>\n",
       "      <th>2015-10-14</th>\n",
       "      <td>277</td>\n",
       "    </tr>\n",
       "    <tr>\n",
       "      <th>2015-10-15</th>\n",
       "      <td>227</td>\n",
       "    </tr>\n",
       "    <tr>\n",
       "      <th>2015-10-16</th>\n",
       "      <td>242</td>\n",
       "    </tr>\n",
       "    <tr>\n",
       "      <th>...</th>\n",
       "      <th>...</th>\n",
       "      <td>...</td>\n",
       "    </tr>\n",
       "    <tr>\n",
       "      <th rowspan=\"7\" valign=\"top\">2000</th>\n",
       "      <th>2016-10-25</th>\n",
       "      <td>181</td>\n",
       "    </tr>\n",
       "    <tr>\n",
       "      <th>2016-10-26</th>\n",
       "      <td>184</td>\n",
       "    </tr>\n",
       "    <tr>\n",
       "      <th>2016-10-27</th>\n",
       "      <td>132</td>\n",
       "    </tr>\n",
       "    <tr>\n",
       "      <th>2016-10-28</th>\n",
       "      <td>133</td>\n",
       "    </tr>\n",
       "    <tr>\n",
       "      <th>2016-10-29</th>\n",
       "      <td>67</td>\n",
       "    </tr>\n",
       "    <tr>\n",
       "      <th>2016-10-30</th>\n",
       "      <td>67</td>\n",
       "    </tr>\n",
       "    <tr>\n",
       "      <th>2016-10-31</th>\n",
       "      <td>168</td>\n",
       "    </tr>\n",
       "  </tbody>\n",
       "</table>\n",
       "<p>376125 rows × 1 columns</p>\n",
       "</div>"
      ],
      "text/plain": [
       "                    total_pay\n",
       "shop_id ts                   \n",
       "1       2015-10-10        188\n",
       "        2015-10-11        272\n",
       "        2015-10-12        257\n",
       "        2015-10-13        239\n",
       "        2015-10-14        277\n",
       "        2015-10-15        227\n",
       "        2015-10-16        242\n",
       "...                       ...\n",
       "2000    2016-10-25        181\n",
       "        2016-10-26        184\n",
       "        2016-10-27        132\n",
       "        2016-10-28        133\n",
       "        2016-10-29         67\n",
       "        2016-10-30         67\n",
       "        2016-10-31        168\n",
       "\n",
       "[376125 rows x 1 columns]"
      ]
     },
     "execution_count": 17,
     "metadata": {},
     "output_type": "execute_result"
    }
   ],
   "source": [
    "df_user_pay"
   ]
  },
  {
   "cell_type": "markdown",
   "metadata": {
    "slideshow": {
     "slide_type": "slide"
    }
   },
   "source": [
    "## Knowns and Unknowns\n",
    "Let's brainstorm how to tackle the data\n",
    "\n",
    "#### Knowns\n",
    "- Daily total presence of user in a given shop\n",
    "- Popularity of a given shop\n",
    "- Category of a given shop\n",
    "- Koibei.com's score of a given shop\n",
    "- Publicaly available data - Weather, Public holidays, Day of week, Season ...\n",
    "\n",
    "#### Unknowns\n",
    "- Behavior of data\n",
    "    * We don't know whether data obeys concepts of Seasonality and Stationarity\n",
    "    * Whether pattern of each shop is statistically comparable or should we design a different system for each given shop.\n",
    "    * Whether data is linearly separable\n",
    "    * Correlation / Causation of shop characteristics on the given foot-traffic\n",
    "    * As this is sparse data, we need to understand how to statistically fill the missing data.\n",
    "    * Whether given data features are enough for successful prediction or "
   ]
  },
  {
   "cell_type": "markdown",
   "metadata": {
    "slideshow": {
     "slide_type": "slide"
    }
   },
   "source": [
    "## Statistical Learning Approach\n",
    "\n",
    "### Time Series Analysis\n",
    "\n",
    "We will be performing TSA on a given store only. Below code picks up a store randomly and plots:\n",
    "- Foot traffic trend\n",
    "- Auto-Correlation\n",
    "- Rolling Statistics\n",
    "    * Min\n",
    "    * Max\n",
    "    * Mean\n",
    "- ARMA forecast\n"
   ]
  },
  {
   "cell_type": "code",
   "execution_count": 18,
   "metadata": {
    "collapsed": false,
    "scrolled": false,
    "slideshow": {
     "slide_type": "subslide"
    }
   },
   "outputs": [
    {
     "name": "stdout",
     "output_type": "stream",
     "text": [
      "Sample shop id for TSA: \n",
      "787\n",
      "                    total_today\n",
      "shop_id ts                     \n",
      "787     2016-07-01        175.0\n",
      "        2016-07-02        200.0\n",
      "        2016-07-03        204.0\n",
      "        2016-07-04        154.0\n",
      "        2016-07-05        160.0\n",
      "        2016-07-06        189.0\n",
      "        2016-07-07        228.0\n",
      "...                         ...\n",
      "2000    2016-10-25        195.0\n",
      "        2016-10-26        197.0\n",
      "        2016-10-27        148.0\n",
      "        2016-10-28        145.0\n",
      "        2016-10-29         78.0\n",
      "        2016-10-30         70.0\n",
      "        2016-10-31        183.0\n",
      "\n",
      "[232017 rows x 1 columns]\n",
      "count    232017.000000\n",
      "mean        196.809946\n",
      "std         151.901365\n",
      "min           2.000000\n",
      "25%         130.115109\n",
      "50%         172.115109\n",
      "75%         223.115109\n",
      "max        5633.533373\n",
      "Name: total_today, dtype: float64\n"
     ]
    },
    {
     "data": {
      "image/png": "[encoded data removed]",
      "text/plain": [
       "<matplotlib.figure.Figure at 0x7f95b6533668>"
      ]
     },
     "metadata": {},
     "output_type": "display_data"
    },
    {
     "data": {
      "image/png": "[encoded data removed]",
      "text/plain": [
       "<matplotlib.figure.Figure at 0x7f95b0861390>"
      ]
     },
     "metadata": {},
     "output_type": "display_data"
    },
    {
     "data": {
      "image/png": "[encoded data removed]",
      "text/plain": [
       "<matplotlib.figure.Figure at 0x7f95b0ffc940>"
      ]
     },
     "metadata": {},
     "output_type": "display_data"
    },
    {
     "data": {
      "image/png": "[encoded data removed]",
      "text/plain": [
       "<matplotlib.figure.Figure at 0x7f95a503ff98>"
      ]
     },
     "metadata": {},
     "output_type": "display_data"
    }
   ],
   "source": [
    "shop_index = df_shop_ts.index.levels[0].get_values()\n",
    "i = np.random.randint(low = 0, high = len(shop_index), size = 1) #shop_index.get_values()\n",
    "shop_id = shop_index[i][0]\n",
    "print(\"Sample shop id for TSA: \" )\n",
    "print(shop_id)\n",
    "\n",
    "tsa(shop_id)"
   ]
  },
  {
   "cell_type": "code",
   "execution_count": null,
   "metadata": {
    "collapsed": true,
    "slideshow": {
     "slide_type": "skip"
    }
   },
   "outputs": [],
   "source": []
  }
 ],
 "metadata": {
  "celltoolbar": "Slideshow",
  "kernelspec": {
   "display_name": "Python 3",
   "language": "python",
   "name": "python3"
  },
  "language_info": {
   "codemirror_mode": {
    "name": "ipython",
    "version": 3
   },
   "file_extension": ".py",
   "mimetype": "text/x-python",
   "name": "python",
   "nbconvert_exporter": "python",
   "pygments_lexer": "ipython3",
   "version": "3.5.2"
  }
 },
 "nbformat": 4,
 "nbformat_minor": 2
}
